{
 "cells": [
  {
   "cell_type": "markdown",
   "metadata": {
    "id": "r6irAPO4rMBU"
   },
   "source": [
    "# Elliptic Data Fraud Prediction \n",
    "\n",
    "\n",
    "## Dataset\n",
    "\n",
    "The dataset for this project is the Elliptic Dataset, which records bitcoin transactions for the purpose of identifying licit vs ilicit bitcoin transactions.\n",
    "\n",
    "## Sections\n",
    "0. Introduction\n",
    "1. Exploratory data analysis\n",
    "2. Development of traditional machine learning models for licit vs ilicit classification\n",
    "3. Development of deep learning models for licit vs ilicit classification\n",
    "4. Results : Comparison of models \n",
    "5. Discussion & Limitations\n",
    "\n",
    "\n",
    "## Elliptic Dataset Overview\n",
    "\n",
    "The Elliptic Dataset is a graph network of Bitcoin transactions with handcrafted features. All features are constructed using only publicly available information.\n",
    "\n",
    "The Elliptic DataSet maps Bitcoin transactions to real entities in two categories:\n",
    "\n",
    "- __Licit__: exchanges, wallet providers, miners, licit services, etc.\n",
    "- __Ilicit__: scams, malware, terrorist, organization, ransomware, Ponzi shcemes, etc\n",
    "A given transaction is licit if the entity that generated it was licit.\n",
    "\n",
    "- **Graph** \n",
    "  - __Nodes__ : 203,769 node transactions \n",
    "  - __Edges__ : 234,355 directed edge payments flows. \n",
    "  - 2% are ilicit (Class 1), 21% are licit (Class 2)\n",
    "\n",
    "- __Features__ 166 features in each node.\n",
    "  - 94 features : local information (timestep, number of inputs/outputs, transaction fee, output volume and aggregated figures) \n",
    "    - normalized with range of numbers \n",
    "  - 72 features : aggregated features (obtained by aggregating transaction information such as maximum, minimum, standard deviation, correlation coefficients of one hop neighbor transactions).\n",
    "  - visible feature : Tx id, Time_stamp\n",
    "\n",
    "- __Temporal Information__ \n",
    "  - 49 distinct timesteps evenly spaced with an interval of 2 weeks associated with each node, when the transaction is confirmed.\n",
    "\n",
    "\n",
    "- __Data Files__\n",
    "  - elliptic_txs_edgelist.csv contains graph edges information;\n",
    "  - elliptic_txs_classes.csv contains information about legality of transactions;\n",
    "  - elliptic_txs_features.csv contains information about transaction features; \n",
    "\n",
    "\n",
    "- __Data source__ M. Weber, G. Domeniconi, J. Chen, D. K. I. Weidele, C. Bellei, T. Robinson, C. E. Leiserson, \"Anti-Money Laundering in Bitcoin: Experimenting with Graph Convolutional Networks for Financial Forensics\", KDD ’19 Workshop on Anomaly Detection in Finance, August 2019, Anchorage, AK, USA."
   ]
  },
  {
   "cell_type": "markdown",
   "metadata": {
    "id": "FuIP3UI9s9Us"
   },
   "source": [
    "# Loading libraries and data"
   ]
  },
  {
   "cell_type": "code",
   "execution_count": null,
   "metadata": {
    "colab": {
     "base_uri": "https://localhost:8080/"
    },
    "id": "j_JWsQwznTsv",
    "outputId": "48d2c50f-9418-4435-fca6-a63ece01ca7f"
   },
   "outputs": [
    {
     "name": "stdout",
     "output_type": "stream",
     "text": [
      "Requirement already satisfied: imblearn in /usr/local/lib/python3.7/dist-packages (0.0)\n",
      "Requirement already satisfied: imbalanced-learn in /usr/local/lib/python3.7/dist-packages (from imblearn) (0.8.1)\n",
      "Requirement already satisfied: scikit-learn>=0.24 in /usr/local/lib/python3.7/dist-packages (from imbalanced-learn->imblearn) (1.0.1)\n",
      "Requirement already satisfied: scipy>=0.19.1 in /usr/local/lib/python3.7/dist-packages (from imbalanced-learn->imblearn) (1.4.1)\n",
      "Requirement already satisfied: joblib>=0.11 in /usr/local/lib/python3.7/dist-packages (from imbalanced-learn->imblearn) (1.1.0)\n",
      "Requirement already satisfied: numpy>=1.13.3 in /usr/local/lib/python3.7/dist-packages (from imbalanced-learn->imblearn) (1.19.5)\n",
      "Requirement already satisfied: threadpoolctl>=2.0.0 in /usr/local/lib/python3.7/dist-packages (from scikit-learn>=0.24->imbalanced-learn->imblearn) (3.0.0)\n",
      "Requirement already satisfied: pandasql in /usr/local/lib/python3.7/dist-packages (0.7.3)\n",
      "Requirement already satisfied: pandas in /usr/local/lib/python3.7/dist-packages (from pandasql) (1.1.5)\n",
      "Requirement already satisfied: numpy in /usr/local/lib/python3.7/dist-packages (from pandasql) (1.19.5)\n",
      "Requirement already satisfied: sqlalchemy in /usr/local/lib/python3.7/dist-packages (from pandasql) (1.4.27)\n",
      "Requirement already satisfied: pytz>=2017.2 in /usr/local/lib/python3.7/dist-packages (from pandas->pandasql) (2018.9)\n",
      "Requirement already satisfied: python-dateutil>=2.7.3 in /usr/local/lib/python3.7/dist-packages (from pandas->pandasql) (2.8.2)\n",
      "Requirement already satisfied: six>=1.5 in /usr/local/lib/python3.7/dist-packages (from python-dateutil>=2.7.3->pandas->pandasql) (1.15.0)\n",
      "Requirement already satisfied: greenlet!=0.4.17 in /usr/local/lib/python3.7/dist-packages (from sqlalchemy->pandasql) (1.1.2)\n",
      "Requirement already satisfied: importlib-metadata in /usr/local/lib/python3.7/dist-packages (from sqlalchemy->pandasql) (4.8.2)\n",
      "Requirement already satisfied: zipp>=0.5 in /usr/local/lib/python3.7/dist-packages (from importlib-metadata->sqlalchemy->pandasql) (3.6.0)\n",
      "Requirement already satisfied: typing-extensions>=3.6.4 in /usr/local/lib/python3.7/dist-packages (from importlib-metadata->sqlalchemy->pandasql) (3.10.0.2)\n",
      "Looking in links: https://data.pyg.org/whl/torch-1.10.0+cu111.html\n",
      "Requirement already satisfied: torch-scatter in /usr/local/lib/python3.7/dist-packages (2.0.9)\n",
      "Looking in links: https://data.pyg.org/whl/torch-1.10.0+cu111.html\n",
      "Requirement already satisfied: torch-sparse in /usr/local/lib/python3.7/dist-packages (0.6.12)\n",
      "Requirement already satisfied: scipy in /usr/local/lib/python3.7/dist-packages (from torch-sparse) (1.4.1)\n",
      "Requirement already satisfied: numpy>=1.13.3 in /usr/local/lib/python3.7/dist-packages (from scipy->torch-sparse) (1.19.5)\n",
      "Requirement already satisfied: torch-geometric in /usr/local/lib/python3.7/dist-packages (2.0.2)\n",
      "Requirement already satisfied: networkx in /usr/local/lib/python3.7/dist-packages (from torch-geometric) (2.6.3)\n",
      "Requirement already satisfied: scipy in /usr/local/lib/python3.7/dist-packages (from torch-geometric) (1.4.1)\n",
      "Requirement already satisfied: jinja2 in /usr/local/lib/python3.7/dist-packages (from torch-geometric) (2.11.3)\n",
      "Requirement already satisfied: requests in /usr/local/lib/python3.7/dist-packages (from torch-geometric) (2.23.0)\n",
      "Requirement already satisfied: PyYAML in /usr/local/lib/python3.7/dist-packages (from torch-geometric) (3.13)\n",
      "Requirement already satisfied: pandas in /usr/local/lib/python3.7/dist-packages (from torch-geometric) (1.1.5)\n",
      "Requirement already satisfied: tqdm in /usr/local/lib/python3.7/dist-packages (from torch-geometric) (4.62.3)\n",
      "Requirement already satisfied: yacs in /usr/local/lib/python3.7/dist-packages (from torch-geometric) (0.1.8)\n",
      "Requirement already satisfied: rdflib in /usr/local/lib/python3.7/dist-packages (from torch-geometric) (6.0.2)\n",
      "Requirement already satisfied: googledrivedownloader in /usr/local/lib/python3.7/dist-packages (from torch-geometric) (0.4)\n",
      "Requirement already satisfied: scikit-learn in /usr/local/lib/python3.7/dist-packages (from torch-geometric) (1.0.1)\n",
      "Requirement already satisfied: pyparsing in /usr/local/lib/python3.7/dist-packages (from torch-geometric) (3.0.6)\n",
      "Requirement already satisfied: numpy in /usr/local/lib/python3.7/dist-packages (from torch-geometric) (1.19.5)\n",
      "Requirement already satisfied: MarkupSafe>=0.23 in /usr/local/lib/python3.7/dist-packages (from jinja2->torch-geometric) (2.0.1)\n",
      "Requirement already satisfied: python-dateutil>=2.7.3 in /usr/local/lib/python3.7/dist-packages (from pandas->torch-geometric) (2.8.2)\n",
      "Requirement already satisfied: pytz>=2017.2 in /usr/local/lib/python3.7/dist-packages (from pandas->torch-geometric) (2018.9)\n",
      "Requirement already satisfied: six>=1.5 in /usr/local/lib/python3.7/dist-packages (from python-dateutil>=2.7.3->pandas->torch-geometric) (1.15.0)\n",
      "Requirement already satisfied: setuptools in /usr/local/lib/python3.7/dist-packages (from rdflib->torch-geometric) (57.4.0)\n",
      "Requirement already satisfied: isodate in /usr/local/lib/python3.7/dist-packages (from rdflib->torch-geometric) (0.6.1)\n",
      "Requirement already satisfied: urllib3!=1.25.0,!=1.25.1,<1.26,>=1.21.1 in /usr/local/lib/python3.7/dist-packages (from requests->torch-geometric) (1.24.3)\n",
      "Requirement already satisfied: chardet<4,>=3.0.2 in /usr/local/lib/python3.7/dist-packages (from requests->torch-geometric) (3.0.4)\n",
      "Requirement already satisfied: idna<3,>=2.5 in /usr/local/lib/python3.7/dist-packages (from requests->torch-geometric) (2.10)\n",
      "Requirement already satisfied: certifi>=2017.4.17 in /usr/local/lib/python3.7/dist-packages (from requests->torch-geometric) (2021.10.8)\n",
      "Requirement already satisfied: threadpoolctl>=2.0.0 in /usr/local/lib/python3.7/dist-packages (from scikit-learn->torch-geometric) (3.0.0)\n",
      "Requirement already satisfied: joblib>=0.11 in /usr/local/lib/python3.7/dist-packages (from scikit-learn->torch-geometric) (1.1.0)\n"
     ]
    }
   ],
   "source": [
    "!pip install imblearn\n",
    "!pip install pandasql\n",
    "!pip install torch-scatter -f https://data.pyg.org/whl/torch-1.10.0+cu111.html\n",
    "!pip install torch-sparse -f https://data.pyg.org/whl/torch-1.10.0+cu111.html\n",
    "!pip install torch-geometric\n",
    "import numpy as np\n",
    "import pandas as pd\n",
    "import pandasql as pds\n",
    "import matplotlib.pyplot as plt\n",
    "import seaborn as sns\n",
    "from sklearn.decomposition import PCA\n",
    "from sklearn.preprocessing import StandardScaler\n",
    "from sklearn.model_selection import train_test_split, GridSearchCV\n",
    "from sklearn.linear_model import LogisticRegression\n",
    "from sklearn.ensemble import RandomForestClassifier\n",
    "from sklearn.metrics import accuracy_score, confusion_matrix, precision_score, recall_score, f1_score,classification_report\n",
    "from sklearn.svm import SVC\n",
    "from imblearn.over_sampling import RandomOverSampler\n",
    "from imblearn.under_sampling import RandomUnderSampler\n",
    "import networkx as nx\n",
    "\n",
    "import os\n",
    "import torch\n",
    "from torch_geometric.data import Data\n",
    "from torch_geometric.utils import add_self_loops\n",
    "import torch.nn.functional as F\n",
    "from torch_geometric.nn import GCNConv\n",
    "from sklearn.pipeline import Pipeline\n",
    "import torch.nn.functional as F\n",
    "\n",
    "\n",
    "\n"
   ]
  },
  {
   "cell_type": "code",
   "execution_count": null,
   "metadata": {
    "colab": {
     "base_uri": "https://localhost:8080/"
    },
    "id": "ZxWy_XC172zm",
    "outputId": "e45376e5-905e-483c-bf49-d44dd4fff01b"
   },
   "outputs": [
    {
     "name": "stdout",
     "output_type": "stream",
     "text": [
      "Drive already mounted at /content/drive; to attempt to forcibly remount, call drive.mount(\"/content/drive\", force_remount=True).\n"
     ]
    }
   ],
   "source": [
    "# Load data from Google drive (for using colab )\n",
    "try:\n",
    "    from google.colab import drive\n",
    "    drive.mount('/content/drive')\n",
    "    mount_flag = True\n",
    "except ModuleNotFoundError:\n",
    "    mount_flag = False\n",
    "    "
   ]
  },
  {
   "cell_type": "code",
   "execution_count": null,
   "metadata": {
    "colab": {
     "base_uri": "https://localhost:8080/"
    },
    "id": "k2P-13ub79Lg",
    "outputId": "5e2e483b-4992-419b-d167-aef2e220aeca"
   },
   "outputs": [
    {
     "name": "stdout",
     "output_type": "stream",
     "text": [
      " 1908.02591.pdf\t\t\t elliptic_txs_classes.csv\n",
      " CIS545_Project_combined.ipynb\t elliptic_txs_edgelist.csv\n",
      "'CIS545 Project Proposal.pdf'\t elliptic_txs_features.csv\n",
      "'Copy of CIS545 Project.ipynb'\n"
     ]
    }
   ],
   "source": [
    "# Change the path for yours \n",
    "\n",
    "!ls \"/content/drive/My Drive/Colab Notebooks/CIS545_ Elliptic_Bitcoin Project\""
   ]
  },
  {
   "cell_type": "code",
   "execution_count": null,
   "metadata": {
    "id": "vWYSSN6QI3rN"
   },
   "outputs": [],
   "source": [
    "# Load raw data \n",
    "\n",
    "if mount_flag:\n",
    "    classes = pd.read_csv('/content/drive/MyDrive/Colab Notebooks/CIS545_ Elliptic_Bitcoin Project/elliptic_txs_classes.csv')\n",
    "    features = pd.read_csv('/content/drive/MyDrive/Colab Notebooks/CIS545_ Elliptic_Bitcoin Project/elliptic_txs_features.csv', header=None)\n",
    "    edges = pd.read_csv('/content/drive/MyDrive/Colab Notebooks/CIS545_ Elliptic_Bitcoin Project/elliptic_txs_edgelist.csv')\n",
    "else:\n",
    "    classes = pd.read_csv('../elliptic_bitcoin_dataset/elliptic_txs_classes.csv')\n",
    "    features = pd.read_csv('../elliptic_bitcoin_dataset/elliptic_txs_features.csv', header=None)\n",
    "    edges = pd.read_csv('../elliptic_bitcoin_dataset/elliptic_txs_edgelist.csv')"
   ]
  },
  {
   "cell_type": "code",
   "execution_count": null,
   "metadata": {
    "id": "ODIvUfuzPUMe"
   },
   "outputs": [],
   "source": [
    "# Rename columns : add features numbering and class description\n",
    "features.columns = [\"txId\",\"time_step\"] + [\"x.{}\".format(x) for x in range(1,features.shape[1]-1)]\n",
    "classes[\"class_description\"] = classes[\"class\"].apply(lambda x : \"unknown\" if x == \"unknown\" else (\"licit\" if x == \"2\" else \"illicit\"))\n",
    "\n"
   ]
  },
  {
   "cell_type": "code",
   "execution_count": null,
   "metadata": {
    "id": "bWiyh65snY61"
   },
   "outputs": [],
   "source": [
    "\n",
    "# Combine labels and features\n",
    "df = features.merge(classes, on=\"txId\")\n",
    "labeled = df.loc[df[\"class\"] != \"unknown\"]\n",
    "unlabeled = df.loc[df[\"class\"] == \"unknown\"]\n"
   ]
  },
  {
   "cell_type": "markdown",
   "metadata": {
    "id": "m05-zQiTtFia"
   },
   "source": [
    "# Exploratory Data Analysis\n",
    "\n",
    "\n",
    "__Classes dataset__ \n",
    "We can see tha the dataset is quite imbalanced, with around 200k transactions but only about 25% of them are labeled, and of the 25% only around 2% of them are ilicit. The class imbalance may cause problems in the training of models later.\n",
    "\n",
    "* 4545: illicit, 42019 : licit, and 157205 : unknown. (no null value)\n",
    "\n"
   ]
  },
  {
   "cell_type": "code",
   "execution_count": null,
   "metadata": {
    "colab": {
     "base_uri": "https://localhost:8080/",
     "height": 175
    },
    "id": "Rhz54tD1TX7-",
    "outputId": "f1a01df7-43e4-4c09-df6e-be60a2ecf9c8"
   },
   "outputs": [
    {
     "data": {
      "text/html": [
       "\n",
       "  <div id=\"df-c9d4feb6-35fe-49d0-9757-402c360725be\">\n",
       "    <div class=\"colab-df-container\">\n",
       "      <div>\n",
       "<style scoped>\n",
       "    .dataframe tbody tr th:only-of-type {\n",
       "        vertical-align: middle;\n",
       "    }\n",
       "\n",
       "    .dataframe tbody tr th {\n",
       "        vertical-align: top;\n",
       "    }\n",
       "\n",
       "    .dataframe thead th {\n",
       "        text-align: right;\n",
       "    }\n",
       "</style>\n",
       "<table border=\"1\" class=\"dataframe\">\n",
       "  <thead>\n",
       "    <tr style=\"text-align: right;\">\n",
       "      <th></th>\n",
       "      <th>txId</th>\n",
       "    </tr>\n",
       "    <tr>\n",
       "      <th>class_description</th>\n",
       "      <th></th>\n",
       "    </tr>\n",
       "  </thead>\n",
       "  <tbody>\n",
       "    <tr>\n",
       "      <th>illicit</th>\n",
       "      <td>4545</td>\n",
       "    </tr>\n",
       "    <tr>\n",
       "      <th>licit</th>\n",
       "      <td>42019</td>\n",
       "    </tr>\n",
       "    <tr>\n",
       "      <th>unknown</th>\n",
       "      <td>157205</td>\n",
       "    </tr>\n",
       "  </tbody>\n",
       "</table>\n",
       "</div>\n",
       "      <button class=\"colab-df-convert\" onclick=\"convertToInteractive('df-c9d4feb6-35fe-49d0-9757-402c360725be')\"\n",
       "              title=\"Convert this dataframe to an interactive table.\"\n",
       "              style=\"display:none;\">\n",
       "        \n",
       "  <svg xmlns=\"http://www.w3.org/2000/svg\" height=\"24px\"viewBox=\"0 0 24 24\"\n",
       "       width=\"24px\">\n",
       "    <path d=\"M0 0h24v24H0V0z\" fill=\"none\"/>\n",
       "    <path d=\"M18.56 5.44l.94 2.06.94-2.06 2.06-.94-2.06-.94-.94-2.06-.94 2.06-2.06.94zm-11 1L8.5 8.5l.94-2.06 2.06-.94-2.06-.94L8.5 2.5l-.94 2.06-2.06.94zm10 10l.94 2.06.94-2.06 2.06-.94-2.06-.94-.94-2.06-.94 2.06-2.06.94z\"/><path d=\"M17.41 7.96l-1.37-1.37c-.4-.4-.92-.59-1.43-.59-.52 0-1.04.2-1.43.59L10.3 9.45l-7.72 7.72c-.78.78-.78 2.05 0 2.83L4 21.41c.39.39.9.59 1.41.59.51 0 1.02-.2 1.41-.59l7.78-7.78 2.81-2.81c.8-.78.8-2.07 0-2.86zM5.41 20L4 18.59l7.72-7.72 1.47 1.35L5.41 20z\"/>\n",
       "  </svg>\n",
       "      </button>\n",
       "      \n",
       "  <style>\n",
       "    .colab-df-container {\n",
       "      display:flex;\n",
       "      flex-wrap:wrap;\n",
       "      gap: 12px;\n",
       "    }\n",
       "\n",
       "    .colab-df-convert {\n",
       "      background-color: #E8F0FE;\n",
       "      border: none;\n",
       "      border-radius: 50%;\n",
       "      cursor: pointer;\n",
       "      display: none;\n",
       "      fill: #1967D2;\n",
       "      height: 32px;\n",
       "      padding: 0 0 0 0;\n",
       "      width: 32px;\n",
       "    }\n",
       "\n",
       "    .colab-df-convert:hover {\n",
       "      background-color: #E2EBFA;\n",
       "      box-shadow: 0px 1px 2px rgba(60, 64, 67, 0.3), 0px 1px 3px 1px rgba(60, 64, 67, 0.15);\n",
       "      fill: #174EA6;\n",
       "    }\n",
       "\n",
       "    [theme=dark] .colab-df-convert {\n",
       "      background-color: #3B4455;\n",
       "      fill: #D2E3FC;\n",
       "    }\n",
       "\n",
       "    [theme=dark] .colab-df-convert:hover {\n",
       "      background-color: #434B5C;\n",
       "      box-shadow: 0px 1px 3px 1px rgba(0, 0, 0, 0.15);\n",
       "      filter: drop-shadow(0px 1px 2px rgba(0, 0, 0, 0.3));\n",
       "      fill: #FFFFFF;\n",
       "    }\n",
       "  </style>\n",
       "\n",
       "      <script>\n",
       "        const buttonEl =\n",
       "          document.querySelector('#df-c9d4feb6-35fe-49d0-9757-402c360725be button.colab-df-convert');\n",
       "        buttonEl.style.display =\n",
       "          google.colab.kernel.accessAllowed ? 'block' : 'none';\n",
       "\n",
       "        async function convertToInteractive(key) {\n",
       "          const element = document.querySelector('#df-c9d4feb6-35fe-49d0-9757-402c360725be');\n",
       "          const dataTable =\n",
       "            await google.colab.kernel.invokeFunction('convertToInteractive',\n",
       "                                                     [key], {});\n",
       "          if (!dataTable) return;\n",
       "\n",
       "          const docLinkHtml = 'Like what you see? Visit the ' +\n",
       "            '<a target=\"_blank\" href=https://colab.research.google.com/notebooks/data_table.ipynb>data table notebook</a>'\n",
       "            + ' to learn more about interactive tables.';\n",
       "          element.innerHTML = '';\n",
       "          dataTable['output_type'] = 'display_data';\n",
       "          await google.colab.output.renderOutput(dataTable, element);\n",
       "          const docLink = document.createElement('div');\n",
       "          docLink.innerHTML = docLinkHtml;\n",
       "          element.appendChild(docLink);\n",
       "        }\n",
       "      </script>\n",
       "    </div>\n",
       "  </div>\n",
       "  "
      ],
      "text/plain": [
       "                     txId\n",
       "class_description        \n",
       "illicit              4545\n",
       "licit               42019\n",
       "unknown            157205"
      ]
     },
     "execution_count": 16,
     "metadata": {},
     "output_type": "execute_result"
    }
   ],
   "source": [
    "classes[['txId','class_description']].groupby('class_description').count()"
   ]
  },
  {
   "cell_type": "code",
   "execution_count": null,
   "metadata": {
    "colab": {
     "base_uri": "https://localhost:8080/",
     "height": 295
    },
    "id": "hGRCTwfrqCBq",
    "outputId": "b3a12b45-d8a2-4c71-fe91-72dc2ef5bd08"
   },
   "outputs": [
    {
     "data": {
      "image/png": "[encoded data removed]",
      "text/plain": [
       "<Figure size 432x288 with 2 Axes>"
      ]
     },
     "metadata": {
      "needs_background": "light"
     },
     "output_type": "display_data"
    }
   ],
   "source": [
    "fig, ax = plt.subplots()\n",
    "ax.bar(classes[\"class_description\"].unique(), classes[\"class_description\"].value_counts())\n",
    "ax.set_ylabel(\"Frequency\")\n",
    "ax.set_xlabel(\"Classes\")\n",
    "ax.set_title(\"Distribution of labels in dataset\")\n",
    "ax2 = ax.twinx()\n",
    "ax2.bar(classes[\"class_description\"].unique(), classes[\"class_description\"].value_counts() / classes.shape[0])\n",
    "ax2.set_ylabel(\"Proportion\")\n",
    "plt.show()\n"
   ]
  },
  {
   "cell_type": "markdown",
   "metadata": {
    "id": "dSoyxwX6azka"
   },
   "source": [
    "__Transaction Feature dataset__\n",
    "\n",
    "We can see that there are 167 columns in the dataset with 165 of them being of float type whilst the remaining 2 integer types are the transaction ID and time step. \n",
    "\n",
    "However we are not given much meta data on what these features are or how they were collected.\n",
    "\n",
    "  - 94 features are data collected around local information (timestep, number of inputs/outputs, transaction fee, output volume and aggregated figures). 72 features are obtained by aggregating transaction information such as maximum, minimum, standard deviation, correlation coefficients of one hop neighbor transactions.\n",
    "  - Only visible features are Tx id and Time_stamp\n",
    "\n",
    "  - __neighbour_means__ : Additionally manipulated features ,  we took an advantage of graph data in Elliptic dataset. We combined in_ or out_bound transactions and get means values for all feature areas. \n",
    "    - NOTE : we use negighbour_means graphical features in the end indcluding all models.\n",
    "  "
   ]
  },
  {
   "cell_type": "code",
   "execution_count": null,
   "metadata": {
    "colab": {
     "base_uri": "https://localhost:8080/"
    },
    "id": "WuoH-U3WTO4G",
    "outputId": "c07060f6-b265-44c8-efe1-8a1dd63fbd99"
   },
   "outputs": [
    {
     "name": "stdout",
     "output_type": "stream",
     "text": [
      "<class 'pandas.core.frame.DataFrame'>\n",
      "RangeIndex: 203769 entries, 0 to 203768\n",
      "Columns: 167 entries, txId to x.165\n",
      "dtypes: float64(165), int64(2)\n",
      "memory usage: 259.6 MB\n"
     ]
    }
   ],
   "source": [
    "features.info()"
   ]
  },
  {
   "cell_type": "code",
   "execution_count": null,
   "metadata": {
    "colab": {
     "base_uri": "https://localhost:8080/",
     "height": 295
    },
    "id": "PQX4vk9erD2Q",
    "outputId": "8157a779-3213-40c3-949a-130c82034fde"
   },
   "outputs": [
    {
     "data": {
      "image/png": "[encoded data removed]",
      "text/plain": [
       "<Figure size 432x288 with 1 Axes>"
      ]
     },
     "metadata": {
      "needs_background": "light"
     },
     "output_type": "display_data"
    }
   ],
   "source": [
    "plt.bar([str(x) for x in features.dtypes.value_counts().index], features.dtypes.value_counts())\n",
    "plt.ylabel(\"Frequency\")\n",
    "plt.xlabel(\"Variable type\")\n",
    "plt.title(\"Feature data types\")\n",
    "plt.show()"
   ]
  },
  {
   "cell_type": "markdown",
   "metadata": {
    "id": "9-v2h6rI4Ss1"
   },
   "source": [
    "__Edgelist dataset for graph__ \n",
    "\n",
    "*  txId1 : from node\n",
    "*  txId2 : to node"
   ]
  },
  {
   "cell_type": "code",
   "execution_count": null,
   "metadata": {
    "colab": {
     "base_uri": "https://localhost:8080/",
     "height": 143
    },
    "id": "FR1Fh0-e4VE8",
    "outputId": "8373304b-732e-4b0d-b2a4-a9f544b15870"
   },
   "outputs": [
    {
     "data": {
      "text/html": [
       "\n",
       "  <div id=\"df-b9874038-cd6b-42cf-8d75-9f410e5dcd4d\">\n",
       "    <div class=\"colab-df-container\">\n",
       "      <div>\n",
       "<style scoped>\n",
       "    .dataframe tbody tr th:only-of-type {\n",
       "        vertical-align: middle;\n",
       "    }\n",
       "\n",
       "    .dataframe tbody tr th {\n",
       "        vertical-align: top;\n",
       "    }\n",
       "\n",
       "    .dataframe thead th {\n",
       "        text-align: right;\n",
       "    }\n",
       "</style>\n",
       "<table border=\"1\" class=\"dataframe\">\n",
       "  <thead>\n",
       "    <tr style=\"text-align: right;\">\n",
       "      <th></th>\n",
       "      <th>txId1</th>\n",
       "      <th>txId2</th>\n",
       "    </tr>\n",
       "  </thead>\n",
       "  <tbody>\n",
       "    <tr>\n",
       "      <th>0</th>\n",
       "      <td>230425980</td>\n",
       "      <td>5530458</td>\n",
       "    </tr>\n",
       "    <tr>\n",
       "      <th>1</th>\n",
       "      <td>232022460</td>\n",
       "      <td>232438397</td>\n",
       "    </tr>\n",
       "    <tr>\n",
       "      <th>2</th>\n",
       "      <td>230460314</td>\n",
       "      <td>230459870</td>\n",
       "    </tr>\n",
       "  </tbody>\n",
       "</table>\n",
       "</div>\n",
       "      <button class=\"colab-df-convert\" onclick=\"convertToInteractive('df-b9874038-cd6b-42cf-8d75-9f410e5dcd4d')\"\n",
       "              title=\"Convert this dataframe to an interactive table.\"\n",
       "              style=\"display:none;\">\n",
       "        \n",
       "  <svg xmlns=\"http://www.w3.org/2000/svg\" height=\"24px\"viewBox=\"0 0 24 24\"\n",
       "       width=\"24px\">\n",
       "    <path d=\"M0 0h24v24H0V0z\" fill=\"none\"/>\n",
       "    <path d=\"M18.56 5.44l.94 2.06.94-2.06 2.06-.94-2.06-.94-.94-2.06-.94 2.06-2.06.94zm-11 1L8.5 8.5l.94-2.06 2.06-.94-2.06-.94L8.5 2.5l-.94 2.06-2.06.94zm10 10l.94 2.06.94-2.06 2.06-.94-2.06-.94-.94-2.06-.94 2.06-2.06.94z\"/><path d=\"M17.41 7.96l-1.37-1.37c-.4-.4-.92-.59-1.43-.59-.52 0-1.04.2-1.43.59L10.3 9.45l-7.72 7.72c-.78.78-.78 2.05 0 2.83L4 21.41c.39.39.9.59 1.41.59.51 0 1.02-.2 1.41-.59l7.78-7.78 2.81-2.81c.8-.78.8-2.07 0-2.86zM5.41 20L4 18.59l7.72-7.72 1.47 1.35L5.41 20z\"/>\n",
       "  </svg>\n",
       "      </button>\n",
       "      \n",
       "  <style>\n",
       "    .colab-df-container {\n",
       "      display:flex;\n",
       "      flex-wrap:wrap;\n",
       "      gap: 12px;\n",
       "    }\n",
       "\n",
       "    .colab-df-convert {\n",
       "      background-color: #E8F0FE;\n",
       "      border: none;\n",
       "      border-radius: 50%;\n",
       "      cursor: pointer;\n",
       "      display: none;\n",
       "      fill: #1967D2;\n",
       "      height: 32px;\n",
       "      padding: 0 0 0 0;\n",
       "      width: 32px;\n",
       "    }\n",
       "\n",
       "    .colab-df-convert:hover {\n",
       "      background-color: #E2EBFA;\n",
       "      box-shadow: 0px 1px 2px rgba(60, 64, 67, 0.3), 0px 1px 3px 1px rgba(60, 64, 67, 0.15);\n",
       "      fill: #174EA6;\n",
       "    }\n",
       "\n",
       "    [theme=dark] .colab-df-convert {\n",
       "      background-color: #3B4455;\n",
       "      fill: #D2E3FC;\n",
       "    }\n",
       "\n",
       "    [theme=dark] .colab-df-convert:hover {\n",
       "      background-color: #434B5C;\n",
       "      box-shadow: 0px 1px 3px 1px rgba(0, 0, 0, 0.15);\n",
       "      filter: drop-shadow(0px 1px 2px rgba(0, 0, 0, 0.3));\n",
       "      fill: #FFFFFF;\n",
       "    }\n",
       "  </style>\n",
       "\n",
       "      <script>\n",
       "        const buttonEl =\n",
       "          document.querySelector('#df-b9874038-cd6b-42cf-8d75-9f410e5dcd4d button.colab-df-convert');\n",
       "        buttonEl.style.display =\n",
       "          google.colab.kernel.accessAllowed ? 'block' : 'none';\n",
       "\n",
       "        async function convertToInteractive(key) {\n",
       "          const element = document.querySelector('#df-b9874038-cd6b-42cf-8d75-9f410e5dcd4d');\n",
       "          const dataTable =\n",
       "            await google.colab.kernel.invokeFunction('convertToInteractive',\n",
       "                                                     [key], {});\n",
       "          if (!dataTable) return;\n",
       "\n",
       "          const docLinkHtml = 'Like what you see? Visit the ' +\n",
       "            '<a target=\"_blank\" href=https://colab.research.google.com/notebooks/data_table.ipynb>data table notebook</a>'\n",
       "            + ' to learn more about interactive tables.';\n",
       "          element.innerHTML = '';\n",
       "          dataTable['output_type'] = 'display_data';\n",
       "          await google.colab.output.renderOutput(dataTable, element);\n",
       "          const docLink = document.createElement('div');\n",
       "          docLink.innerHTML = docLinkHtml;\n",
       "          element.appendChild(docLink);\n",
       "        }\n",
       "      </script>\n",
       "    </div>\n",
       "  </div>\n",
       "  "
      ],
      "text/plain": [
       "       txId1      txId2\n",
       "0  230425980    5530458\n",
       "1  232022460  232438397\n",
       "2  230460314  230459870"
      ]
     },
     "execution_count": 20,
     "metadata": {},
     "output_type": "execute_result"
    }
   ],
   "source": [
    "edges.head(3)"
   ]
  },
  {
   "cell_type": "code",
   "execution_count": null,
   "metadata": {
    "colab": {
     "base_uri": "https://localhost:8080/"
    },
    "id": "NQHIKMw14X4-",
    "outputId": "62da96bc-0bf5-4707-e877-0d314a1f32df"
   },
   "outputs": [
    {
     "name": "stdout",
     "output_type": "stream",
     "text": [
      "Total Num of Tx_nodes have out-going branch : 166345\n",
      "Total Num of Tx_nodes have in-going branch : 148447\n"
     ]
    }
   ],
   "source": [
    "print('Total Num of Tx_nodes have out-going branch :',len(edges['txId1'].unique()))\n",
    "print('Total Num of Tx_nodes have in-going branch :',len(edges['txId2'].unique()))"
   ]
  },
  {
   "cell_type": "markdown",
   "metadata": {
    "id": "h_sHFLfwzD39"
   },
   "source": [
    "## Visualize the range of data in 'illicit' vs. 'licit' \n",
    "\n",
    "Due to large number of features, and also no contextual information given for each feature, a histogram is used instead of heatmap to visualise redundancy amongst the features. It appears most of the features are not strongly correlated to each other. However does not account for non-linear relationship."
   ]
  },
  {
   "cell_type": "code",
   "execution_count": null,
   "metadata": {
    "colab": {
     "base_uri": "https://localhost:8080/",
     "height": 295
    },
    "id": "cTHlioAGvPq7",
    "outputId": "43d23b00-a379-4cff-c4fd-07cf4eb6ba9b"
   },
   "outputs": [
    {
     "data": {
      "image/png": "[encoded data removed]",
      "text/plain": [
       "<Figure size 432x288 with 1 Axes>"
      ]
     },
     "metadata": {
      "needs_background": "light"
     },
     "output_type": "display_data"
    }
   ],
   "source": [
    "plt.hist(labeled[(labeled['class_description']=='licit')].iloc[:,2:-2].corr().to_numpy().flatten(), label=\"licit\", alpha=0.5)\n",
    "plt.hist(labeled[(labeled['class_description']=='illicit')].iloc[:,2:-2].corr().to_numpy().flatten(), label=\"illicit\", alpha=0.5)\n",
    "plt.xlabel(\"Correlation Coefficient\")\n",
    "plt.ylabel(\"Frequency\")\n",
    "plt.title(\"Distribution of correlation coefficients between features\")\n",
    "plt.legend()\n",
    "plt.show()"
   ]
  },
  {
   "cell_type": "markdown",
   "metadata": {
    "id": "2Z9CRykSzvbl"
   },
   "source": [
    "To visualise the range of data we plot distributions of the min, max, mean, and median. It appears that the features vary in scale but have been centered already, or by for some reason the features collected are all centered around 0."
   ]
  },
  {
   "cell_type": "code",
   "execution_count": null,
   "metadata": {
    "colab": {
     "base_uri": "https://localhost:8080/",
     "height": 1000
    },
    "id": "v-YasBwd7xNX",
    "outputId": "3d0853ca-2f55-4d9e-eadb-39b9b9f4c70d"
   },
   "outputs": [
    {
     "data": {
      "image/png": "[encoded data removed]",
      "text/plain": [
       "<Figure size 432x288 with 1 Axes>"
      ]
     },
     "metadata": {
      "needs_background": "light"
     },
     "output_type": "display_data"
    },
    {
     "data": {
      "image/png": "[encoded data removed]",
      "text/plain": [
       "<Figure size 432x288 with 1 Axes>"
      ]
     },
     "metadata": {
      "needs_background": "light"
     },
     "output_type": "display_data"
    },
    {
     "data": {
      "image/png": "[encoded data removed]",
      "text/plain": [
       "<Figure size 432x288 with 1 Axes>"
      ]
     },
     "metadata": {
      "needs_background": "light"
     },
     "output_type": "display_data"
    },
    {
     "data": {
      "image/png": "[encoded data removed]",
      "text/plain": [
       "<Figure size 432x288 with 1 Axes>"
      ]
     },
     "metadata": {
      "needs_background": "light"
     },
     "output_type": "display_data"
    },
    {
     "data": {
      "image/png": "[encoded data removed]",
      "text/plain": [
       "<Figure size 432x288 with 1 Axes>"
      ]
     },
     "metadata": {
      "needs_background": "light"
     },
     "output_type": "display_data"
    }
   ],
   "source": [
    "\n",
    "plt.hist(labeled[(labeled['class_description']=='licit')].iloc[:,2:-2].apply(np.min), label=\"licit\", alpha=0.5)\n",
    "plt.hist(labeled[(labeled['class_description']=='illicit')].iloc[:,2:-2].apply(np.min), label=\"illicit\", alpha=0.5)\n",
    "plt.xlabel(\"Feature value\")\n",
    "plt.ylabel(\"Frequency\")\n",
    "plt.title(\"Distribution of min feature values\")\n",
    "plt.legend()\n",
    "plt.show()\n",
    "\n",
    "plt.hist(labeled[(labeled['class_description']=='licit')].iloc[:,2:-2].apply(np.max), label=\"licit\", alpha=0.5)\n",
    "plt.hist(labeled[(labeled['class_description']=='illicit')].iloc[:,2:-2].apply(np.max), label=\"illicit\", alpha=0.5)\n",
    "plt.xlabel(\"Feature value\")\n",
    "plt.ylabel(\"Frequency\")\n",
    "plt.title(\"Distribution of max feature values\")\n",
    "plt.legend()\n",
    "plt.show()\n",
    "\n",
    "plt.hist(labeled[(labeled['class_description']=='licit')].iloc[:,2:-2].apply(np.mean), label=\"licit\", alpha=0.5)\n",
    "plt.hist(labeled[(labeled['class_description']=='illicit')].iloc[:,2:-2].apply(np.mean), label=\"illicit\", alpha=0.5)\n",
    "plt.xlabel(\"Feature value\")\n",
    "plt.ylabel(\"Frequency\")\n",
    "plt.title(\"Distribution of mean feature values\")\n",
    "plt.legend()\n",
    "plt.show()\n",
    "\n",
    "plt.hist(labeled[(labeled['class_description']=='licit')].iloc[:,2:-2].apply(np.median), label=\"licit\", alpha=0.5)\n",
    "plt.hist(labeled[(labeled['class_description']=='illicit')].iloc[:,2:-2].apply(np.median), label=\"illicit\", alpha=0.5)\n",
    "plt.xlabel(\"Feature value\")\n",
    "plt.ylabel(\"Frequency\")\n",
    "plt.title(\"Distribution of median feature values\")\n",
    "plt.legend()\n",
    "plt.show()\n",
    "\n",
    "plt.hist(labeled[(labeled['class_description']=='licit')].iloc[:,2:-2].apply(np.std), label=\"licit\", alpha=0.5)\n",
    "plt.hist(labeled[(labeled['class_description']=='illicit')].iloc[:,2:-2].apply(np.std), label=\"illicit\", alpha=0.5)\n",
    "plt.xlabel(\"Feature value\")\n",
    "plt.ylabel(\"Frequency\")\n",
    "plt.title(\"Distribution of std of feature values\")\n",
    "plt.legend()\n",
    "plt.show()"
   ]
  },
  {
   "cell_type": "markdown",
   "metadata": {
    "id": "pNCSgoz63Tko"
   },
   "source": [
    "## Visualize the trends of transactions over time_stamp \n",
    "\n",
    "There are 49 time steps which are periods of 2 weeks of transactions.\n",
    "\n",
    "\n",
    "- Labeled vs. unlabeled \n",
    "- illicit vs licit in labeled data \n",
    "- Ratio of illicit vs licit in labeled data\n",
    "- Examples of distribution of feature values\n",
    "- Example of graph visualization "
   ]
  },
  {
   "cell_type": "code",
   "execution_count": null,
   "metadata": {
    "colab": {
     "base_uri": "https://localhost:8080/",
     "height": 283
    },
    "id": "HBc1X3B-zdZD",
    "outputId": "05c64764-99b9-495a-b7a8-c8cb6fd109fd"
   },
   "outputs": [
    {
     "data": {
      "image/png": "[encoded data removed]",
      "text/plain": [
       "<Figure size 432x288 with 1 Axes>"
      ]
     },
     "metadata": {
      "needs_background": "light"
     },
     "output_type": "display_data"
    }
   ],
   "source": [
    "labeled.groupby(\"time_step\")[\"txId\"].count().plot(label=\"labeled\")\n",
    "unlabeled.groupby(\"time_step\")[\"txId\"].count().plot(label=\"unlabeled\")\n",
    "plt.ylabel(\"Number of transactions\")\n",
    "plt.legend()\n",
    "plt.show()"
   ]
  },
  {
   "cell_type": "code",
   "execution_count": null,
   "metadata": {
    "id": "CCyc82Xb3atN"
   },
   "outputs": [],
   "source": [
    "# Fuction to draw ratio_graph over time_stamps between illicit vs. licit \n",
    "\n",
    "def ratio_graph(df):\n",
    "\n",
    "  fig, ax = plt.subplots(2, 1, figsize=(10, 10))\n",
    "  plt.subplots_adjust(hspace=0.4)\n",
    "\n",
    "  \n",
    "  temp_class = pd.crosstab(index=df['time_step'],columns=df['class_description'])\n",
    "  temp_class.plot(kind='bar', stacked=True, ax=ax[0],\\\n",
    "                      title='Number of transactions per time interval', ylabel='Number of txs')\n",
    "  \n",
    "  \n",
    "  temp_class_div = temp_class.div(temp_class.sum(1).astype(float),axis=0) \n",
    "  temp_class_div.plot(kind='bar', stacked=True,ax=ax[1], \\\n",
    "                      title='Percentage of transactions per time interval',ylabel='Pct of txs')\n",
    "\n",
    "  # decrease number of ticks per x axis\n",
    "  for i in range(len(ax)):\n",
    "    for index, label in enumerate(ax[i].get_xticklabels()):\n",
    "        if index % 4 == 0:\n",
    "            label.set_visible(True)\n",
    "        else:\n",
    "            label.set_visible(False)\n",
    "\n",
    "  "
   ]
  },
  {
   "cell_type": "code",
   "execution_count": null,
   "metadata": {
    "colab": {
     "base_uri": "https://localhost:8080/",
     "height": 625
    },
    "id": "eeMtZsJ83sgz",
    "outputId": "27ae34fe-00c0-4d46-dcf8-05eefe09ccab"
   },
   "outputs": [
    {
     "data": {
      "image/png": "[encoded data removed]",
      "text/plain": [
       "<Figure size 720x720 with 2 Axes>"
      ]
     },
     "metadata": {
      "needs_background": "light"
     },
     "output_type": "display_data"
    }
   ],
   "source": [
    "ratio_graph(labeled)"
   ]
  },
  {
   "cell_type": "markdown",
   "metadata": {
    "id": "16buUimg7bG6"
   },
   "source": [
    "\n",
    "__Example of data distributions in selected features.__\n",
    "\n",
    "We select few features and visualize their distributions of illicit and licit data over time"
   ]
  },
  {
   "cell_type": "code",
   "execution_count": null,
   "metadata": {
    "colab": {
     "base_uri": "https://localhost:8080/",
     "height": 508
    },
    "id": "Umfmtft97Y8F",
    "outputId": "7e9a133a-9306-40fc-c9df-5111ad51ad8d"
   },
   "outputs": [
    {
     "data": {
      "image/png": "[encoded data removed]",
      "text/plain": [
       "<Figure size 720x540 with 6 Axes>"
      ]
     },
     "metadata": {
      "needs_background": "light"
     },
     "output_type": "display_data"
    }
   ],
   "source": [
    "# Representative distribution of features.\n",
    "\n",
    "b=20\n",
    "columns=labeled.columns\n",
    "fig, axes = plt.subplots(2, 3, figsize=(10, 7.5))\n",
    "plt.subplots_adjust(wspace = 0.5, hspace=0.5)\n",
    "plt.suptitle(\"Distribution of features\",y=0.95, size=18, weight='bold')\n",
    "\n",
    "\n",
    "ax = sns.scatterplot(ax = axes[0,0], data=labeled, y=columns[4],x='time_step',hue='class')\n",
    "ax.set_title(f'Distribution of {columns[4]}')\n",
    "\n",
    "ax1 = sns.scatterplot(ax = axes[0,1], data=labeled, y=columns[5],x='time_step',hue='class')\n",
    "ax1.set_title(f'Distribution of {columns[5]}')\n",
    "\n",
    "ax2 = sns.scatterplot(ax = axes[0,2], data=labeled, y=columns[6],x='time_step',hue='class')\n",
    "ax2.set_title(f'Distribution of {columns[6]}')\n",
    "\n",
    "ax3 = sns.scatterplot(ax = axes[1,0], data=labeled, y=columns[7],x='time_step',hue='class')\n",
    "ax3.set_title(f'Distribution of {columns[7]}')\n",
    "\n",
    "ax4 = sns.scatterplot(ax = axes[1,1], data=labeled, y=columns[8],x='time_step',hue='class')\n",
    "ax4.set_title(f'Distribution of {columns[8]}')\n",
    "\n",
    "ax5 = sns.scatterplot(ax = axes[1,2], data=labeled, y=columns[9],x='time_step',hue='class')\n",
    "ax5.set_title(f'Distribution of {columns[9]}')\n",
    "\n",
    " \n",
    "\n",
    "plt.show()"
   ]
  },
  {
   "cell_type": "markdown",
   "metadata": {
    "id": "mwRiVTzplEFf"
   },
   "source": [
    "__Example of Graph visualization__\n",
    "\n",
    "Elliptic dataset has graph data format for analyzing by Graph Convolutional Network. \n",
    "Here, we only visualize illicit transaction node from one time_step. "
   ]
  },
  {
   "cell_type": "code",
   "execution_count": null,
   "metadata": {
    "id": "Gdz6mr9DlDtl"
   },
   "outputs": [],
   "source": [
    "sample_ids = labeled.loc[(labeled['time_step'] ==18)  & (labeled['class']=='1'), 'txId']\n",
    "short_edges = edges.loc[edges['txId1'].isin(sample_ids)]"
   ]
  },
  {
   "cell_type": "code",
   "execution_count": null,
   "metadata": {
    "colab": {
     "base_uri": "https://localhost:8080/",
     "height": 373
    },
    "id": "ehJfJJOWlKwY",
    "outputId": "db5cfb71-b209-4577-cf23-55b122542eab"
   },
   "outputs": [
    {
     "data": {
      "image/png": "[encoded data removed]",
      "text/plain": [
       "<Figure size 720x432 with 1 Axes>"
      ]
     },
     "metadata": {},
     "output_type": "display_data"
    }
   ],
   "source": [
    "import networkx as nx\n",
    "fig, axe = plt.subplots(figsize=(10,6))\n",
    "axe.set_title(' illicit txs in 18 time_step ')\n",
    "\n",
    "graph = nx.from_pandas_edgelist(short_edges, source = 'txId1', target = 'txId2', \n",
    "                                 create_using = nx.DiGraph())\n",
    "pos = nx.kamada_kawai_layout(graph)\n",
    "nx.draw(graph,ax=axe, cmap = plt.get_cmap('rainbow'), with_labels=True, pos=pos )\n"
   ]
  },
  {
   "cell_type": "markdown",
   "metadata": {
    "id": "QaDDGIzjjgma"
   },
   "source": [
    "## PCA \n",
    "\n",
    "\n",
    "### Visualising transactions 'licit' vs. 'illicit' with dimensionality reduction\n",
    "\n",
    " - Separation of licit and ilicit \n",
    " - Proportion of variance\n",
    " - Accumulated variance\n"
   ]
  },
  {
   "cell_type": "code",
   "execution_count": null,
   "metadata": {
    "colab": {
     "base_uri": "https://localhost:8080/",
     "height": 854
    },
    "id": "FTzzolxr0pZl",
    "outputId": "de27ada5-4c85-4cc4-a06b-d9d985f7f345"
   },
   "outputs": [
    {
     "data": {
      "image/png": "[encoded data removed]",
      "text/plain": [
       "<Figure size 432x288 with 1 Axes>"
      ]
     },
     "metadata": {
      "needs_background": "light"
     },
     "output_type": "display_data"
    },
    {
     "data": {
      "image/png": "[encoded data removed]",
      "text/plain": [
       "<Figure size 432x288 with 1 Axes>"
      ]
     },
     "metadata": {
      "needs_background": "light"
     },
     "output_type": "display_data"
    },
    {
     "data": {
      "image/png": "[encoded data removed]",
      "text/plain": [
       "<Figure size 432x288 with 1 Axes>"
      ]
     },
     "metadata": {
      "needs_background": "light"
     },
     "output_type": "display_data"
    },
    {
     "name": "stdout",
     "output_type": "stream",
     "text": [
      "The total varience 0.9516338987258212\n",
      "The number of components: 114\n"
     ]
    }
   ],
   "source": [
    "pca = PCA()\n",
    "ss = StandardScaler()\n",
    "ss.fit(labeled.iloc[:,2:-2])\n",
    "pca_features = pca.fit_transform(ss.transform(labeled.iloc[:,2:-2]))\n",
    "plt.scatter(pca_features[labeled[\"class\"]==\"2\"][:,0], pca_features[labeled[\"class\"]==\"2\"][:,1], alpha=0.5, label=\"licit\")\n",
    "plt.scatter(pca_features[labeled[\"class\"]==\"1\"][:,0], pca_features[labeled[\"class\"]==\"1\"][:,1], alpha=0.5, label=\"illicit\")\n",
    "plt.title(\"PCA\")\n",
    "plt.xlabel(\"PC1\")\n",
    "plt.ylabel(\"PC2\")\n",
    "plt.legend()\n",
    "plt.show()\n",
    "\n",
    "\n",
    "plt.bar([\"PC{}\".format(x) for x in range(1, pca_features.shape[1]+1)],pca.explained_variance_ratio_)\n",
    "plt.ylabel(\"Proportion of variance\")\n",
    "plt.xlabel(\"PCs\")\n",
    "plt.show()\n",
    "\n",
    "plt.plot(range(len(pca.explained_variance_ratio_)), np.cumsum(pca.explained_variance_ratio_))\n",
    "plt.xlabel('PCs')\n",
    "plt.ylabel('Accumulated explained_variance_ratio_')\n",
    "plt.show()\n",
    "\n",
    "\n",
    "\n",
    "var_cum = 0  # total varience from all components\n",
    "num_comp = 0        # the number of components with 95% varience\n",
    "for var in pca.explained_variance_ratio_:\n",
    "    if var_cum > 0.95:\n",
    "        print('The total varience', var_cum)\n",
    "        print('The number of components:', num_comp)\n",
    "        break\n",
    "    else:\n",
    "        var_cum += var\n",
    "        num_comp += 1\n"
   ]
  },
  {
   "cell_type": "markdown",
   "metadata": {
    "id": "m_sbomJ9uE8W"
   },
   "source": [
    "# Simple supervised learning classifiers on Raw_data"
   ]
  },
  {
   "cell_type": "code",
   "execution_count": null,
   "metadata": {
    "id": "oA-kh1YCH2D3"
   },
   "outputs": [],
   "source": [
    "\n",
    "X_train, X_test, y_train, y_test = train_test_split(labeled.iloc[:,2:-2], labeled[\"class\"].apply(int), test_size=0.2, random_state=42)\n"
   ]
  },
  {
   "cell_type": "markdown",
   "metadata": {
    "id": "1uLA2fH5xr08"
   },
   "source": [
    "Define the funcion for plotting confusion matrix"
   ]
  },
  {
   "cell_type": "code",
   "execution_count": null,
   "metadata": {
    "id": "65PLVcwhvYL3"
   },
   "outputs": [],
   "source": [
    "import itertools\n",
    "\n",
    "class_names = ['illicit', 'licit']\n",
    "def plot_confusion_matrix(cm, class_names, title=None):\n",
    "    plt.figure()\n",
    "    \n",
    "    plt.title(title)\n",
    "    plt.imshow(cm, interpolation='nearest', cmap=plt.cm.Blues)\n",
    "    plt.colorbar()\n",
    "    tick_marks = np.arange(len(class_names))\n",
    "    plt.xticks(tick_marks, class_names)\n",
    "    plt.yticks(tick_marks, class_names)\n",
    "    thresh = cm.max() / 2.\n",
    "    for i, j in itertools.product(range(cm.shape[0]), range(cm.shape[1])):\n",
    "        plt.text(j, i, format(cm[i, j], 'd'),\n",
    "                 horizontalalignment=\"center\",\n",
    "                 color=\"white\" if cm[i, j] > thresh else \"black\")\n",
    "    plt.ylabel('True label')\n",
    "    plt.xlabel('Predicted label')\n",
    "    # plt.tight_layout()\n",
    "    plt.show()"
   ]
  },
  {
   "cell_type": "markdown",
   "metadata": {
    "id": "86TEgOlp5jLP"
   },
   "source": [
    "## Logistic Regression\n",
    "\n",
    "__On unscaled imbalanced data__"
   ]
  },
  {
   "cell_type": "code",
   "execution_count": null,
   "metadata": {
    "colab": {
     "base_uri": "https://localhost:8080/",
     "height": 347
    },
    "id": "DpvZix9J7DXE",
    "outputId": "587c9951-1a61-4c61-ca80-0963b5ab5f67"
   },
   "outputs": [
    {
     "name": "stdout",
     "output_type": "stream",
     "text": [
      "Logistic Regression_raw Model Evaluation: \n",
      "Final Test Accuracy: 96.3921\n",
      " Final F1 Score: 96.3026\n"
     ]
    },
    {
     "data": {
      "image/png": "[encoded data removed]",
      "text/plain": [
       "<Figure size 432x288 with 2 Axes>"
      ]
     },
     "metadata": {
      "needs_background": "light"
     },
     "output_type": "display_data"
    }
   ],
   "source": [
    "logreg_raw = LogisticRegression(max_iter=10000)\n",
    "logreg_raw.fit(X_train, y_train)\n",
    "ypred_raw = logreg_raw.predict(X_test)\n",
    "\n",
    "logreg_raw_cm= confusion_matrix(y_test, ypred_raw)\n",
    "\n",
    "print(f'Logistic Regression_raw Model Evaluation: \\n'\n",
    "          f'Final Test Accuracy: {100.* accuracy_score(y_test, ypred_raw):.4f}\\n',\n",
    "          f'Final F1 Score: {100.* f1_score(y_test, ypred_raw, average=\"weighted\"):.4f}')\n",
    "\n",
    "plot_confusion_matrix(logreg_raw_cm, class_names,'Logistic Regression' )"
   ]
  },
  {
   "cell_type": "markdown",
   "metadata": {
    "id": "R5892-op7DXF"
   },
   "source": [
    "## SVC \n",
    "__On sacaled raw data with regularization parameter C = 15__ \n",
    "\n",
    "We tried optimization of SVC classifier with gridsearch, but there is issue with runnig time, and resampling process wasn't good process for this classifier. Thus we simply tested with fixed parameters after few screening. "
   ]
  },
  {
   "cell_type": "code",
   "execution_count": null,
   "metadata": {
    "colab": {
     "base_uri": "https://localhost:8080/",
     "height": 382
    },
    "id": "fH_gEQHs7DXF",
    "outputId": "3b45e9e5-c93e-4eba-c385-e026cb41fa54"
   },
   "outputs": [
    {
     "name": "stdout",
     "output_type": "stream",
     "text": [
      "SVC_raw Model Evaluation: \n",
      "Final Train Accuracy: 98.0994,\n",
      " Final F1 Score: 98.0633\n"
     ]
    },
    {
     "data": {
      "image/png": "[encoded data removed]",
      "text/plain": [
       "<Figure size 432x288 with 2 Axes>"
      ]
     },
     "metadata": {
      "needs_background": "light"
     },
     "output_type": "display_data"
    },
    {
     "name": "stdout",
     "output_type": "stream",
     "text": [
      "CPU times: user 58 s, sys: 131 ms, total: 58.2 s\n",
      "Wall time: 1min 1s\n"
     ]
    }
   ],
   "source": [
    "%%time\n",
    "from sklearn.preprocessing import StandardScaler\n",
    "from sklearn.pipeline import make_pipeline\n",
    "\n",
    "svc_raw = make_pipeline(StandardScaler(), SVC(C = 15, gamma='auto'))\n",
    "svc_raw.fit(X_train, y_train)\n",
    "ypred_raw = svc_raw.predict(X_test)\n",
    "svc_raw_cm= confusion_matrix(y_test, ypred_raw)\n",
    "\n",
    "print(f'SVC_raw Model Evaluation: \\n'\n",
    "          f'Final Train Accuracy: {100.* accuracy_score(y_test, ypred_raw):.4f},\\n',\n",
    "          f'Final F1 Score: {100.* f1_score(y_test, ypred_raw, average=\"weighted\"):.4f}')\n",
    "\n",
    "plot_confusion_matrix(svc_raw_cm, class_names,'SVC' )\n"
   ]
  },
  {
   "cell_type": "markdown",
   "metadata": {
    "id": "frr6Kb_C7DXG"
   },
   "source": [
    "## RandomForest Classifier \n",
    "__on imbalanced raw data__"
   ]
  },
  {
   "cell_type": "code",
   "execution_count": null,
   "metadata": {
    "colab": {
     "base_uri": "https://localhost:8080/",
     "height": 347
    },
    "id": "Ai0AnMLm7DXG",
    "outputId": "a1f20b8e-558a-4b4e-b6f1-be3272959afe"
   },
   "outputs": [
    {
     "name": "stdout",
     "output_type": "stream",
     "text": [
      "RF_raw Model Evaluation: \n",
      "Final Test Accuracy: 98.8403,\n",
      " Final F1 Score: 98.8090\n"
     ]
    },
    {
     "data": {
      "image/png": "[encoded data removed]",
      "text/plain": [
       "<Figure size 432x288 with 2 Axes>"
      ]
     },
     "metadata": {
      "needs_background": "light"
     },
     "output_type": "display_data"
    }
   ],
   "source": [
    "rfc_raw = RandomForestClassifier()\n",
    "rfc_raw.fit(X_train, y_train)\n",
    "ypred_raw = rfc_raw.predict(X_test)\n",
    "rfc_raw_cm= confusion_matrix(y_test, ypred_raw)\n",
    "\n",
    "print(f'RF_raw Model Evaluation: \\n'\n",
    "          f'Final Test Accuracy: {100.* accuracy_score(y_test, ypred_raw):.4f},\\n',\n",
    "          f'Final F1 Score: {100.* f1_score(y_test, ypred_raw, average=\"weighted\"):.4f}')\n",
    "\n",
    "plot_confusion_matrix(rfc_raw_cm, class_names,'RandomForest' )\n"
   ]
  },
  {
   "cell_type": "markdown",
   "metadata": {
    "id": "p-WKlkF67DXH"
   },
   "source": [
    "## AdaBoostClassifier\n",
    "__On imbalanced raw data__\n"
   ]
  },
  {
   "cell_type": "code",
   "execution_count": null,
   "metadata": {
    "colab": {
     "base_uri": "https://localhost:8080/",
     "height": 347
    },
    "id": "R--U6VfE7DXH",
    "outputId": "df390647-4295-4eff-8b96-7da3c1449d96"
   },
   "outputs": [
    {
     "name": "stdout",
     "output_type": "stream",
     "text": [
      "AdaBoost Model Evaluation: \n",
      "Final Test Accuracy: 98.9048,\n",
      " Final F1 Score: 98.8919\n"
     ]
    },
    {
     "data": {
      "image/png": "[encoded data removed]",
      "text/plain": [
       "<Figure size 432x288 with 2 Axes>"
      ]
     },
     "metadata": {
      "needs_background": "light"
     },
     "output_type": "display_data"
    }
   ],
   "source": [
    "from sklearn.ensemble import AdaBoostClassifier\n",
    "from sklearn.tree import DecisionTreeClassifier\n",
    "\n",
    "ada = AdaBoostClassifier(DecisionTreeClassifier(max_depth=3), n_estimators = 150 , random_state=42)\n",
    "# X_train, X_test, y_train, y_test = train_test_split(labeled.iloc[:,2:-2], labeled[\"class\"].apply(int), test_size=0.2, random_state=42)\n",
    "\n",
    "ada.fit(X_train, y_train)\n",
    "ypred_ada = ada.predict(X_test)\n",
    "ada_cm = confusion_matrix(y_test, ypred_ada)\n",
    "\n",
    "print(f'AdaBoost Model Evaluation: \\n'\n",
    "          f'Final Test Accuracy: {100.* accuracy_score(y_test, ypred_ada):.4f},\\n',\n",
    "          f'Final F1 Score: {100.* f1_score(y_test, ypred_ada, average=\"weighted\"):.4f}')\n",
    "\n",
    "plot_confusion_matrix(ada_cm, class_names,'AdaBoost' )\n"
   ]
  },
  {
   "cell_type": "markdown",
   "metadata": {
    "id": "hPG_O6lR7DXH"
   },
   "source": [
    "## ROC Curve Comparison for LR, SVC, RF, ABC on imbalanced data\n",
    "\n",
    "*Resampling* methods are not efficient in the learning models we have investigated. "
   ]
  },
  {
   "cell_type": "code",
   "execution_count": null,
   "metadata": {
    "colab": {
     "base_uri": "https://localhost:8080/",
     "height": 279
    },
    "id": "Xz8O0rAL7DXI",
    "outputId": "2dc39397-b713-4e6a-9250-4838673fbe46"
   },
   "outputs": [
    {
     "data": {
      "image/png": "[encoded data removed]",
      "text/plain": [
       "<Figure size 432x288 with 1 Axes>"
      ]
     },
     "metadata": {
      "needs_background": "light"
     },
     "output_type": "display_data"
    }
   ],
   "source": [
    "from sklearn.metrics import RocCurveDisplay\n",
    "ax = plt.gca()\n",
    "Log_disp = RocCurveDisplay.from_estimator(logreg_raw, X_test, y_test, ax=ax, alpha=0.8)\n",
    "svc_disp = RocCurveDisplay.from_estimator(svc_raw, X_test, y_test, ax=ax, alpha=0.8)\n",
    "rfc_disp = RocCurveDisplay.from_estimator(rfc_raw, X_test, y_test, ax=ax, alpha=0.8)\n",
    "ada_disp = RocCurveDisplay.from_estimator(ada, X_test, y_test, ax=ax, alpha=0.8)\n",
    "\n",
    "plt.show()"
   ]
  },
  {
   "cell_type": "markdown",
   "metadata": {
    "id": "XyCNKNvZ7DXI"
   },
   "source": [
    "## Unsupervised learning : K-means\n",
    "\n",
    "Use K-means to find out the natural 2 clusters in the dataset. \n",
    "We will use two mean points from each labeled class to initialize centroids."
   ]
  },
  {
   "cell_type": "code",
   "execution_count": null,
   "metadata": {
    "id": "QNSW_tAF7DXI"
   },
   "outputs": [],
   "source": [
    "from sklearn.cluster import KMeans\n",
    "ss = StandardScaler()\n",
    "X = ss.fit_transform(df.iloc[:,2:-2])\n",
    "\n",
    "def init_centroids(X, n_clusters, random_state):\n",
    "    # Initialize cluster centroids as random points of each class from labeled data\n",
    "    num_1 = X[df['class'] == '1'].shape[0]\n",
    "    num_2 = X[df['class'] == '2'].shape[0]\n",
    "    init_1 = X[df['class'] == '1'][np.random.randint(num_1)]\n",
    "    init_2 = X[df['class'] == '2'][np.random.randint(num_2)]\n",
    "\n",
    "    init = pd.DataFrame([init_1, init_2])\n",
    "    return init\n",
    "\n",
    "kmeans = KMeans(n_clusters=2, n_init = 10, init = init_centroids, algorithm = 'auto').fit(X)"
   ]
  },
  {
   "cell_type": "code",
   "execution_count": null,
   "metadata": {
    "colab": {
     "base_uri": "https://localhost:8080/"
    },
    "id": "DTcJ0OjH7DXI",
    "outputId": "f957a737-3069-4d47-f4c0-fda2614b920c"
   },
   "outputs": [
    {
     "name": "stdout",
     "output_type": "stream",
     "text": [
      "Correctly predicted lables =  8\n",
      "The number of transactions labeled as 1 =  12272\n"
     ]
    }
   ],
   "source": [
    "# Compare predicted labels with actual\n",
    "class_predicted = kmeans.labels_\n",
    "class_actual = labeled['class'].apply(int)\n",
    "print('Correctly predicted lables = ', (class_predicted[class_actual.index] == class_actual).sum())\n",
    "print('The number of transactions labeled as 1 = ', class_predicted.sum())"
   ]
  },
  {
   "cell_type": "code",
   "execution_count": null,
   "metadata": {
    "colab": {
     "base_uri": "https://localhost:8080/",
     "height": 677
    },
    "id": "1Hki0zLG7DXJ",
    "outputId": "b8cdbf0f-7948-4fe9-cba6-41166ce4a5e0"
   },
   "outputs": [
    {
     "data": {
      "image/png": "[encoded data removed]",
      "text/plain": [
       "<Figure size 1080x720 with 9 Axes>"
      ]
     },
     "metadata": {
      "needs_background": "light"
     },
     "output_type": "display_data"
    }
   ],
   "source": [
    "# Show distributions of various features.\n",
    "\n",
    "density = False # Show distributions rather than frequencies if True\n",
    "bins = 200\n",
    "\n",
    "fig,axes = plt.subplots(3,3, figsize = (15,10))\n",
    "plt.subplots_adjust(wspace = 0.3, hspace=0.5)\n",
    "fig.suptitle('Distributions of illicit, licit transactions and unknown transactions')\n",
    "\n",
    "k = 3 # x.3\n",
    "x_licit = labeled[(labeled['class_description']=='licit')].iloc[:,k+1]\n",
    "x_illicit = labeled[(labeled['class_description']=='illicit')].iloc[:,k+1]\n",
    "x_unknown = unlabeled.iloc[:,k+1]\n",
    "\n",
    "ax1 = axes[0,0]\n",
    "ax1.hist(x_licit, bins = bins, density = density)\n",
    "ax1.set(xlabel = f'value of x.{k}')\n",
    "ax1.set(ylabel = 'number of txs')\n",
    "ax1.set_title('licit txs')\n",
    "\n",
    "ax2 = axes[0,1]\n",
    "ax2.hist(x_illicit, bins = bins, density = density)\n",
    "ax2.set(xlabel = f'value of x.{k}')\n",
    "ax2.set(ylabel = 'number of txs')\n",
    "ax2.set_title('illicit txs')\n",
    "\n",
    "ax_02 = axes[0,2]\n",
    "ax_02.hist(x_unknown, bins = bins, density = density)\n",
    "ax_02.set(xlabel = f'value of x.{k}')\n",
    "ax_02.set(ylabel = 'number of txs')\n",
    "ax_02.set_title('unknown txs')\n",
    "\n",
    "k = 5 # x.5\n",
    "x_licit = labeled[(labeled['class_description']=='licit')].iloc[:,k+1]\n",
    "x_illicit = labeled[(labeled['class_description']=='illicit')].iloc[:,k+1]\n",
    "x_unknown = unlabeled.iloc[:,k+1]\n",
    "\n",
    "ax3 = axes[1,0]\n",
    "ax3.hist(x_licit, bins = bins, density = density)\n",
    "ax3.set(xlabel = f'value of x.{k}')\n",
    "ax3.set(ylabel = 'number of txs')\n",
    "\n",
    "ax4 = axes[1,1]\n",
    "ax4.hist(x_illicit, bins = bins, density = density)\n",
    "ax4.set(xlabel = f'value of x.{k}')\n",
    "ax4.set(ylabel = 'number of txs')\n",
    "\n",
    "ax_12 = axes[1,2]\n",
    "ax_12.hist(x_unknown, bins = bins, density = density)\n",
    "ax_12.set(xlabel = f'value of x.{k}')\n",
    "ax_12.set(ylabel = 'number of txs')\n",
    "\n",
    "\n",
    "k = 20 # x.20\n",
    "x_licit = labeled[(labeled['class_description']=='licit')].iloc[:,k+1]\n",
    "x_illicit = labeled[(labeled['class_description']=='illicit')].iloc[:,k+1]\n",
    "x_unknown = unlabeled.iloc[:,k+1]\n",
    "\n",
    "ax5 = axes[2,0]\n",
    "ax5.hist(x_licit, bins = bins, density = density)\n",
    "ax5.set(xlabel = f'value of x.{k}')\n",
    "ax5.set(ylabel = 'number of txs')\n",
    "\n",
    "ax6 = axes[2,1]\n",
    "ax6.hist(x_illicit, bins = bins, density = density)\n",
    "ax6.set(xlabel = f'value of x.{k}')\n",
    "ax6.set(ylabel = 'number of txs')\n",
    "\n",
    "ax_21 = axes[2,2]\n",
    "ax_21.hist(x_unknown, bins = bins, density = density)\n",
    "ax_21.set(xlabel = f'value of x.{k}')\n",
    "ax_21.set(ylabel = 'number of txs')\n",
    "\n",
    "plt.show()"
   ]
  },
  {
   "cell_type": "markdown",
   "metadata": {
    "id": "_122J8xkN6-v"
   },
   "source": [
    "The significant difference in intervals of variables suggests that some data are irrelevant."
   ]
  },
  {
   "cell_type": "code",
   "execution_count": null,
   "metadata": {
    "colab": {
     "base_uri": "https://localhost:8080/"
    },
    "id": "-Z3AyAkVN9pQ",
    "outputId": "64a1f921-2d54-4ddd-acb4-40176b3754ca"
   },
   "outputs": [
    {
     "name": "stdout",
     "output_type": "stream",
     "text": [
      "The max value of x.5 for illicit class:  0.09507562933306678\n",
      "The max value of x.5 for licit class:  260.0907072901824\n"
     ]
    }
   ],
   "source": [
    "print('The max value of x.5 for illicit class: ',\\\n",
    "      labeled[labeled['class_description'] == 'illicit'].iloc[:,6].max())\n",
    "print('The max value of x.5 for licit class: ', \\\n",
    "      labeled[labeled['class_description'] == 'licit'].iloc[:,6].max())"
   ]
  },
  {
   "cell_type": "markdown",
   "metadata": {
    "id": "dQZNrWQSOAOM"
   },
   "source": [
    "Conclusion : \n",
    "Some features of licit and illicit transactions have different distributions. One can use this observation to build a more efficient clustering algorithm. "
   ]
  },
  {
   "cell_type": "markdown",
   "metadata": {
    "id": "yD1CV5J27yc1"
   },
   "source": [
    "# Building classifiers\n",
    "Based on the exploratory analysis, there are several challenges. Firstly, there is a large amount of unlabeled data, which will not be usable for supervised learning. Secondly, within the labeled data, there is significant imbalance in the class labels which could affect training. Lastly, with PCA in 2 dimensions, there is no good separation of licit vs ilicit classes which could mean that classification might be challenging.\n",
    "\n",
    "Although there are many aspects of the classifier pipeline that could be searched through, we will be limiting ourselves to the following options given the limited time.\n",
    "\n",
    "## Class balance\n",
    "During training, an imbalance in classes could affect the resulting metrics on test data. In this case we will compare 2 options\n",
    "1. No change in class balance\n",
    "2. Random over sampling\n",
    "\n",
    "## Feature representation\n",
    "The feature inputs to models can significantly affect performance. There are various pre-processing steps that could be used such as feature selection via thresholding methods, mutual information, dimensionality reduction and so on. For the purposes of this assignment we will be attempting the following\n",
    "1. No change in base features\n",
    "2. PCA with cut off based on 95% variation captured\n",
    "3. Feature engineering to incorporate graph structure\n",
    "\n",
    "## Classifier type\n",
    "There are a large number of possible classifiers to attempt, but we have chosen 3 main types taking into account computational time required. However we also added some other analysis for general comparison (including SVC, AdaBoost, Kmeans)\n",
    "\n",
    "1. Logistic Regression\n",
    "2. Random Forest\n",
    "3. Graph Neural Networks\n",
    "\n",
    "These 3 classifiers were chosen because they represent a good spread of approaches. Logistic regression is the simplest and will provide a baseline for comparison, representing some of the most traditional machine learning approaches. Random forest models is a step up in complexity, still within traditional machine learning approaches, but applying concepts such as bagging and ensemble learning. Lastly, graph neural networks are a more recent development applying deep learning approaches to leverage graph structure in a more flexible way than manually engineered features.\n",
    "\n",
    "\n"
   ]
  },
  {
   "cell_type": "markdown",
   "metadata": {
    "id": "XqGJiFe2YQYM"
   },
   "source": [
    "# Results\n",
    "\n",
    "\n",
    "\n",
    "## Summary\n",
    "In summary, the pipelines we will be attempting are as follows\n",
    "1. Base features + logistic regression\n",
    "2. Base features + over sampling + logistic regression\n",
    "3. PCA on base features + logistic regression\n",
    "4. PCA on base features + over sampling + logistic regression\n",
    "5. Base and graph features + logistic regression\n",
    "6. Base and graph features + over sampling + logistic regression\n",
    "7. PCA on base and graph features + logistic regression\n",
    "8. PCA on base and graph features + over sampling + logistic regression\n",
    "\n",
    "==========================================================='\n",
    "9. Base features + random forest\n",
    "10. Base features + over sampling + random forest\n",
    "11. PCA on base features + random forest\n",
    "12. PCA on base features + over sampling + random forest\n",
    "13. Base and graph features + random forest\n",
    "14. Base and graph features + over sampling + random forest\n",
    "15. PCA on base and graph features + random forest\n",
    "16. PCA on base and graph features + over sampling + random forest\n",
    "\n",
    "==========================================================='\n",
    "17. Base features + graph convolution network\n",
    "\n",
    "Additionally, each classifier will have hyperparameters tuned using gridsearch cv or some other manual search method.\n",
    "\n",
    "## Evaluation\n",
    "Accuracy, precision, recall, and F1 score will be calculated on test set for each model, but F1 score will be preferred as the data set is inherently imbalanced and in these cases accuracy and other metrics do not provide as robust a metric as F1.\n"
   ]
  },
  {
   "cell_type": "markdown",
   "metadata": {
    "id": "FsJS8oxjbTA4"
   },
   "source": [
    "## Development of deep learning model\n",
    "\n",
    "We build simple GCN model and reported the results are cominbed with all other classifiers in Result Section.\n"
   ]
  },
  {
   "cell_type": "code",
   "execution_count": null,
   "metadata": {
    "id": "az0EQXvRoSJl"
   },
   "outputs": [],
   "source": [
    "class GCN(torch.nn.Module):\n",
    "    def __init__(self, out_c):\n",
    "        super().__init__()\n",
    "        self.conv1 = GCNConv(dl_data.num_node_features, out_c)\n",
    "        self.conv2 = GCNConv(out_c, 2)\n",
    "\n",
    "    def forward(self, data):\n",
    "        x, edge_index = data.x, data.edge_index\n",
    "\n",
    "        x = self.conv1(x, edge_index)\n",
    "        x = F.relu(x)\n",
    "        x = F.dropout(x, training=self.training)\n",
    "        x = self.conv2(x, edge_index)\n",
    "\n",
    "        return F.log_softmax(x, dim=1)\n"
   ]
  },
  {
   "cell_type": "markdown",
   "metadata": {
    "id": "xwa9RU6vsTH3"
   },
   "source": [
    "__Preparing the data for overall comparison__"
   ]
  },
  {
   "cell_type": "code",
   "execution_count": null,
   "metadata": {
    "id": "k8NssEDWX0O7"
   },
   "outputs": [],
   "source": [
    "%%time\n",
    "#######################################################\n",
    "# Preparing the data for overall comparison and GCN #\n",
    "#######################################################\n",
    "\n",
    "def getPCA(data, threshold):\n",
    "    ss = StandardScaler()\n",
    "    pca = PCA()\n",
    "    output = pca.fit_transform(ss.fit_transform(data))\n",
    "    idx = np.argmax(np.cumsum(pca.explained_variance_ratio_) > threshold)\n",
    "    return output[:,:idx+1], pca, ss\n",
    "\n",
    "# Create masks for train and test data\n",
    "train_mask, test_mask = train_test_split(range(labeled.shape[0]), random_state=42)\n",
    "\n",
    "# Create base feature train test\n",
    "base_x_train = labeled.iloc[train_mask, 2:-2]\n",
    "base_y_train = labeled.iloc[train_mask, -2].apply(int) - 1\n",
    "base_x_test = labeled.iloc[test_mask, 2:-2]\n",
    "base_y_test = labeled.iloc[test_mask, -2].apply(int) - 1\n",
    "\n",
    "# Create PCA on base features train test\n",
    "base_pca_x_train, base_pca_model, base_ss_model = getPCA(labeled.iloc[train_mask, 2:-2], 0.95)\n",
    "base_pca_y_train = base_y_train\n",
    "base_pca_x_test = base_pca_model.transform(base_ss_model.transform(base_x_test))\n",
    "base_pca_y_test = base_y_test\n",
    "\n",
    "# Attempt to create features to include graph structure by taking mean of first degree neighbours of each node\n",
    "labeled_edges = labeled[[\"txId\"]].merge(pds.sqldf(\"SELECT * FROM edges_undirected WHERE txId1 IN (SELECT txId FROM labeled) AND txId2 IN (SELECT txId FROM labeled)\", globals()), how=\"left\", left_on=\"txId\", right_on=\"txId1\")\n",
    "neighbour_means = labeled_edges.merge(labeled, how=\"left\", left_on=\"txId2\", right_on=\"txId\").groupby(\"txId_x\")[[\"x.{}\".format(i) for i in range(1,166)]].mean().reset_index()\n",
    "neighbour_means[neighbour_means.isnull()] = 0\n",
    "neighbour_means.columns = [\"txId\"] + [\"x.neighbour.mean.{}\".format(i) for i in range(1,166)]\n",
    "labeled_graph = labeled.merge(neighbour_means, on=\"txId\")\n",
    "\n",
    "# Create graph features train test\n",
    "graph_x_train = labeled_graph.iloc[train_mask, 2:].drop([\"class\",\"class_description\"], axis=1)\n",
    "graph_y_train = base_y_train\n",
    "graph_x_test = labeled_graph.iloc[test_mask, 2:].drop([\"class\",\"class_description\"], axis=1)\n",
    "graph_y_test = base_y_test\n",
    "\n",
    "# Create PCA on graph features train test\n",
    "graph_pca_x_train, graph_pca_model, graph_ss_model = getPCA(labeled_graph.iloc[train_mask, 2:].drop([\"class\",\"class_description\"], axis=1), 0.95)\n",
    "graph_pca_y_train = base_y_train\n",
    "graph_pca_x_test = graph_pca_model.transform(graph_ss_model.transform(labeled_graph.iloc[test_mask, 2:].drop([\"class\",\"class_description\"], axis=1)))\n",
    "graph_pca_y_test = base_y_test\n",
    "\n",
    "# Create deep learning dataset\n",
    "lookup = dict(zip(labeled[\"txId\"].to_numpy(), range(labeled.shape[0])))\n",
    "labeled_edges = labeled_edges.drop(\"txId\", axis=1).dropna()\n",
    "labeled_edges = labeled_edges.applymap(lambda x : lookup[x])\n",
    "xs = torch.tensor(labeled.iloc[:,2:-2].to_numpy(), dtype=torch.float)\n",
    "edge_list = add_self_loops(torch.tensor(labeled_edges.T.to_numpy(), dtype=torch.long))[0]\n",
    "dl_data = Data(x=xs, edge_index=edge_list, y=torch.tensor(labeled[\"class\"].to_numpy(dtype=np.int)-1, dtype=torch.long))"
   ]
  },
  {
   "cell_type": "code",
   "execution_count": null,
   "metadata": {
    "colab": {
     "base_uri": "https://localhost:8080/"
    },
    "id": "IiSFGsFeZOmW",
    "outputId": "d61b51b3-6c8c-4ee1-ecb0-1303cab5149e"
   },
   "outputs": [
    {
     "name": "stdout",
     "output_type": "stream",
     "text": [
      "Fitting 5 folds for each of 4 candidates, totalling 20 fits\n"
     ]
    },
    {
     "name": "stderr",
     "output_type": "stream",
     "text": [
      "/usr/local/lib/python3.7/dist-packages/sklearn/linear_model/_logistic.py:1479: UserWarning: l1_ratio parameter is only used when penalty is 'elasticnet'. Got (penalty=none)\n",
      "  \"(penalty={})\".format(self.penalty)\n",
      "/usr/local/lib/python3.7/dist-packages/sklearn/linear_model/_sag.py:354: ConvergenceWarning: The max_iter was reached which means the coef_ did not converge\n",
      "  ConvergenceWarning,\n",
      "/usr/local/lib/python3.7/dist-packages/sklearn/linear_model/_logistic.py:1479: UserWarning: l1_ratio parameter is only used when penalty is 'elasticnet'. Got (penalty=none)\n",
      "  \"(penalty={})\".format(self.penalty)\n"
     ]
    },
    {
     "name": "stdout",
     "output_type": "stream",
     "text": [
      "[CV] END .......................................penalty=none; total time=  12.8s\n"
     ]
    },
    {
     "name": "stderr",
     "output_type": "stream",
     "text": [
      "/usr/local/lib/python3.7/dist-packages/sklearn/linear_model/_sag.py:354: ConvergenceWarning: The max_iter was reached which means the coef_ did not converge\n",
      "  ConvergenceWarning,\n",
      "/usr/local/lib/python3.7/dist-packages/sklearn/linear_model/_logistic.py:1479: UserWarning: l1_ratio parameter is only used when penalty is 'elasticnet'. Got (penalty=none)\n",
      "  \"(penalty={})\".format(self.penalty)\n"
     ]
    },
    {
     "name": "stdout",
     "output_type": "stream",
     "text": [
      "[CV] END .......................................penalty=none; total time=   7.1s\n"
     ]
    },
    {
     "name": "stderr",
     "output_type": "stream",
     "text": [
      "/usr/local/lib/python3.7/dist-packages/sklearn/linear_model/_sag.py:354: ConvergenceWarning: The max_iter was reached which means the coef_ did not converge\n",
      "  ConvergenceWarning,\n",
      "/usr/local/lib/python3.7/dist-packages/sklearn/linear_model/_logistic.py:1479: UserWarning: l1_ratio parameter is only used when penalty is 'elasticnet'. Got (penalty=none)\n",
      "  \"(penalty={})\".format(self.penalty)\n"
     ]
    },
    {
     "name": "stdout",
     "output_type": "stream",
     "text": [
      "[CV] END .......................................penalty=none; total time=   6.8s\n"
     ]
    },
    {
     "name": "stderr",
     "output_type": "stream",
     "text": [
      "/usr/local/lib/python3.7/dist-packages/sklearn/linear_model/_sag.py:354: ConvergenceWarning: The max_iter was reached which means the coef_ did not converge\n",
      "  ConvergenceWarning,\n",
      "/usr/local/lib/python3.7/dist-packages/sklearn/linear_model/_logistic.py:1479: UserWarning: l1_ratio parameter is only used when penalty is 'elasticnet'. Got (penalty=none)\n",
      "  \"(penalty={})\".format(self.penalty)\n"
     ]
    },
    {
     "name": "stdout",
     "output_type": "stream",
     "text": [
      "[CV] END .......................................penalty=none; total time=   6.8s\n"
     ]
    },
    {
     "name": "stderr",
     "output_type": "stream",
     "text": [
      "/usr/local/lib/python3.7/dist-packages/sklearn/linear_model/_sag.py:354: ConvergenceWarning: The max_iter was reached which means the coef_ did not converge\n",
      "  ConvergenceWarning,\n",
      "/usr/local/lib/python3.7/dist-packages/sklearn/linear_model/_logistic.py:1479: UserWarning: l1_ratio parameter is only used when penalty is 'elasticnet'. Got (penalty=l1)\n",
      "  \"(penalty={})\".format(self.penalty)\n"
     ]
    },
    {
     "name": "stdout",
     "output_type": "stream",
     "text": [
      "[CV] END .......................................penalty=none; total time=   6.9s\n"
     ]
    },
    {
     "name": "stderr",
     "output_type": "stream",
     "text": [
      "/usr/local/lib/python3.7/dist-packages/sklearn/linear_model/_sag.py:354: ConvergenceWarning: The max_iter was reached which means the coef_ did not converge\n",
      "  ConvergenceWarning,\n",
      "/usr/local/lib/python3.7/dist-packages/sklearn/linear_model/_logistic.py:1479: UserWarning: l1_ratio parameter is only used when penalty is 'elasticnet'. Got (penalty=l1)\n",
      "  \"(penalty={})\".format(self.penalty)\n"
     ]
    },
    {
     "name": "stdout",
     "output_type": "stream",
     "text": [
      "[CV] END .........................................penalty=l1; total time=  10.2s\n"
     ]
    },
    {
     "name": "stderr",
     "output_type": "stream",
     "text": [
      "/usr/local/lib/python3.7/dist-packages/sklearn/linear_model/_sag.py:354: ConvergenceWarning: The max_iter was reached which means the coef_ did not converge\n",
      "  ConvergenceWarning,\n",
      "/usr/local/lib/python3.7/dist-packages/sklearn/linear_model/_logistic.py:1479: UserWarning: l1_ratio parameter is only used when penalty is 'elasticnet'. Got (penalty=l1)\n",
      "  \"(penalty={})\".format(self.penalty)\n"
     ]
    },
    {
     "name": "stdout",
     "output_type": "stream",
     "text": [
      "[CV] END .........................................penalty=l1; total time=  23.5s\n"
     ]
    },
    {
     "name": "stderr",
     "output_type": "stream",
     "text": [
      "/usr/local/lib/python3.7/dist-packages/sklearn/linear_model/_sag.py:354: ConvergenceWarning: The max_iter was reached which means the coef_ did not converge\n",
      "  ConvergenceWarning,\n",
      "/usr/local/lib/python3.7/dist-packages/sklearn/linear_model/_logistic.py:1479: UserWarning: l1_ratio parameter is only used when penalty is 'elasticnet'. Got (penalty=l1)\n",
      "  \"(penalty={})\".format(self.penalty)\n"
     ]
    },
    {
     "name": "stdout",
     "output_type": "stream",
     "text": [
      "[CV] END .........................................penalty=l1; total time=  18.6s\n"
     ]
    },
    {
     "name": "stderr",
     "output_type": "stream",
     "text": [
      "/usr/local/lib/python3.7/dist-packages/sklearn/linear_model/_sag.py:354: ConvergenceWarning: The max_iter was reached which means the coef_ did not converge\n",
      "  ConvergenceWarning,\n",
      "/usr/local/lib/python3.7/dist-packages/sklearn/linear_model/_logistic.py:1479: UserWarning: l1_ratio parameter is only used when penalty is 'elasticnet'. Got (penalty=l1)\n",
      "  \"(penalty={})\".format(self.penalty)\n"
     ]
    },
    {
     "name": "stdout",
     "output_type": "stream",
     "text": [
      "[CV] END .........................................penalty=l1; total time=  10.6s\n"
     ]
    },
    {
     "name": "stderr",
     "output_type": "stream",
     "text": [
      "/usr/local/lib/python3.7/dist-packages/sklearn/linear_model/_sag.py:354: ConvergenceWarning: The max_iter was reached which means the coef_ did not converge\n",
      "  ConvergenceWarning,\n",
      "/usr/local/lib/python3.7/dist-packages/sklearn/linear_model/_logistic.py:1479: UserWarning: l1_ratio parameter is only used when penalty is 'elasticnet'. Got (penalty=l2)\n",
      "  \"(penalty={})\".format(self.penalty)\n"
     ]
    },
    {
     "name": "stdout",
     "output_type": "stream",
     "text": [
      "[CV] END .........................................penalty=l1; total time=   9.9s\n"
     ]
    },
    {
     "name": "stderr",
     "output_type": "stream",
     "text": [
      "/usr/local/lib/python3.7/dist-packages/sklearn/linear_model/_sag.py:354: ConvergenceWarning: The max_iter was reached which means the coef_ did not converge\n",
      "  ConvergenceWarning,\n",
      "/usr/local/lib/python3.7/dist-packages/sklearn/linear_model/_logistic.py:1479: UserWarning: l1_ratio parameter is only used when penalty is 'elasticnet'. Got (penalty=l2)\n",
      "  \"(penalty={})\".format(self.penalty)\n"
     ]
    },
    {
     "name": "stdout",
     "output_type": "stream",
     "text": [
      "[CV] END .........................................penalty=l2; total time=   6.8s\n"
     ]
    },
    {
     "name": "stderr",
     "output_type": "stream",
     "text": [
      "/usr/local/lib/python3.7/dist-packages/sklearn/linear_model/_sag.py:354: ConvergenceWarning: The max_iter was reached which means the coef_ did not converge\n",
      "  ConvergenceWarning,\n",
      "/usr/local/lib/python3.7/dist-packages/sklearn/linear_model/_logistic.py:1479: UserWarning: l1_ratio parameter is only used when penalty is 'elasticnet'. Got (penalty=l2)\n",
      "  \"(penalty={})\".format(self.penalty)\n"
     ]
    },
    {
     "name": "stdout",
     "output_type": "stream",
     "text": [
      "[CV] END .........................................penalty=l2; total time=   6.8s\n"
     ]
    },
    {
     "name": "stderr",
     "output_type": "stream",
     "text": [
      "/usr/local/lib/python3.7/dist-packages/sklearn/linear_model/_sag.py:354: ConvergenceWarning: The max_iter was reached which means the coef_ did not converge\n",
      "  ConvergenceWarning,\n",
      "/usr/local/lib/python3.7/dist-packages/sklearn/linear_model/_logistic.py:1479: UserWarning: l1_ratio parameter is only used when penalty is 'elasticnet'. Got (penalty=l2)\n",
      "  \"(penalty={})\".format(self.penalty)\n"
     ]
    },
    {
     "name": "stdout",
     "output_type": "stream",
     "text": [
      "[CV] END .........................................penalty=l2; total time=   6.8s\n"
     ]
    },
    {
     "name": "stderr",
     "output_type": "stream",
     "text": [
      "/usr/local/lib/python3.7/dist-packages/sklearn/linear_model/_sag.py:354: ConvergenceWarning: The max_iter was reached which means the coef_ did not converge\n",
      "  ConvergenceWarning,\n",
      "/usr/local/lib/python3.7/dist-packages/sklearn/linear_model/_logistic.py:1479: UserWarning: l1_ratio parameter is only used when penalty is 'elasticnet'. Got (penalty=l2)\n",
      "  \"(penalty={})\".format(self.penalty)\n"
     ]
    },
    {
     "name": "stdout",
     "output_type": "stream",
     "text": [
      "[CV] END .........................................penalty=l2; total time=   6.8s\n"
     ]
    },
    {
     "name": "stderr",
     "output_type": "stream",
     "text": [
      "/usr/local/lib/python3.7/dist-packages/sklearn/linear_model/_sag.py:354: ConvergenceWarning: The max_iter was reached which means the coef_ did not converge\n",
      "  ConvergenceWarning,\n"
     ]
    },
    {
     "name": "stdout",
     "output_type": "stream",
     "text": [
      "[CV] END .........................................penalty=l2; total time=   6.8s\n"
     ]
    },
    {
     "name": "stderr",
     "output_type": "stream",
     "text": [
      "/usr/local/lib/python3.7/dist-packages/sklearn/linear_model/_sag.py:354: ConvergenceWarning: The max_iter was reached which means the coef_ did not converge\n",
      "  ConvergenceWarning,\n"
     ]
    },
    {
     "name": "stdout",
     "output_type": "stream",
     "text": [
      "[CV] END .................................penalty=elasticnet; total time=  10.1s\n"
     ]
    },
    {
     "name": "stderr",
     "output_type": "stream",
     "text": [
      "/usr/local/lib/python3.7/dist-packages/sklearn/linear_model/_sag.py:354: ConvergenceWarning: The max_iter was reached which means the coef_ did not converge\n",
      "  ConvergenceWarning,\n"
     ]
    },
    {
     "name": "stdout",
     "output_type": "stream",
     "text": [
      "[CV] END .................................penalty=elasticnet; total time=  10.6s\n"
     ]
    },
    {
     "name": "stderr",
     "output_type": "stream",
     "text": [
      "/usr/local/lib/python3.7/dist-packages/sklearn/linear_model/_sag.py:354: ConvergenceWarning: The max_iter was reached which means the coef_ did not converge\n",
      "  ConvergenceWarning,\n"
     ]
    },
    {
     "name": "stdout",
     "output_type": "stream",
     "text": [
      "[CV] END .................................penalty=elasticnet; total time=   9.9s\n"
     ]
    },
    {
     "name": "stderr",
     "output_type": "stream",
     "text": [
      "/usr/local/lib/python3.7/dist-packages/sklearn/linear_model/_sag.py:354: ConvergenceWarning: The max_iter was reached which means the coef_ did not converge\n",
      "  ConvergenceWarning,\n"
     ]
    },
    {
     "name": "stdout",
     "output_type": "stream",
     "text": [
      "[CV] END .................................penalty=elasticnet; total time=  12.1s\n"
     ]
    },
    {
     "name": "stderr",
     "output_type": "stream",
     "text": [
      "/usr/local/lib/python3.7/dist-packages/sklearn/linear_model/_sag.py:354: ConvergenceWarning: The max_iter was reached which means the coef_ did not converge\n",
      "  ConvergenceWarning,\n",
      "/usr/local/lib/python3.7/dist-packages/sklearn/linear_model/_logistic.py:1479: UserWarning: l1_ratio parameter is only used when penalty is 'elasticnet'. Got (penalty=none)\n",
      "  \"(penalty={})\".format(self.penalty)\n"
     ]
    },
    {
     "name": "stdout",
     "output_type": "stream",
     "text": [
      "[CV] END .................................penalty=elasticnet; total time=  10.0s\n"
     ]
    },
    {
     "name": "stderr",
     "output_type": "stream",
     "text": [
      "/usr/local/lib/python3.7/dist-packages/sklearn/linear_model/_sag.py:354: ConvergenceWarning: The max_iter was reached which means the coef_ did not converge\n",
      "  ConvergenceWarning,\n"
     ]
    },
    {
     "name": "stdout",
     "output_type": "stream",
     "text": [
      "Fitting 5 folds for each of 4 candidates, totalling 20 fits\n"
     ]
    },
    {
     "name": "stderr",
     "output_type": "stream",
     "text": [
      "/usr/local/lib/python3.7/dist-packages/sklearn/linear_model/_logistic.py:1479: UserWarning: l1_ratio parameter is only used when penalty is 'elasticnet'. Got (penalty=none)\n",
      "  \"(penalty={})\".format(self.penalty)\n",
      "/usr/local/lib/python3.7/dist-packages/sklearn/linear_model/_sag.py:354: ConvergenceWarning: The max_iter was reached which means the coef_ did not converge\n",
      "  ConvergenceWarning,\n",
      "/usr/local/lib/python3.7/dist-packages/sklearn/linear_model/_logistic.py:1479: UserWarning: l1_ratio parameter is only used when penalty is 'elasticnet'. Got (penalty=none)\n",
      "  \"(penalty={})\".format(self.penalty)\n"
     ]
    },
    {
     "name": "stdout",
     "output_type": "stream",
     "text": [
      "[CV] END .......................................penalty=none; total time=  14.9s\n"
     ]
    },
    {
     "name": "stderr",
     "output_type": "stream",
     "text": [
      "/usr/local/lib/python3.7/dist-packages/sklearn/linear_model/_sag.py:354: ConvergenceWarning: The max_iter was reached which means the coef_ did not converge\n",
      "  ConvergenceWarning,\n",
      "/usr/local/lib/python3.7/dist-packages/sklearn/linear_model/_logistic.py:1479: UserWarning: l1_ratio parameter is only used when penalty is 'elasticnet'. Got (penalty=none)\n",
      "  \"(penalty={})\".format(self.penalty)\n"
     ]
    },
    {
     "name": "stdout",
     "output_type": "stream",
     "text": [
      "[CV] END .......................................penalty=none; total time=  13.0s\n"
     ]
    },
    {
     "name": "stderr",
     "output_type": "stream",
     "text": [
      "/usr/local/lib/python3.7/dist-packages/sklearn/linear_model/_sag.py:354: ConvergenceWarning: The max_iter was reached which means the coef_ did not converge\n",
      "  ConvergenceWarning,\n",
      "/usr/local/lib/python3.7/dist-packages/sklearn/linear_model/_logistic.py:1479: UserWarning: l1_ratio parameter is only used when penalty is 'elasticnet'. Got (penalty=none)\n",
      "  \"(penalty={})\".format(self.penalty)\n"
     ]
    },
    {
     "name": "stdout",
     "output_type": "stream",
     "text": [
      "[CV] END .......................................penalty=none; total time=  13.1s\n"
     ]
    },
    {
     "name": "stderr",
     "output_type": "stream",
     "text": [
      "/usr/local/lib/python3.7/dist-packages/sklearn/linear_model/_sag.py:354: ConvergenceWarning: The max_iter was reached which means the coef_ did not converge\n",
      "  ConvergenceWarning,\n",
      "/usr/local/lib/python3.7/dist-packages/sklearn/linear_model/_logistic.py:1479: UserWarning: l1_ratio parameter is only used when penalty is 'elasticnet'. Got (penalty=none)\n",
      "  \"(penalty={})\".format(self.penalty)\n"
     ]
    },
    {
     "name": "stdout",
     "output_type": "stream",
     "text": [
      "[CV] END .......................................penalty=none; total time=  13.2s\n"
     ]
    },
    {
     "name": "stderr",
     "output_type": "stream",
     "text": [
      "/usr/local/lib/python3.7/dist-packages/sklearn/linear_model/_sag.py:354: ConvergenceWarning: The max_iter was reached which means the coef_ did not converge\n",
      "  ConvergenceWarning,\n",
      "/usr/local/lib/python3.7/dist-packages/sklearn/linear_model/_logistic.py:1479: UserWarning: l1_ratio parameter is only used when penalty is 'elasticnet'. Got (penalty=l1)\n",
      "  \"(penalty={})\".format(self.penalty)\n"
     ]
    },
    {
     "name": "stdout",
     "output_type": "stream",
     "text": [
      "[CV] END .......................................penalty=none; total time=  13.1s\n"
     ]
    },
    {
     "name": "stderr",
     "output_type": "stream",
     "text": [
      "/usr/local/lib/python3.7/dist-packages/sklearn/linear_model/_sag.py:354: ConvergenceWarning: The max_iter was reached which means the coef_ did not converge\n",
      "  ConvergenceWarning,\n",
      "/usr/local/lib/python3.7/dist-packages/sklearn/linear_model/_logistic.py:1479: UserWarning: l1_ratio parameter is only used when penalty is 'elasticnet'. Got (penalty=l1)\n",
      "  \"(penalty={})\".format(self.penalty)\n"
     ]
    },
    {
     "name": "stdout",
     "output_type": "stream",
     "text": [
      "[CV] END .........................................penalty=l1; total time=  20.3s\n"
     ]
    },
    {
     "name": "stderr",
     "output_type": "stream",
     "text": [
      "/usr/local/lib/python3.7/dist-packages/sklearn/linear_model/_sag.py:354: ConvergenceWarning: The max_iter was reached which means the coef_ did not converge\n",
      "  ConvergenceWarning,\n",
      "/usr/local/lib/python3.7/dist-packages/sklearn/linear_model/_logistic.py:1479: UserWarning: l1_ratio parameter is only used when penalty is 'elasticnet'. Got (penalty=l1)\n",
      "  \"(penalty={})\".format(self.penalty)\n"
     ]
    },
    {
     "name": "stdout",
     "output_type": "stream",
     "text": [
      "[CV] END .........................................penalty=l1; total time=  18.5s\n"
     ]
    },
    {
     "name": "stderr",
     "output_type": "stream",
     "text": [
      "/usr/local/lib/python3.7/dist-packages/sklearn/linear_model/_sag.py:354: ConvergenceWarning: The max_iter was reached which means the coef_ did not converge\n",
      "  ConvergenceWarning,\n",
      "/usr/local/lib/python3.7/dist-packages/sklearn/linear_model/_logistic.py:1479: UserWarning: l1_ratio parameter is only used when penalty is 'elasticnet'. Got (penalty=l1)\n",
      "  \"(penalty={})\".format(self.penalty)\n"
     ]
    },
    {
     "name": "stdout",
     "output_type": "stream",
     "text": [
      "[CV] END .........................................penalty=l1; total time=  18.6s\n"
     ]
    },
    {
     "name": "stderr",
     "output_type": "stream",
     "text": [
      "/usr/local/lib/python3.7/dist-packages/sklearn/linear_model/_sag.py:354: ConvergenceWarning: The max_iter was reached which means the coef_ did not converge\n",
      "  ConvergenceWarning,\n",
      "/usr/local/lib/python3.7/dist-packages/sklearn/linear_model/_logistic.py:1479: UserWarning: l1_ratio parameter is only used when penalty is 'elasticnet'. Got (penalty=l1)\n",
      "  \"(penalty={})\".format(self.penalty)\n"
     ]
    },
    {
     "name": "stdout",
     "output_type": "stream",
     "text": [
      "[CV] END .........................................penalty=l1; total time=  19.4s\n"
     ]
    },
    {
     "name": "stderr",
     "output_type": "stream",
     "text": [
      "/usr/local/lib/python3.7/dist-packages/sklearn/linear_model/_sag.py:354: ConvergenceWarning: The max_iter was reached which means the coef_ did not converge\n",
      "  ConvergenceWarning,\n",
      "/usr/local/lib/python3.7/dist-packages/sklearn/linear_model/_logistic.py:1479: UserWarning: l1_ratio parameter is only used when penalty is 'elasticnet'. Got (penalty=l2)\n",
      "  \"(penalty={})\".format(self.penalty)\n"
     ]
    },
    {
     "name": "stdout",
     "output_type": "stream",
     "text": [
      "[CV] END .........................................penalty=l1; total time=  18.4s\n"
     ]
    },
    {
     "name": "stderr",
     "output_type": "stream",
     "text": [
      "/usr/local/lib/python3.7/dist-packages/sklearn/linear_model/_sag.py:354: ConvergenceWarning: The max_iter was reached which means the coef_ did not converge\n",
      "  ConvergenceWarning,\n",
      "/usr/local/lib/python3.7/dist-packages/sklearn/linear_model/_logistic.py:1479: UserWarning: l1_ratio parameter is only used when penalty is 'elasticnet'. Got (penalty=l2)\n",
      "  \"(penalty={})\".format(self.penalty)\n"
     ]
    },
    {
     "name": "stdout",
     "output_type": "stream",
     "text": [
      "[CV] END .........................................penalty=l2; total time=  13.2s\n"
     ]
    },
    {
     "name": "stderr",
     "output_type": "stream",
     "text": [
      "/usr/local/lib/python3.7/dist-packages/sklearn/linear_model/_sag.py:354: ConvergenceWarning: The max_iter was reached which means the coef_ did not converge\n",
      "  ConvergenceWarning,\n",
      "/usr/local/lib/python3.7/dist-packages/sklearn/linear_model/_logistic.py:1479: UserWarning: l1_ratio parameter is only used when penalty is 'elasticnet'. Got (penalty=l2)\n",
      "  \"(penalty={})\".format(self.penalty)\n"
     ]
    },
    {
     "name": "stdout",
     "output_type": "stream",
     "text": [
      "[CV] END .........................................penalty=l2; total time=  13.2s\n"
     ]
    },
    {
     "name": "stderr",
     "output_type": "stream",
     "text": [
      "/usr/local/lib/python3.7/dist-packages/sklearn/linear_model/_sag.py:354: ConvergenceWarning: The max_iter was reached which means the coef_ did not converge\n",
      "  ConvergenceWarning,\n",
      "/usr/local/lib/python3.7/dist-packages/sklearn/linear_model/_logistic.py:1479: UserWarning: l1_ratio parameter is only used when penalty is 'elasticnet'. Got (penalty=l2)\n",
      "  \"(penalty={})\".format(self.penalty)\n"
     ]
    },
    {
     "name": "stdout",
     "output_type": "stream",
     "text": [
      "[CV] END .........................................penalty=l2; total time=  13.0s\n"
     ]
    },
    {
     "name": "stderr",
     "output_type": "stream",
     "text": [
      "/usr/local/lib/python3.7/dist-packages/sklearn/linear_model/_sag.py:354: ConvergenceWarning: The max_iter was reached which means the coef_ did not converge\n",
      "  ConvergenceWarning,\n",
      "/usr/local/lib/python3.7/dist-packages/sklearn/linear_model/_logistic.py:1479: UserWarning: l1_ratio parameter is only used when penalty is 'elasticnet'. Got (penalty=l2)\n",
      "  \"(penalty={})\".format(self.penalty)\n"
     ]
    },
    {
     "name": "stdout",
     "output_type": "stream",
     "text": [
      "[CV] END .........................................penalty=l2; total time=  13.0s\n"
     ]
    },
    {
     "name": "stderr",
     "output_type": "stream",
     "text": [
      "/usr/local/lib/python3.7/dist-packages/sklearn/linear_model/_sag.py:354: ConvergenceWarning: The max_iter was reached which means the coef_ did not converge\n",
      "  ConvergenceWarning,\n"
     ]
    },
    {
     "name": "stdout",
     "output_type": "stream",
     "text": [
      "[CV] END .........................................penalty=l2; total time=  13.3s\n"
     ]
    },
    {
     "name": "stderr",
     "output_type": "stream",
     "text": [
      "/usr/local/lib/python3.7/dist-packages/sklearn/linear_model/_sag.py:354: ConvergenceWarning: The max_iter was reached which means the coef_ did not converge\n",
      "  ConvergenceWarning,\n"
     ]
    },
    {
     "name": "stdout",
     "output_type": "stream",
     "text": [
      "[CV] END .................................penalty=elasticnet; total time=  18.5s\n"
     ]
    },
    {
     "name": "stderr",
     "output_type": "stream",
     "text": [
      "/usr/local/lib/python3.7/dist-packages/sklearn/linear_model/_sag.py:354: ConvergenceWarning: The max_iter was reached which means the coef_ did not converge\n",
      "  ConvergenceWarning,\n"
     ]
    },
    {
     "name": "stdout",
     "output_type": "stream",
     "text": [
      "[CV] END .................................penalty=elasticnet; total time=  19.5s\n"
     ]
    },
    {
     "name": "stderr",
     "output_type": "stream",
     "text": [
      "/usr/local/lib/python3.7/dist-packages/sklearn/linear_model/_sag.py:354: ConvergenceWarning: The max_iter was reached which means the coef_ did not converge\n",
      "  ConvergenceWarning,\n"
     ]
    },
    {
     "name": "stdout",
     "output_type": "stream",
     "text": [
      "[CV] END .................................penalty=elasticnet; total time=  18.6s\n"
     ]
    },
    {
     "name": "stderr",
     "output_type": "stream",
     "text": [
      "/usr/local/lib/python3.7/dist-packages/sklearn/linear_model/_sag.py:354: ConvergenceWarning: The max_iter was reached which means the coef_ did not converge\n",
      "  ConvergenceWarning,\n"
     ]
    },
    {
     "name": "stdout",
     "output_type": "stream",
     "text": [
      "[CV] END .................................penalty=elasticnet; total time=  18.6s\n"
     ]
    },
    {
     "name": "stderr",
     "output_type": "stream",
     "text": [
      "/usr/local/lib/python3.7/dist-packages/sklearn/linear_model/_sag.py:354: ConvergenceWarning: The max_iter was reached which means the coef_ did not converge\n",
      "  ConvergenceWarning,\n",
      "/usr/local/lib/python3.7/dist-packages/sklearn/linear_model/_logistic.py:1479: UserWarning: l1_ratio parameter is only used when penalty is 'elasticnet'. Got (penalty=none)\n",
      "  \"(penalty={})\".format(self.penalty)\n"
     ]
    },
    {
     "name": "stdout",
     "output_type": "stream",
     "text": [
      "[CV] END .................................penalty=elasticnet; total time=  18.5s\n"
     ]
    },
    {
     "name": "stderr",
     "output_type": "stream",
     "text": [
      "/usr/local/lib/python3.7/dist-packages/sklearn/linear_model/_sag.py:354: ConvergenceWarning: The max_iter was reached which means the coef_ did not converge\n",
      "  ConvergenceWarning,\n",
      "/usr/local/lib/python3.7/dist-packages/sklearn/linear_model/_logistic.py:1479: UserWarning: l1_ratio parameter is only used when penalty is 'elasticnet'. Got (penalty=none)\n",
      "  \"(penalty={})\".format(self.penalty)\n"
     ]
    },
    {
     "name": "stdout",
     "output_type": "stream",
     "text": [
      "Fitting 5 folds for each of 4 candidates, totalling 20 fits\n"
     ]
    },
    {
     "name": "stderr",
     "output_type": "stream",
     "text": [
      "/usr/local/lib/python3.7/dist-packages/sklearn/linear_model/_sag.py:354: ConvergenceWarning: The max_iter was reached which means the coef_ did not converge\n",
      "  ConvergenceWarning,\n",
      "/usr/local/lib/python3.7/dist-packages/sklearn/linear_model/_logistic.py:1479: UserWarning: l1_ratio parameter is only used when penalty is 'elasticnet'. Got (penalty=none)\n",
      "  \"(penalty={})\".format(self.penalty)\n"
     ]
    },
    {
     "name": "stdout",
     "output_type": "stream",
     "text": [
      "[CV] END .......................................penalty=none; total time=   3.0s\n"
     ]
    },
    {
     "name": "stderr",
     "output_type": "stream",
     "text": [
      "/usr/local/lib/python3.7/dist-packages/sklearn/linear_model/_sag.py:354: ConvergenceWarning: The max_iter was reached which means the coef_ did not converge\n",
      "  ConvergenceWarning,\n",
      "/usr/local/lib/python3.7/dist-packages/sklearn/linear_model/_logistic.py:1479: UserWarning: l1_ratio parameter is only used when penalty is 'elasticnet'. Got (penalty=none)\n",
      "  \"(penalty={})\".format(self.penalty)\n"
     ]
    },
    {
     "name": "stdout",
     "output_type": "stream",
     "text": [
      "[CV] END .......................................penalty=none; total time=   3.0s\n"
     ]
    },
    {
     "name": "stderr",
     "output_type": "stream",
     "text": [
      "/usr/local/lib/python3.7/dist-packages/sklearn/linear_model/_sag.py:354: ConvergenceWarning: The max_iter was reached which means the coef_ did not converge\n",
      "  ConvergenceWarning,\n",
      "/usr/local/lib/python3.7/dist-packages/sklearn/linear_model/_logistic.py:1479: UserWarning: l1_ratio parameter is only used when penalty is 'elasticnet'. Got (penalty=none)\n",
      "  \"(penalty={})\".format(self.penalty)\n"
     ]
    },
    {
     "name": "stdout",
     "output_type": "stream",
     "text": [
      "[CV] END .......................................penalty=none; total time=   3.0s\n"
     ]
    },
    {
     "name": "stderr",
     "output_type": "stream",
     "text": [
      "/usr/local/lib/python3.7/dist-packages/sklearn/linear_model/_sag.py:354: ConvergenceWarning: The max_iter was reached which means the coef_ did not converge\n",
      "  ConvergenceWarning,\n",
      "/usr/local/lib/python3.7/dist-packages/sklearn/linear_model/_logistic.py:1479: UserWarning: l1_ratio parameter is only used when penalty is 'elasticnet'. Got (penalty=none)\n",
      "  \"(penalty={})\".format(self.penalty)\n"
     ]
    },
    {
     "name": "stdout",
     "output_type": "stream",
     "text": [
      "[CV] END .......................................penalty=none; total time=   3.0s\n"
     ]
    },
    {
     "name": "stderr",
     "output_type": "stream",
     "text": [
      "/usr/local/lib/python3.7/dist-packages/sklearn/linear_model/_sag.py:354: ConvergenceWarning: The max_iter was reached which means the coef_ did not converge\n",
      "  ConvergenceWarning,\n",
      "/usr/local/lib/python3.7/dist-packages/sklearn/linear_model/_logistic.py:1479: UserWarning: l1_ratio parameter is only used when penalty is 'elasticnet'. Got (penalty=l1)\n",
      "  \"(penalty={})\".format(self.penalty)\n"
     ]
    },
    {
     "name": "stdout",
     "output_type": "stream",
     "text": [
      "[CV] END .......................................penalty=none; total time=   3.0s\n"
     ]
    },
    {
     "name": "stderr",
     "output_type": "stream",
     "text": [
      "/usr/local/lib/python3.7/dist-packages/sklearn/linear_model/_sag.py:354: ConvergenceWarning: The max_iter was reached which means the coef_ did not converge\n",
      "  ConvergenceWarning,\n",
      "/usr/local/lib/python3.7/dist-packages/sklearn/linear_model/_logistic.py:1479: UserWarning: l1_ratio parameter is only used when penalty is 'elasticnet'. Got (penalty=l1)\n",
      "  \"(penalty={})\".format(self.penalty)\n"
     ]
    },
    {
     "name": "stdout",
     "output_type": "stream",
     "text": [
      "[CV] END .........................................penalty=l1; total time=   3.8s\n"
     ]
    },
    {
     "name": "stderr",
     "output_type": "stream",
     "text": [
      "/usr/local/lib/python3.7/dist-packages/sklearn/linear_model/_sag.py:354: ConvergenceWarning: The max_iter was reached which means the coef_ did not converge\n",
      "  ConvergenceWarning,\n",
      "/usr/local/lib/python3.7/dist-packages/sklearn/linear_model/_logistic.py:1479: UserWarning: l1_ratio parameter is only used when penalty is 'elasticnet'. Got (penalty=l1)\n",
      "  \"(penalty={})\".format(self.penalty)\n"
     ]
    },
    {
     "name": "stdout",
     "output_type": "stream",
     "text": [
      "[CV] END .........................................penalty=l1; total time=   3.8s\n"
     ]
    },
    {
     "name": "stderr",
     "output_type": "stream",
     "text": [
      "/usr/local/lib/python3.7/dist-packages/sklearn/linear_model/_sag.py:354: ConvergenceWarning: The max_iter was reached which means the coef_ did not converge\n",
      "  ConvergenceWarning,\n",
      "/usr/local/lib/python3.7/dist-packages/sklearn/linear_model/_logistic.py:1479: UserWarning: l1_ratio parameter is only used when penalty is 'elasticnet'. Got (penalty=l1)\n",
      "  \"(penalty={})\".format(self.penalty)\n"
     ]
    },
    {
     "name": "stdout",
     "output_type": "stream",
     "text": [
      "[CV] END .........................................penalty=l1; total time=   4.0s\n"
     ]
    },
    {
     "name": "stderr",
     "output_type": "stream",
     "text": [
      "/usr/local/lib/python3.7/dist-packages/sklearn/linear_model/_sag.py:354: ConvergenceWarning: The max_iter was reached which means the coef_ did not converge\n",
      "  ConvergenceWarning,\n",
      "/usr/local/lib/python3.7/dist-packages/sklearn/linear_model/_logistic.py:1479: UserWarning: l1_ratio parameter is only used when penalty is 'elasticnet'. Got (penalty=l1)\n",
      "  \"(penalty={})\".format(self.penalty)\n"
     ]
    },
    {
     "name": "stdout",
     "output_type": "stream",
     "text": [
      "[CV] END .........................................penalty=l1; total time=   3.8s\n"
     ]
    },
    {
     "name": "stderr",
     "output_type": "stream",
     "text": [
      "/usr/local/lib/python3.7/dist-packages/sklearn/linear_model/_sag.py:354: ConvergenceWarning: The max_iter was reached which means the coef_ did not converge\n",
      "  ConvergenceWarning,\n",
      "/usr/local/lib/python3.7/dist-packages/sklearn/linear_model/_logistic.py:1479: UserWarning: l1_ratio parameter is only used when penalty is 'elasticnet'. Got (penalty=l2)\n",
      "  \"(penalty={})\".format(self.penalty)\n"
     ]
    },
    {
     "name": "stdout",
     "output_type": "stream",
     "text": [
      "[CV] END .........................................penalty=l1; total time=   4.3s\n"
     ]
    },
    {
     "name": "stderr",
     "output_type": "stream",
     "text": [
      "/usr/local/lib/python3.7/dist-packages/sklearn/linear_model/_sag.py:354: ConvergenceWarning: The max_iter was reached which means the coef_ did not converge\n",
      "  ConvergenceWarning,\n",
      "/usr/local/lib/python3.7/dist-packages/sklearn/linear_model/_logistic.py:1479: UserWarning: l1_ratio parameter is only used when penalty is 'elasticnet'. Got (penalty=l2)\n",
      "  \"(penalty={})\".format(self.penalty)\n"
     ]
    },
    {
     "name": "stdout",
     "output_type": "stream",
     "text": [
      "[CV] END .........................................penalty=l2; total time=   4.5s\n"
     ]
    },
    {
     "name": "stderr",
     "output_type": "stream",
     "text": [
      "/usr/local/lib/python3.7/dist-packages/sklearn/linear_model/_sag.py:354: ConvergenceWarning: The max_iter was reached which means the coef_ did not converge\n",
      "  ConvergenceWarning,\n",
      "/usr/local/lib/python3.7/dist-packages/sklearn/linear_model/_logistic.py:1479: UserWarning: l1_ratio parameter is only used when penalty is 'elasticnet'. Got (penalty=l2)\n",
      "  \"(penalty={})\".format(self.penalty)\n"
     ]
    },
    {
     "name": "stdout",
     "output_type": "stream",
     "text": [
      "[CV] END .........................................penalty=l2; total time=   4.1s\n"
     ]
    },
    {
     "name": "stderr",
     "output_type": "stream",
     "text": [
      "/usr/local/lib/python3.7/dist-packages/sklearn/linear_model/_sag.py:354: ConvergenceWarning: The max_iter was reached which means the coef_ did not converge\n",
      "  ConvergenceWarning,\n",
      "/usr/local/lib/python3.7/dist-packages/sklearn/linear_model/_logistic.py:1479: UserWarning: l1_ratio parameter is only used when penalty is 'elasticnet'. Got (penalty=l2)\n",
      "  \"(penalty={})\".format(self.penalty)\n"
     ]
    },
    {
     "name": "stdout",
     "output_type": "stream",
     "text": [
      "[CV] END .........................................penalty=l2; total time=   3.0s\n"
     ]
    },
    {
     "name": "stderr",
     "output_type": "stream",
     "text": [
      "/usr/local/lib/python3.7/dist-packages/sklearn/linear_model/_sag.py:354: ConvergenceWarning: The max_iter was reached which means the coef_ did not converge\n",
      "  ConvergenceWarning,\n",
      "/usr/local/lib/python3.7/dist-packages/sklearn/linear_model/_logistic.py:1479: UserWarning: l1_ratio parameter is only used when penalty is 'elasticnet'. Got (penalty=l2)\n",
      "  \"(penalty={})\".format(self.penalty)\n"
     ]
    },
    {
     "name": "stdout",
     "output_type": "stream",
     "text": [
      "[CV] END .........................................penalty=l2; total time=   3.0s\n"
     ]
    },
    {
     "name": "stderr",
     "output_type": "stream",
     "text": [
      "/usr/local/lib/python3.7/dist-packages/sklearn/linear_model/_sag.py:354: ConvergenceWarning: The max_iter was reached which means the coef_ did not converge\n",
      "  ConvergenceWarning,\n"
     ]
    },
    {
     "name": "stdout",
     "output_type": "stream",
     "text": [
      "[CV] END .........................................penalty=l2; total time=   3.0s\n"
     ]
    },
    {
     "name": "stderr",
     "output_type": "stream",
     "text": [
      "/usr/local/lib/python3.7/dist-packages/sklearn/linear_model/_sag.py:354: ConvergenceWarning: The max_iter was reached which means the coef_ did not converge\n",
      "  ConvergenceWarning,\n"
     ]
    },
    {
     "name": "stdout",
     "output_type": "stream",
     "text": [
      "[CV] END .................................penalty=elasticnet; total time=   3.9s\n"
     ]
    },
    {
     "name": "stderr",
     "output_type": "stream",
     "text": [
      "/usr/local/lib/python3.7/dist-packages/sklearn/linear_model/_sag.py:354: ConvergenceWarning: The max_iter was reached which means the coef_ did not converge\n",
      "  ConvergenceWarning,\n"
     ]
    },
    {
     "name": "stdout",
     "output_type": "stream",
     "text": [
      "[CV] END .................................penalty=elasticnet; total time=   3.8s\n"
     ]
    },
    {
     "name": "stderr",
     "output_type": "stream",
     "text": [
      "/usr/local/lib/python3.7/dist-packages/sklearn/linear_model/_sag.py:354: ConvergenceWarning: The max_iter was reached which means the coef_ did not converge\n",
      "  ConvergenceWarning,\n"
     ]
    },
    {
     "name": "stdout",
     "output_type": "stream",
     "text": [
      "[CV] END .................................penalty=elasticnet; total time=   3.9s\n"
     ]
    },
    {
     "name": "stderr",
     "output_type": "stream",
     "text": [
      "/usr/local/lib/python3.7/dist-packages/sklearn/linear_model/_sag.py:354: ConvergenceWarning: The max_iter was reached which means the coef_ did not converge\n",
      "  ConvergenceWarning,\n"
     ]
    },
    {
     "name": "stdout",
     "output_type": "stream",
     "text": [
      "[CV] END .................................penalty=elasticnet; total time=   3.9s\n"
     ]
    },
    {
     "name": "stderr",
     "output_type": "stream",
     "text": [
      "/usr/local/lib/python3.7/dist-packages/sklearn/linear_model/_sag.py:354: ConvergenceWarning: The max_iter was reached which means the coef_ did not converge\n",
      "  ConvergenceWarning,\n",
      "/usr/local/lib/python3.7/dist-packages/sklearn/linear_model/_logistic.py:1479: UserWarning: l1_ratio parameter is only used when penalty is 'elasticnet'. Got (penalty=none)\n",
      "  \"(penalty={})\".format(self.penalty)\n"
     ]
    },
    {
     "name": "stdout",
     "output_type": "stream",
     "text": [
      "[CV] END .................................penalty=elasticnet; total time=   4.0s\n"
     ]
    },
    {
     "name": "stderr",
     "output_type": "stream",
     "text": [
      "/usr/local/lib/python3.7/dist-packages/sklearn/linear_model/_sag.py:354: ConvergenceWarning: The max_iter was reached which means the coef_ did not converge\n",
      "  ConvergenceWarning,\n",
      "/usr/local/lib/python3.7/dist-packages/sklearn/linear_model/_logistic.py:1479: UserWarning: l1_ratio parameter is only used when penalty is 'elasticnet'. Got (penalty=none)\n",
      "  \"(penalty={})\".format(self.penalty)\n"
     ]
    },
    {
     "name": "stdout",
     "output_type": "stream",
     "text": [
      "Fitting 5 folds for each of 4 candidates, totalling 20 fits\n"
     ]
    },
    {
     "name": "stderr",
     "output_type": "stream",
     "text": [
      "/usr/local/lib/python3.7/dist-packages/sklearn/linear_model/_sag.py:354: ConvergenceWarning: The max_iter was reached which means the coef_ did not converge\n",
      "  ConvergenceWarning,\n",
      "/usr/local/lib/python3.7/dist-packages/sklearn/linear_model/_logistic.py:1479: UserWarning: l1_ratio parameter is only used when penalty is 'elasticnet'. Got (penalty=none)\n",
      "  \"(penalty={})\".format(self.penalty)\n"
     ]
    },
    {
     "name": "stdout",
     "output_type": "stream",
     "text": [
      "[CV] END .......................................penalty=none; total time=   5.8s\n"
     ]
    },
    {
     "name": "stderr",
     "output_type": "stream",
     "text": [
      "/usr/local/lib/python3.7/dist-packages/sklearn/linear_model/_sag.py:354: ConvergenceWarning: The max_iter was reached which means the coef_ did not converge\n",
      "  ConvergenceWarning,\n",
      "/usr/local/lib/python3.7/dist-packages/sklearn/linear_model/_logistic.py:1479: UserWarning: l1_ratio parameter is only used when penalty is 'elasticnet'. Got (penalty=none)\n",
      "  \"(penalty={})\".format(self.penalty)\n"
     ]
    },
    {
     "name": "stdout",
     "output_type": "stream",
     "text": [
      "[CV] END .......................................penalty=none; total time=   5.8s\n"
     ]
    },
    {
     "name": "stderr",
     "output_type": "stream",
     "text": [
      "/usr/local/lib/python3.7/dist-packages/sklearn/linear_model/_sag.py:354: ConvergenceWarning: The max_iter was reached which means the coef_ did not converge\n",
      "  ConvergenceWarning,\n",
      "/usr/local/lib/python3.7/dist-packages/sklearn/linear_model/_logistic.py:1479: UserWarning: l1_ratio parameter is only used when penalty is 'elasticnet'. Got (penalty=none)\n",
      "  \"(penalty={})\".format(self.penalty)\n"
     ]
    },
    {
     "name": "stdout",
     "output_type": "stream",
     "text": [
      "[CV] END .......................................penalty=none; total time=   5.8s\n"
     ]
    },
    {
     "name": "stderr",
     "output_type": "stream",
     "text": [
      "/usr/local/lib/python3.7/dist-packages/sklearn/linear_model/_sag.py:354: ConvergenceWarning: The max_iter was reached which means the coef_ did not converge\n",
      "  ConvergenceWarning,\n",
      "/usr/local/lib/python3.7/dist-packages/sklearn/linear_model/_logistic.py:1479: UserWarning: l1_ratio parameter is only used when penalty is 'elasticnet'. Got (penalty=none)\n",
      "  \"(penalty={})\".format(self.penalty)\n"
     ]
    },
    {
     "name": "stdout",
     "output_type": "stream",
     "text": [
      "[CV] END .......................................penalty=none; total time=   5.8s\n"
     ]
    },
    {
     "name": "stderr",
     "output_type": "stream",
     "text": [
      "/usr/local/lib/python3.7/dist-packages/sklearn/linear_model/_sag.py:354: ConvergenceWarning: The max_iter was reached which means the coef_ did not converge\n",
      "  ConvergenceWarning,\n",
      "/usr/local/lib/python3.7/dist-packages/sklearn/linear_model/_logistic.py:1479: UserWarning: l1_ratio parameter is only used when penalty is 'elasticnet'. Got (penalty=l1)\n",
      "  \"(penalty={})\".format(self.penalty)\n"
     ]
    },
    {
     "name": "stdout",
     "output_type": "stream",
     "text": [
      "[CV] END .......................................penalty=none; total time=   5.8s\n"
     ]
    },
    {
     "name": "stderr",
     "output_type": "stream",
     "text": [
      "/usr/local/lib/python3.7/dist-packages/sklearn/linear_model/_sag.py:354: ConvergenceWarning: The max_iter was reached which means the coef_ did not converge\n",
      "  ConvergenceWarning,\n",
      "/usr/local/lib/python3.7/dist-packages/sklearn/linear_model/_logistic.py:1479: UserWarning: l1_ratio parameter is only used when penalty is 'elasticnet'. Got (penalty=l1)\n",
      "  \"(penalty={})\".format(self.penalty)\n"
     ]
    },
    {
     "name": "stdout",
     "output_type": "stream",
     "text": [
      "[CV] END .........................................penalty=l1; total time=   7.2s\n"
     ]
    },
    {
     "name": "stderr",
     "output_type": "stream",
     "text": [
      "/usr/local/lib/python3.7/dist-packages/sklearn/linear_model/_sag.py:354: ConvergenceWarning: The max_iter was reached which means the coef_ did not converge\n",
      "  ConvergenceWarning,\n",
      "/usr/local/lib/python3.7/dist-packages/sklearn/linear_model/_logistic.py:1479: UserWarning: l1_ratio parameter is only used when penalty is 'elasticnet'. Got (penalty=l1)\n",
      "  \"(penalty={})\".format(self.penalty)\n"
     ]
    },
    {
     "name": "stdout",
     "output_type": "stream",
     "text": [
      "[CV] END .........................................penalty=l1; total time=   7.3s\n"
     ]
    },
    {
     "name": "stderr",
     "output_type": "stream",
     "text": [
      "/usr/local/lib/python3.7/dist-packages/sklearn/linear_model/_sag.py:354: ConvergenceWarning: The max_iter was reached which means the coef_ did not converge\n",
      "  ConvergenceWarning,\n",
      "/usr/local/lib/python3.7/dist-packages/sklearn/linear_model/_logistic.py:1479: UserWarning: l1_ratio parameter is only used when penalty is 'elasticnet'. Got (penalty=l1)\n",
      "  \"(penalty={})\".format(self.penalty)\n"
     ]
    },
    {
     "name": "stdout",
     "output_type": "stream",
     "text": [
      "[CV] END .........................................penalty=l1; total time=   7.4s\n"
     ]
    },
    {
     "name": "stderr",
     "output_type": "stream",
     "text": [
      "/usr/local/lib/python3.7/dist-packages/sklearn/linear_model/_sag.py:354: ConvergenceWarning: The max_iter was reached which means the coef_ did not converge\n",
      "  ConvergenceWarning,\n",
      "/usr/local/lib/python3.7/dist-packages/sklearn/linear_model/_logistic.py:1479: UserWarning: l1_ratio parameter is only used when penalty is 'elasticnet'. Got (penalty=l1)\n",
      "  \"(penalty={})\".format(self.penalty)\n"
     ]
    },
    {
     "name": "stdout",
     "output_type": "stream",
     "text": [
      "[CV] END .........................................penalty=l1; total time=   7.6s\n"
     ]
    },
    {
     "name": "stderr",
     "output_type": "stream",
     "text": [
      "/usr/local/lib/python3.7/dist-packages/sklearn/linear_model/_sag.py:354: ConvergenceWarning: The max_iter was reached which means the coef_ did not converge\n",
      "  ConvergenceWarning,\n",
      "/usr/local/lib/python3.7/dist-packages/sklearn/linear_model/_logistic.py:1479: UserWarning: l1_ratio parameter is only used when penalty is 'elasticnet'. Got (penalty=l2)\n",
      "  \"(penalty={})\".format(self.penalty)\n"
     ]
    },
    {
     "name": "stdout",
     "output_type": "stream",
     "text": [
      "[CV] END .........................................penalty=l1; total time=   7.4s\n"
     ]
    },
    {
     "name": "stderr",
     "output_type": "stream",
     "text": [
      "/usr/local/lib/python3.7/dist-packages/sklearn/linear_model/_sag.py:354: ConvergenceWarning: The max_iter was reached which means the coef_ did not converge\n",
      "  ConvergenceWarning,\n",
      "/usr/local/lib/python3.7/dist-packages/sklearn/linear_model/_logistic.py:1479: UserWarning: l1_ratio parameter is only used when penalty is 'elasticnet'. Got (penalty=l2)\n",
      "  \"(penalty={})\".format(self.penalty)\n"
     ]
    },
    {
     "name": "stdout",
     "output_type": "stream",
     "text": [
      "[CV] END .........................................penalty=l2; total time=   6.0s\n"
     ]
    },
    {
     "name": "stderr",
     "output_type": "stream",
     "text": [
      "/usr/local/lib/python3.7/dist-packages/sklearn/linear_model/_sag.py:354: ConvergenceWarning: The max_iter was reached which means the coef_ did not converge\n",
      "  ConvergenceWarning,\n",
      "/usr/local/lib/python3.7/dist-packages/sklearn/linear_model/_logistic.py:1479: UserWarning: l1_ratio parameter is only used when penalty is 'elasticnet'. Got (penalty=l2)\n",
      "  \"(penalty={})\".format(self.penalty)\n"
     ]
    },
    {
     "name": "stdout",
     "output_type": "stream",
     "text": [
      "[CV] END .........................................penalty=l2; total time=   5.9s\n"
     ]
    },
    {
     "name": "stderr",
     "output_type": "stream",
     "text": [
      "/usr/local/lib/python3.7/dist-packages/sklearn/linear_model/_sag.py:354: ConvergenceWarning: The max_iter was reached which means the coef_ did not converge\n",
      "  ConvergenceWarning,\n",
      "/usr/local/lib/python3.7/dist-packages/sklearn/linear_model/_logistic.py:1479: UserWarning: l1_ratio parameter is only used when penalty is 'elasticnet'. Got (penalty=l2)\n",
      "  \"(penalty={})\".format(self.penalty)\n"
     ]
    },
    {
     "name": "stdout",
     "output_type": "stream",
     "text": [
      "[CV] END .........................................penalty=l2; total time=   5.9s\n"
     ]
    },
    {
     "name": "stderr",
     "output_type": "stream",
     "text": [
      "/usr/local/lib/python3.7/dist-packages/sklearn/linear_model/_sag.py:354: ConvergenceWarning: The max_iter was reached which means the coef_ did not converge\n",
      "  ConvergenceWarning,\n",
      "/usr/local/lib/python3.7/dist-packages/sklearn/linear_model/_logistic.py:1479: UserWarning: l1_ratio parameter is only used when penalty is 'elasticnet'. Got (penalty=l2)\n",
      "  \"(penalty={})\".format(self.penalty)\n"
     ]
    },
    {
     "name": "stdout",
     "output_type": "stream",
     "text": [
      "[CV] END .........................................penalty=l2; total time=   5.9s\n"
     ]
    },
    {
     "name": "stderr",
     "output_type": "stream",
     "text": [
      "/usr/local/lib/python3.7/dist-packages/sklearn/linear_model/_sag.py:354: ConvergenceWarning: The max_iter was reached which means the coef_ did not converge\n",
      "  ConvergenceWarning,\n"
     ]
    },
    {
     "name": "stdout",
     "output_type": "stream",
     "text": [
      "[CV] END .........................................penalty=l2; total time=   5.8s\n"
     ]
    },
    {
     "name": "stderr",
     "output_type": "stream",
     "text": [
      "/usr/local/lib/python3.7/dist-packages/sklearn/linear_model/_sag.py:354: ConvergenceWarning: The max_iter was reached which means the coef_ did not converge\n",
      "  ConvergenceWarning,\n"
     ]
    },
    {
     "name": "stdout",
     "output_type": "stream",
     "text": [
      "[CV] END .................................penalty=elasticnet; total time=   7.3s\n"
     ]
    },
    {
     "name": "stderr",
     "output_type": "stream",
     "text": [
      "/usr/local/lib/python3.7/dist-packages/sklearn/linear_model/_sag.py:354: ConvergenceWarning: The max_iter was reached which means the coef_ did not converge\n",
      "  ConvergenceWarning,\n"
     ]
    },
    {
     "name": "stdout",
     "output_type": "stream",
     "text": [
      "[CV] END .................................penalty=elasticnet; total time=   7.2s\n"
     ]
    },
    {
     "name": "stderr",
     "output_type": "stream",
     "text": [
      "/usr/local/lib/python3.7/dist-packages/sklearn/linear_model/_sag.py:354: ConvergenceWarning: The max_iter was reached which means the coef_ did not converge\n",
      "  ConvergenceWarning,\n"
     ]
    },
    {
     "name": "stdout",
     "output_type": "stream",
     "text": [
      "[CV] END .................................penalty=elasticnet; total time=   7.3s\n"
     ]
    },
    {
     "name": "stderr",
     "output_type": "stream",
     "text": [
      "/usr/local/lib/python3.7/dist-packages/sklearn/linear_model/_sag.py:354: ConvergenceWarning: The max_iter was reached which means the coef_ did not converge\n",
      "  ConvergenceWarning,\n"
     ]
    },
    {
     "name": "stdout",
     "output_type": "stream",
     "text": [
      "[CV] END .................................penalty=elasticnet; total time=   7.3s\n"
     ]
    },
    {
     "name": "stderr",
     "output_type": "stream",
     "text": [
      "/usr/local/lib/python3.7/dist-packages/sklearn/linear_model/_sag.py:354: ConvergenceWarning: The max_iter was reached which means the coef_ did not converge\n",
      "  ConvergenceWarning,\n",
      "/usr/local/lib/python3.7/dist-packages/sklearn/linear_model/_logistic.py:1479: UserWarning: l1_ratio parameter is only used when penalty is 'elasticnet'. Got (penalty=l2)\n",
      "  \"(penalty={})\".format(self.penalty)\n"
     ]
    },
    {
     "name": "stdout",
     "output_type": "stream",
     "text": [
      "[CV] END .................................penalty=elasticnet; total time=   7.2s\n"
     ]
    },
    {
     "name": "stderr",
     "output_type": "stream",
     "text": [
      "/usr/local/lib/python3.7/dist-packages/sklearn/linear_model/_sag.py:354: ConvergenceWarning: The max_iter was reached which means the coef_ did not converge\n",
      "  ConvergenceWarning,\n",
      "/usr/local/lib/python3.7/dist-packages/sklearn/linear_model/_logistic.py:1479: UserWarning: l1_ratio parameter is only used when penalty is 'elasticnet'. Got (penalty=none)\n",
      "  \"(penalty={})\".format(self.penalty)\n"
     ]
    },
    {
     "name": "stdout",
     "output_type": "stream",
     "text": [
      "Fitting 5 folds for each of 4 candidates, totalling 20 fits\n"
     ]
    },
    {
     "name": "stderr",
     "output_type": "stream",
     "text": [
      "/usr/local/lib/python3.7/dist-packages/sklearn/linear_model/_sag.py:354: ConvergenceWarning: The max_iter was reached which means the coef_ did not converge\n",
      "  ConvergenceWarning,\n",
      "/usr/local/lib/python3.7/dist-packages/sklearn/linear_model/_logistic.py:1479: UserWarning: l1_ratio parameter is only used when penalty is 'elasticnet'. Got (penalty=none)\n",
      "  \"(penalty={})\".format(self.penalty)\n"
     ]
    },
    {
     "name": "stdout",
     "output_type": "stream",
     "text": [
      "[CV] END .......................................penalty=none; total time=  12.6s\n"
     ]
    },
    {
     "name": "stderr",
     "output_type": "stream",
     "text": [
      "/usr/local/lib/python3.7/dist-packages/sklearn/linear_model/_sag.py:354: ConvergenceWarning: The max_iter was reached which means the coef_ did not converge\n",
      "  ConvergenceWarning,\n",
      "/usr/local/lib/python3.7/dist-packages/sklearn/linear_model/_logistic.py:1479: UserWarning: l1_ratio parameter is only used when penalty is 'elasticnet'. Got (penalty=none)\n",
      "  \"(penalty={})\".format(self.penalty)\n"
     ]
    },
    {
     "name": "stdout",
     "output_type": "stream",
     "text": [
      "[CV] END .......................................penalty=none; total time=  12.5s\n"
     ]
    },
    {
     "name": "stderr",
     "output_type": "stream",
     "text": [
      "/usr/local/lib/python3.7/dist-packages/sklearn/linear_model/_sag.py:354: ConvergenceWarning: The max_iter was reached which means the coef_ did not converge\n",
      "  ConvergenceWarning,\n",
      "/usr/local/lib/python3.7/dist-packages/sklearn/linear_model/_logistic.py:1479: UserWarning: l1_ratio parameter is only used when penalty is 'elasticnet'. Got (penalty=none)\n",
      "  \"(penalty={})\".format(self.penalty)\n"
     ]
    },
    {
     "name": "stdout",
     "output_type": "stream",
     "text": [
      "[CV] END .......................................penalty=none; total time=  12.6s\n"
     ]
    },
    {
     "name": "stderr",
     "output_type": "stream",
     "text": [
      "/usr/local/lib/python3.7/dist-packages/sklearn/linear_model/_sag.py:354: ConvergenceWarning: The max_iter was reached which means the coef_ did not converge\n",
      "  ConvergenceWarning,\n",
      "/usr/local/lib/python3.7/dist-packages/sklearn/linear_model/_logistic.py:1479: UserWarning: l1_ratio parameter is only used when penalty is 'elasticnet'. Got (penalty=none)\n",
      "  \"(penalty={})\".format(self.penalty)\n"
     ]
    },
    {
     "name": "stdout",
     "output_type": "stream",
     "text": [
      "[CV] END .......................................penalty=none; total time=  12.4s\n"
     ]
    },
    {
     "name": "stderr",
     "output_type": "stream",
     "text": [
      "/usr/local/lib/python3.7/dist-packages/sklearn/linear_model/_sag.py:354: ConvergenceWarning: The max_iter was reached which means the coef_ did not converge\n",
      "  ConvergenceWarning,\n",
      "/usr/local/lib/python3.7/dist-packages/sklearn/linear_model/_logistic.py:1479: UserWarning: l1_ratio parameter is only used when penalty is 'elasticnet'. Got (penalty=l1)\n",
      "  \"(penalty={})\".format(self.penalty)\n"
     ]
    },
    {
     "name": "stdout",
     "output_type": "stream",
     "text": [
      "[CV] END .......................................penalty=none; total time=  12.5s\n"
     ]
    },
    {
     "name": "stderr",
     "output_type": "stream",
     "text": [
      "/usr/local/lib/python3.7/dist-packages/sklearn/linear_model/_sag.py:354: ConvergenceWarning: The max_iter was reached which means the coef_ did not converge\n",
      "  ConvergenceWarning,\n",
      "/usr/local/lib/python3.7/dist-packages/sklearn/linear_model/_logistic.py:1479: UserWarning: l1_ratio parameter is only used when penalty is 'elasticnet'. Got (penalty=l1)\n",
      "  \"(penalty={})\".format(self.penalty)\n"
     ]
    },
    {
     "name": "stdout",
     "output_type": "stream",
     "text": [
      "[CV] END .........................................penalty=l1; total time=  19.1s\n"
     ]
    },
    {
     "name": "stderr",
     "output_type": "stream",
     "text": [
      "/usr/local/lib/python3.7/dist-packages/sklearn/linear_model/_sag.py:354: ConvergenceWarning: The max_iter was reached which means the coef_ did not converge\n",
      "  ConvergenceWarning,\n",
      "/usr/local/lib/python3.7/dist-packages/sklearn/linear_model/_logistic.py:1479: UserWarning: l1_ratio parameter is only used when penalty is 'elasticnet'. Got (penalty=l1)\n",
      "  \"(penalty={})\".format(self.penalty)\n"
     ]
    },
    {
     "name": "stdout",
     "output_type": "stream",
     "text": [
      "[CV] END .........................................penalty=l1; total time=  19.2s\n"
     ]
    },
    {
     "name": "stderr",
     "output_type": "stream",
     "text": [
      "/usr/local/lib/python3.7/dist-packages/sklearn/linear_model/_sag.py:354: ConvergenceWarning: The max_iter was reached which means the coef_ did not converge\n",
      "  ConvergenceWarning,\n",
      "/usr/local/lib/python3.7/dist-packages/sklearn/linear_model/_logistic.py:1479: UserWarning: l1_ratio parameter is only used when penalty is 'elasticnet'. Got (penalty=l1)\n",
      "  \"(penalty={})\".format(self.penalty)\n"
     ]
    },
    {
     "name": "stdout",
     "output_type": "stream",
     "text": [
      "[CV] END .........................................penalty=l1; total time=  19.0s\n"
     ]
    },
    {
     "name": "stderr",
     "output_type": "stream",
     "text": [
      "/usr/local/lib/python3.7/dist-packages/sklearn/linear_model/_sag.py:354: ConvergenceWarning: The max_iter was reached which means the coef_ did not converge\n",
      "  ConvergenceWarning,\n",
      "/usr/local/lib/python3.7/dist-packages/sklearn/linear_model/_logistic.py:1479: UserWarning: l1_ratio parameter is only used when penalty is 'elasticnet'. Got (penalty=l1)\n",
      "  \"(penalty={})\".format(self.penalty)\n"
     ]
    },
    {
     "name": "stdout",
     "output_type": "stream",
     "text": [
      "[CV] END .........................................penalty=l1; total time=  19.0s\n"
     ]
    },
    {
     "name": "stderr",
     "output_type": "stream",
     "text": [
      "/usr/local/lib/python3.7/dist-packages/sklearn/linear_model/_sag.py:354: ConvergenceWarning: The max_iter was reached which means the coef_ did not converge\n",
      "  ConvergenceWarning,\n",
      "/usr/local/lib/python3.7/dist-packages/sklearn/linear_model/_logistic.py:1479: UserWarning: l1_ratio parameter is only used when penalty is 'elasticnet'. Got (penalty=l2)\n",
      "  \"(penalty={})\".format(self.penalty)\n"
     ]
    },
    {
     "name": "stdout",
     "output_type": "stream",
     "text": [
      "[CV] END .........................................penalty=l1; total time=  19.3s\n"
     ]
    },
    {
     "name": "stderr",
     "output_type": "stream",
     "text": [
      "/usr/local/lib/python3.7/dist-packages/sklearn/linear_model/_sag.py:354: ConvergenceWarning: The max_iter was reached which means the coef_ did not converge\n",
      "  ConvergenceWarning,\n",
      "/usr/local/lib/python3.7/dist-packages/sklearn/linear_model/_logistic.py:1479: UserWarning: l1_ratio parameter is only used when penalty is 'elasticnet'. Got (penalty=l2)\n",
      "  \"(penalty={})\".format(self.penalty)\n"
     ]
    },
    {
     "name": "stdout",
     "output_type": "stream",
     "text": [
      "[CV] END .........................................penalty=l2; total time=  12.5s\n"
     ]
    },
    {
     "name": "stderr",
     "output_type": "stream",
     "text": [
      "/usr/local/lib/python3.7/dist-packages/sklearn/linear_model/_sag.py:354: ConvergenceWarning: The max_iter was reached which means the coef_ did not converge\n",
      "  ConvergenceWarning,\n",
      "/usr/local/lib/python3.7/dist-packages/sklearn/linear_model/_logistic.py:1479: UserWarning: l1_ratio parameter is only used when penalty is 'elasticnet'. Got (penalty=l2)\n",
      "  \"(penalty={})\".format(self.penalty)\n"
     ]
    },
    {
     "name": "stdout",
     "output_type": "stream",
     "text": [
      "[CV] END .........................................penalty=l2; total time=  12.5s\n"
     ]
    },
    {
     "name": "stderr",
     "output_type": "stream",
     "text": [
      "/usr/local/lib/python3.7/dist-packages/sklearn/linear_model/_sag.py:354: ConvergenceWarning: The max_iter was reached which means the coef_ did not converge\n",
      "  ConvergenceWarning,\n",
      "/usr/local/lib/python3.7/dist-packages/sklearn/linear_model/_logistic.py:1479: UserWarning: l1_ratio parameter is only used when penalty is 'elasticnet'. Got (penalty=l2)\n",
      "  \"(penalty={})\".format(self.penalty)\n"
     ]
    },
    {
     "name": "stdout",
     "output_type": "stream",
     "text": [
      "[CV] END .........................................penalty=l2; total time=  12.5s\n"
     ]
    },
    {
     "name": "stderr",
     "output_type": "stream",
     "text": [
      "/usr/local/lib/python3.7/dist-packages/sklearn/linear_model/_sag.py:354: ConvergenceWarning: The max_iter was reached which means the coef_ did not converge\n",
      "  ConvergenceWarning,\n",
      "/usr/local/lib/python3.7/dist-packages/sklearn/linear_model/_logistic.py:1479: UserWarning: l1_ratio parameter is only used when penalty is 'elasticnet'. Got (penalty=l2)\n",
      "  \"(penalty={})\".format(self.penalty)\n"
     ]
    },
    {
     "name": "stdout",
     "output_type": "stream",
     "text": [
      "[CV] END .........................................penalty=l2; total time=  12.5s\n"
     ]
    },
    {
     "name": "stderr",
     "output_type": "stream",
     "text": [
      "/usr/local/lib/python3.7/dist-packages/sklearn/linear_model/_sag.py:354: ConvergenceWarning: The max_iter was reached which means the coef_ did not converge\n",
      "  ConvergenceWarning,\n"
     ]
    },
    {
     "name": "stdout",
     "output_type": "stream",
     "text": [
      "[CV] END .........................................penalty=l2; total time=  12.6s\n"
     ]
    },
    {
     "name": "stderr",
     "output_type": "stream",
     "text": [
      "/usr/local/lib/python3.7/dist-packages/sklearn/linear_model/_sag.py:354: ConvergenceWarning: The max_iter was reached which means the coef_ did not converge\n",
      "  ConvergenceWarning,\n"
     ]
    },
    {
     "name": "stdout",
     "output_type": "stream",
     "text": [
      "[CV] END .................................penalty=elasticnet; total time=  19.3s\n"
     ]
    },
    {
     "name": "stderr",
     "output_type": "stream",
     "text": [
      "/usr/local/lib/python3.7/dist-packages/sklearn/linear_model/_sag.py:354: ConvergenceWarning: The max_iter was reached which means the coef_ did not converge\n",
      "  ConvergenceWarning,\n"
     ]
    },
    {
     "name": "stdout",
     "output_type": "stream",
     "text": [
      "[CV] END .................................penalty=elasticnet; total time=  19.4s\n"
     ]
    },
    {
     "name": "stderr",
     "output_type": "stream",
     "text": [
      "/usr/local/lib/python3.7/dist-packages/sklearn/linear_model/_sag.py:354: ConvergenceWarning: The max_iter was reached which means the coef_ did not converge\n",
      "  ConvergenceWarning,\n"
     ]
    },
    {
     "name": "stdout",
     "output_type": "stream",
     "text": [
      "[CV] END .................................penalty=elasticnet; total time=  19.2s\n"
     ]
    },
    {
     "name": "stderr",
     "output_type": "stream",
     "text": [
      "/usr/local/lib/python3.7/dist-packages/sklearn/linear_model/_sag.py:354: ConvergenceWarning: The max_iter was reached which means the coef_ did not converge\n",
      "  ConvergenceWarning,\n"
     ]
    },
    {
     "name": "stdout",
     "output_type": "stream",
     "text": [
      "[CV] END .................................penalty=elasticnet; total time=  19.4s\n"
     ]
    },
    {
     "name": "stderr",
     "output_type": "stream",
     "text": [
      "/usr/local/lib/python3.7/dist-packages/sklearn/linear_model/_sag.py:354: ConvergenceWarning: The max_iter was reached which means the coef_ did not converge\n",
      "  ConvergenceWarning,\n",
      "/usr/local/lib/python3.7/dist-packages/sklearn/linear_model/_logistic.py:1479: UserWarning: l1_ratio parameter is only used when penalty is 'elasticnet'. Got (penalty=l1)\n",
      "  \"(penalty={})\".format(self.penalty)\n"
     ]
    },
    {
     "name": "stdout",
     "output_type": "stream",
     "text": [
      "[CV] END .................................penalty=elasticnet; total time=  19.4s\n"
     ]
    },
    {
     "name": "stderr",
     "output_type": "stream",
     "text": [
      "/usr/local/lib/python3.7/dist-packages/sklearn/linear_model/_sag.py:354: ConvergenceWarning: The max_iter was reached which means the coef_ did not converge\n",
      "  ConvergenceWarning,\n"
     ]
    },
    {
     "name": "stdout",
     "output_type": "stream",
     "text": [
      "Fitting 5 folds for each of 4 candidates, totalling 20 fits\n"
     ]
    },
    {
     "name": "stderr",
     "output_type": "stream",
     "text": [
      "/usr/local/lib/python3.7/dist-packages/sklearn/linear_model/_logistic.py:1479: UserWarning: l1_ratio parameter is only used when penalty is 'elasticnet'. Got (penalty=none)\n",
      "  \"(penalty={})\".format(self.penalty)\n",
      "/usr/local/lib/python3.7/dist-packages/sklearn/linear_model/_sag.py:354: ConvergenceWarning: The max_iter was reached which means the coef_ did not converge\n",
      "  ConvergenceWarning,\n",
      "/usr/local/lib/python3.7/dist-packages/sklearn/linear_model/_logistic.py:1479: UserWarning: l1_ratio parameter is only used when penalty is 'elasticnet'. Got (penalty=none)\n",
      "  \"(penalty={})\".format(self.penalty)\n"
     ]
    },
    {
     "name": "stdout",
     "output_type": "stream",
     "text": [
      "[CV] END .......................................penalty=none; total time=  22.8s\n"
     ]
    },
    {
     "name": "stderr",
     "output_type": "stream",
     "text": [
      "/usr/local/lib/python3.7/dist-packages/sklearn/linear_model/_sag.py:354: ConvergenceWarning: The max_iter was reached which means the coef_ did not converge\n",
      "  ConvergenceWarning,\n",
      "/usr/local/lib/python3.7/dist-packages/sklearn/linear_model/_logistic.py:1479: UserWarning: l1_ratio parameter is only used when penalty is 'elasticnet'. Got (penalty=none)\n",
      "  \"(penalty={})\".format(self.penalty)\n"
     ]
    },
    {
     "name": "stdout",
     "output_type": "stream",
     "text": [
      "[CV] END .......................................penalty=none; total time=  22.7s\n"
     ]
    },
    {
     "name": "stderr",
     "output_type": "stream",
     "text": [
      "/usr/local/lib/python3.7/dist-packages/sklearn/linear_model/_sag.py:354: ConvergenceWarning: The max_iter was reached which means the coef_ did not converge\n",
      "  ConvergenceWarning,\n",
      "/usr/local/lib/python3.7/dist-packages/sklearn/linear_model/_logistic.py:1479: UserWarning: l1_ratio parameter is only used when penalty is 'elasticnet'. Got (penalty=none)\n",
      "  \"(penalty={})\".format(self.penalty)\n"
     ]
    },
    {
     "name": "stdout",
     "output_type": "stream",
     "text": [
      "[CV] END .......................................penalty=none; total time=  22.7s\n"
     ]
    },
    {
     "name": "stderr",
     "output_type": "stream",
     "text": [
      "/usr/local/lib/python3.7/dist-packages/sklearn/linear_model/_sag.py:354: ConvergenceWarning: The max_iter was reached which means the coef_ did not converge\n",
      "  ConvergenceWarning,\n",
      "/usr/local/lib/python3.7/dist-packages/sklearn/linear_model/_logistic.py:1479: UserWarning: l1_ratio parameter is only used when penalty is 'elasticnet'. Got (penalty=none)\n",
      "  \"(penalty={})\".format(self.penalty)\n"
     ]
    },
    {
     "name": "stdout",
     "output_type": "stream",
     "text": [
      "[CV] END .......................................penalty=none; total time=  22.5s\n"
     ]
    },
    {
     "name": "stderr",
     "output_type": "stream",
     "text": [
      "/usr/local/lib/python3.7/dist-packages/sklearn/linear_model/_sag.py:354: ConvergenceWarning: The max_iter was reached which means the coef_ did not converge\n",
      "  ConvergenceWarning,\n",
      "/usr/local/lib/python3.7/dist-packages/sklearn/linear_model/_logistic.py:1479: UserWarning: l1_ratio parameter is only used when penalty is 'elasticnet'. Got (penalty=l1)\n",
      "  \"(penalty={})\".format(self.penalty)\n"
     ]
    },
    {
     "name": "stdout",
     "output_type": "stream",
     "text": [
      "[CV] END .......................................penalty=none; total time=  22.6s\n"
     ]
    },
    {
     "name": "stderr",
     "output_type": "stream",
     "text": [
      "/usr/local/lib/python3.7/dist-packages/sklearn/linear_model/_sag.py:354: ConvergenceWarning: The max_iter was reached which means the coef_ did not converge\n",
      "  ConvergenceWarning,\n",
      "/usr/local/lib/python3.7/dist-packages/sklearn/linear_model/_logistic.py:1479: UserWarning: l1_ratio parameter is only used when penalty is 'elasticnet'. Got (penalty=l1)\n",
      "  \"(penalty={})\".format(self.penalty)\n"
     ]
    },
    {
     "name": "stdout",
     "output_type": "stream",
     "text": [
      "[CV] END .........................................penalty=l1; total time=  34.9s\n"
     ]
    },
    {
     "name": "stderr",
     "output_type": "stream",
     "text": [
      "/usr/local/lib/python3.7/dist-packages/sklearn/linear_model/_sag.py:354: ConvergenceWarning: The max_iter was reached which means the coef_ did not converge\n",
      "  ConvergenceWarning,\n",
      "/usr/local/lib/python3.7/dist-packages/sklearn/linear_model/_logistic.py:1479: UserWarning: l1_ratio parameter is only used when penalty is 'elasticnet'. Got (penalty=l1)\n",
      "  \"(penalty={})\".format(self.penalty)\n"
     ]
    },
    {
     "name": "stdout",
     "output_type": "stream",
     "text": [
      "[CV] END .........................................penalty=l1; total time=  35.2s\n"
     ]
    },
    {
     "name": "stderr",
     "output_type": "stream",
     "text": [
      "/usr/local/lib/python3.7/dist-packages/sklearn/linear_model/_sag.py:354: ConvergenceWarning: The max_iter was reached which means the coef_ did not converge\n",
      "  ConvergenceWarning,\n",
      "/usr/local/lib/python3.7/dist-packages/sklearn/linear_model/_logistic.py:1479: UserWarning: l1_ratio parameter is only used when penalty is 'elasticnet'. Got (penalty=l1)\n",
      "  \"(penalty={})\".format(self.penalty)\n"
     ]
    },
    {
     "name": "stdout",
     "output_type": "stream",
     "text": [
      "[CV] END .........................................penalty=l1; total time=  35.5s\n"
     ]
    },
    {
     "name": "stderr",
     "output_type": "stream",
     "text": [
      "/usr/local/lib/python3.7/dist-packages/sklearn/linear_model/_sag.py:354: ConvergenceWarning: The max_iter was reached which means the coef_ did not converge\n",
      "  ConvergenceWarning,\n",
      "/usr/local/lib/python3.7/dist-packages/sklearn/linear_model/_logistic.py:1479: UserWarning: l1_ratio parameter is only used when penalty is 'elasticnet'. Got (penalty=l1)\n",
      "  \"(penalty={})\".format(self.penalty)\n"
     ]
    },
    {
     "name": "stdout",
     "output_type": "stream",
     "text": [
      "[CV] END .........................................penalty=l1; total time=  35.6s\n"
     ]
    },
    {
     "name": "stderr",
     "output_type": "stream",
     "text": [
      "/usr/local/lib/python3.7/dist-packages/sklearn/linear_model/_sag.py:354: ConvergenceWarning: The max_iter was reached which means the coef_ did not converge\n",
      "  ConvergenceWarning,\n",
      "/usr/local/lib/python3.7/dist-packages/sklearn/linear_model/_logistic.py:1479: UserWarning: l1_ratio parameter is only used when penalty is 'elasticnet'. Got (penalty=l2)\n",
      "  \"(penalty={})\".format(self.penalty)\n"
     ]
    },
    {
     "name": "stdout",
     "output_type": "stream",
     "text": [
      "[CV] END .........................................penalty=l1; total time=  35.8s\n"
     ]
    },
    {
     "name": "stderr",
     "output_type": "stream",
     "text": [
      "/usr/local/lib/python3.7/dist-packages/sklearn/linear_model/_sag.py:354: ConvergenceWarning: The max_iter was reached which means the coef_ did not converge\n",
      "  ConvergenceWarning,\n",
      "/usr/local/lib/python3.7/dist-packages/sklearn/linear_model/_logistic.py:1479: UserWarning: l1_ratio parameter is only used when penalty is 'elasticnet'. Got (penalty=l2)\n",
      "  \"(penalty={})\".format(self.penalty)\n"
     ]
    },
    {
     "name": "stdout",
     "output_type": "stream",
     "text": [
      "[CV] END .........................................penalty=l2; total time=  22.8s\n"
     ]
    },
    {
     "name": "stderr",
     "output_type": "stream",
     "text": [
      "/usr/local/lib/python3.7/dist-packages/sklearn/linear_model/_sag.py:354: ConvergenceWarning: The max_iter was reached which means the coef_ did not converge\n",
      "  ConvergenceWarning,\n",
      "/usr/local/lib/python3.7/dist-packages/sklearn/linear_model/_logistic.py:1479: UserWarning: l1_ratio parameter is only used when penalty is 'elasticnet'. Got (penalty=l2)\n",
      "  \"(penalty={})\".format(self.penalty)\n"
     ]
    },
    {
     "name": "stdout",
     "output_type": "stream",
     "text": [
      "[CV] END .........................................penalty=l2; total time=  22.6s\n"
     ]
    },
    {
     "name": "stderr",
     "output_type": "stream",
     "text": [
      "/usr/local/lib/python3.7/dist-packages/sklearn/linear_model/_sag.py:354: ConvergenceWarning: The max_iter was reached which means the coef_ did not converge\n",
      "  ConvergenceWarning,\n",
      "/usr/local/lib/python3.7/dist-packages/sklearn/linear_model/_logistic.py:1479: UserWarning: l1_ratio parameter is only used when penalty is 'elasticnet'. Got (penalty=l2)\n",
      "  \"(penalty={})\".format(self.penalty)\n"
     ]
    },
    {
     "name": "stdout",
     "output_type": "stream",
     "text": [
      "[CV] END .........................................penalty=l2; total time=  22.6s\n"
     ]
    },
    {
     "name": "stderr",
     "output_type": "stream",
     "text": [
      "/usr/local/lib/python3.7/dist-packages/sklearn/linear_model/_sag.py:354: ConvergenceWarning: The max_iter was reached which means the coef_ did not converge\n",
      "  ConvergenceWarning,\n",
      "/usr/local/lib/python3.7/dist-packages/sklearn/linear_model/_logistic.py:1479: UserWarning: l1_ratio parameter is only used when penalty is 'elasticnet'. Got (penalty=l2)\n",
      "  \"(penalty={})\".format(self.penalty)\n"
     ]
    },
    {
     "name": "stdout",
     "output_type": "stream",
     "text": [
      "[CV] END .........................................penalty=l2; total time=  22.6s\n"
     ]
    },
    {
     "name": "stderr",
     "output_type": "stream",
     "text": [
      "/usr/local/lib/python3.7/dist-packages/sklearn/linear_model/_sag.py:354: ConvergenceWarning: The max_iter was reached which means the coef_ did not converge\n",
      "  ConvergenceWarning,\n"
     ]
    },
    {
     "name": "stdout",
     "output_type": "stream",
     "text": [
      "[CV] END .........................................penalty=l2; total time=  22.7s\n"
     ]
    },
    {
     "name": "stderr",
     "output_type": "stream",
     "text": [
      "/usr/local/lib/python3.7/dist-packages/sklearn/linear_model/_sag.py:354: ConvergenceWarning: The max_iter was reached which means the coef_ did not converge\n",
      "  ConvergenceWarning,\n"
     ]
    },
    {
     "name": "stdout",
     "output_type": "stream",
     "text": [
      "[CV] END .................................penalty=elasticnet; total time=  35.4s\n"
     ]
    },
    {
     "name": "stderr",
     "output_type": "stream",
     "text": [
      "/usr/local/lib/python3.7/dist-packages/sklearn/linear_model/_sag.py:354: ConvergenceWarning: The max_iter was reached which means the coef_ did not converge\n",
      "  ConvergenceWarning,\n"
     ]
    },
    {
     "name": "stdout",
     "output_type": "stream",
     "text": [
      "[CV] END .................................penalty=elasticnet; total time=  35.2s\n"
     ]
    },
    {
     "name": "stderr",
     "output_type": "stream",
     "text": [
      "/usr/local/lib/python3.7/dist-packages/sklearn/linear_model/_sag.py:354: ConvergenceWarning: The max_iter was reached which means the coef_ did not converge\n",
      "  ConvergenceWarning,\n"
     ]
    },
    {
     "name": "stdout",
     "output_type": "stream",
     "text": [
      "[CV] END .................................penalty=elasticnet; total time=  35.9s\n"
     ]
    },
    {
     "name": "stderr",
     "output_type": "stream",
     "text": [
      "/usr/local/lib/python3.7/dist-packages/sklearn/linear_model/_sag.py:354: ConvergenceWarning: The max_iter was reached which means the coef_ did not converge\n",
      "  ConvergenceWarning,\n"
     ]
    },
    {
     "name": "stdout",
     "output_type": "stream",
     "text": [
      "[CV] END .................................penalty=elasticnet; total time=  36.0s\n"
     ]
    },
    {
     "name": "stderr",
     "output_type": "stream",
     "text": [
      "/usr/local/lib/python3.7/dist-packages/sklearn/linear_model/_sag.py:354: ConvergenceWarning: The max_iter was reached which means the coef_ did not converge\n",
      "  ConvergenceWarning,\n",
      "/usr/local/lib/python3.7/dist-packages/sklearn/linear_model/_logistic.py:1479: UserWarning: l1_ratio parameter is only used when penalty is 'elasticnet'. Got (penalty=l2)\n",
      "  \"(penalty={})\".format(self.penalty)\n"
     ]
    },
    {
     "name": "stdout",
     "output_type": "stream",
     "text": [
      "[CV] END .................................penalty=elasticnet; total time=  35.7s\n"
     ]
    },
    {
     "name": "stderr",
     "output_type": "stream",
     "text": [
      "/usr/local/lib/python3.7/dist-packages/sklearn/linear_model/_sag.py:354: ConvergenceWarning: The max_iter was reached which means the coef_ did not converge\n",
      "  ConvergenceWarning,\n",
      "/usr/local/lib/python3.7/dist-packages/sklearn/linear_model/_logistic.py:1479: UserWarning: l1_ratio parameter is only used when penalty is 'elasticnet'. Got (penalty=none)\n",
      "  \"(penalty={})\".format(self.penalty)\n"
     ]
    },
    {
     "name": "stdout",
     "output_type": "stream",
     "text": [
      "Fitting 5 folds for each of 4 candidates, totalling 20 fits\n"
     ]
    },
    {
     "name": "stderr",
     "output_type": "stream",
     "text": [
      "/usr/local/lib/python3.7/dist-packages/sklearn/linear_model/_sag.py:354: ConvergenceWarning: The max_iter was reached which means the coef_ did not converge\n",
      "  ConvergenceWarning,\n",
      "/usr/local/lib/python3.7/dist-packages/sklearn/linear_model/_logistic.py:1479: UserWarning: l1_ratio parameter is only used when penalty is 'elasticnet'. Got (penalty=none)\n",
      "  \"(penalty={})\".format(self.penalty)\n"
     ]
    },
    {
     "name": "stdout",
     "output_type": "stream",
     "text": [
      "[CV] END .......................................penalty=none; total time=   6.1s\n"
     ]
    },
    {
     "name": "stderr",
     "output_type": "stream",
     "text": [
      "/usr/local/lib/python3.7/dist-packages/sklearn/linear_model/_sag.py:354: ConvergenceWarning: The max_iter was reached which means the coef_ did not converge\n",
      "  ConvergenceWarning,\n",
      "/usr/local/lib/python3.7/dist-packages/sklearn/linear_model/_logistic.py:1479: UserWarning: l1_ratio parameter is only used when penalty is 'elasticnet'. Got (penalty=none)\n",
      "  \"(penalty={})\".format(self.penalty)\n"
     ]
    },
    {
     "name": "stdout",
     "output_type": "stream",
     "text": [
      "[CV] END .......................................penalty=none; total time=   6.1s\n"
     ]
    },
    {
     "name": "stderr",
     "output_type": "stream",
     "text": [
      "/usr/local/lib/python3.7/dist-packages/sklearn/linear_model/_sag.py:354: ConvergenceWarning: The max_iter was reached which means the coef_ did not converge\n",
      "  ConvergenceWarning,\n",
      "/usr/local/lib/python3.7/dist-packages/sklearn/linear_model/_logistic.py:1479: UserWarning: l1_ratio parameter is only used when penalty is 'elasticnet'. Got (penalty=none)\n",
      "  \"(penalty={})\".format(self.penalty)\n"
     ]
    },
    {
     "name": "stdout",
     "output_type": "stream",
     "text": [
      "[CV] END .......................................penalty=none; total time=   6.1s\n"
     ]
    },
    {
     "name": "stderr",
     "output_type": "stream",
     "text": [
      "/usr/local/lib/python3.7/dist-packages/sklearn/linear_model/_sag.py:354: ConvergenceWarning: The max_iter was reached which means the coef_ did not converge\n",
      "  ConvergenceWarning,\n",
      "/usr/local/lib/python3.7/dist-packages/sklearn/linear_model/_logistic.py:1479: UserWarning: l1_ratio parameter is only used when penalty is 'elasticnet'. Got (penalty=none)\n",
      "  \"(penalty={})\".format(self.penalty)\n"
     ]
    },
    {
     "name": "stdout",
     "output_type": "stream",
     "text": [
      "[CV] END .......................................penalty=none; total time=   6.2s\n"
     ]
    },
    {
     "name": "stderr",
     "output_type": "stream",
     "text": [
      "/usr/local/lib/python3.7/dist-packages/sklearn/linear_model/_sag.py:354: ConvergenceWarning: The max_iter was reached which means the coef_ did not converge\n",
      "  ConvergenceWarning,\n",
      "/usr/local/lib/python3.7/dist-packages/sklearn/linear_model/_logistic.py:1479: UserWarning: l1_ratio parameter is only used when penalty is 'elasticnet'. Got (penalty=l1)\n",
      "  \"(penalty={})\".format(self.penalty)\n"
     ]
    },
    {
     "name": "stdout",
     "output_type": "stream",
     "text": [
      "[CV] END .......................................penalty=none; total time=   6.2s\n"
     ]
    },
    {
     "name": "stderr",
     "output_type": "stream",
     "text": [
      "/usr/local/lib/python3.7/dist-packages/sklearn/linear_model/_sag.py:354: ConvergenceWarning: The max_iter was reached which means the coef_ did not converge\n",
      "  ConvergenceWarning,\n",
      "/usr/local/lib/python3.7/dist-packages/sklearn/linear_model/_logistic.py:1479: UserWarning: l1_ratio parameter is only used when penalty is 'elasticnet'. Got (penalty=l1)\n",
      "  \"(penalty={})\".format(self.penalty)\n"
     ]
    },
    {
     "name": "stdout",
     "output_type": "stream",
     "text": [
      "[CV] END .........................................penalty=l1; total time=   7.4s\n"
     ]
    },
    {
     "name": "stderr",
     "output_type": "stream",
     "text": [
      "/usr/local/lib/python3.7/dist-packages/sklearn/linear_model/_sag.py:354: ConvergenceWarning: The max_iter was reached which means the coef_ did not converge\n",
      "  ConvergenceWarning,\n",
      "/usr/local/lib/python3.7/dist-packages/sklearn/linear_model/_logistic.py:1479: UserWarning: l1_ratio parameter is only used when penalty is 'elasticnet'. Got (penalty=l1)\n",
      "  \"(penalty={})\".format(self.penalty)\n"
     ]
    },
    {
     "name": "stdout",
     "output_type": "stream",
     "text": [
      "[CV] END .........................................penalty=l1; total time=   7.6s\n"
     ]
    },
    {
     "name": "stderr",
     "output_type": "stream",
     "text": [
      "/usr/local/lib/python3.7/dist-packages/sklearn/linear_model/_sag.py:354: ConvergenceWarning: The max_iter was reached which means the coef_ did not converge\n",
      "  ConvergenceWarning,\n",
      "/usr/local/lib/python3.7/dist-packages/sklearn/linear_model/_logistic.py:1479: UserWarning: l1_ratio parameter is only used when penalty is 'elasticnet'. Got (penalty=l1)\n",
      "  \"(penalty={})\".format(self.penalty)\n"
     ]
    },
    {
     "name": "stdout",
     "output_type": "stream",
     "text": [
      "[CV] END .........................................penalty=l1; total time=   7.5s\n"
     ]
    },
    {
     "name": "stderr",
     "output_type": "stream",
     "text": [
      "/usr/local/lib/python3.7/dist-packages/sklearn/linear_model/_sag.py:354: ConvergenceWarning: The max_iter was reached which means the coef_ did not converge\n",
      "  ConvergenceWarning,\n",
      "/usr/local/lib/python3.7/dist-packages/sklearn/linear_model/_logistic.py:1479: UserWarning: l1_ratio parameter is only used when penalty is 'elasticnet'. Got (penalty=l1)\n",
      "  \"(penalty={})\".format(self.penalty)\n"
     ]
    },
    {
     "name": "stdout",
     "output_type": "stream",
     "text": [
      "[CV] END .........................................penalty=l1; total time=   7.5s\n"
     ]
    },
    {
     "name": "stderr",
     "output_type": "stream",
     "text": [
      "/usr/local/lib/python3.7/dist-packages/sklearn/linear_model/_sag.py:354: ConvergenceWarning: The max_iter was reached which means the coef_ did not converge\n",
      "  ConvergenceWarning,\n",
      "/usr/local/lib/python3.7/dist-packages/sklearn/linear_model/_logistic.py:1479: UserWarning: l1_ratio parameter is only used when penalty is 'elasticnet'. Got (penalty=l2)\n",
      "  \"(penalty={})\".format(self.penalty)\n"
     ]
    },
    {
     "name": "stdout",
     "output_type": "stream",
     "text": [
      "[CV] END .........................................penalty=l1; total time=   7.3s\n"
     ]
    },
    {
     "name": "stderr",
     "output_type": "stream",
     "text": [
      "/usr/local/lib/python3.7/dist-packages/sklearn/linear_model/_sag.py:354: ConvergenceWarning: The max_iter was reached which means the coef_ did not converge\n",
      "  ConvergenceWarning,\n",
      "/usr/local/lib/python3.7/dist-packages/sklearn/linear_model/_logistic.py:1479: UserWarning: l1_ratio parameter is only used when penalty is 'elasticnet'. Got (penalty=l2)\n",
      "  \"(penalty={})\".format(self.penalty)\n"
     ]
    },
    {
     "name": "stdout",
     "output_type": "stream",
     "text": [
      "[CV] END .........................................penalty=l2; total time=   6.2s\n"
     ]
    },
    {
     "name": "stderr",
     "output_type": "stream",
     "text": [
      "/usr/local/lib/python3.7/dist-packages/sklearn/linear_model/_sag.py:354: ConvergenceWarning: The max_iter was reached which means the coef_ did not converge\n",
      "  ConvergenceWarning,\n",
      "/usr/local/lib/python3.7/dist-packages/sklearn/linear_model/_logistic.py:1479: UserWarning: l1_ratio parameter is only used when penalty is 'elasticnet'. Got (penalty=l2)\n",
      "  \"(penalty={})\".format(self.penalty)\n"
     ]
    },
    {
     "name": "stdout",
     "output_type": "stream",
     "text": [
      "[CV] END .........................................penalty=l2; total time=   6.1s\n"
     ]
    },
    {
     "name": "stderr",
     "output_type": "stream",
     "text": [
      "/usr/local/lib/python3.7/dist-packages/sklearn/linear_model/_sag.py:354: ConvergenceWarning: The max_iter was reached which means the coef_ did not converge\n",
      "  ConvergenceWarning,\n",
      "/usr/local/lib/python3.7/dist-packages/sklearn/linear_model/_logistic.py:1479: UserWarning: l1_ratio parameter is only used when penalty is 'elasticnet'. Got (penalty=l2)\n",
      "  \"(penalty={})\".format(self.penalty)\n"
     ]
    },
    {
     "name": "stdout",
     "output_type": "stream",
     "text": [
      "[CV] END .........................................penalty=l2; total time=   6.2s\n"
     ]
    },
    {
     "name": "stderr",
     "output_type": "stream",
     "text": [
      "/usr/local/lib/python3.7/dist-packages/sklearn/linear_model/_sag.py:354: ConvergenceWarning: The max_iter was reached which means the coef_ did not converge\n",
      "  ConvergenceWarning,\n",
      "/usr/local/lib/python3.7/dist-packages/sklearn/linear_model/_logistic.py:1479: UserWarning: l1_ratio parameter is only used when penalty is 'elasticnet'. Got (penalty=l2)\n",
      "  \"(penalty={})\".format(self.penalty)\n"
     ]
    },
    {
     "name": "stdout",
     "output_type": "stream",
     "text": [
      "[CV] END .........................................penalty=l2; total time=   6.2s\n"
     ]
    },
    {
     "name": "stderr",
     "output_type": "stream",
     "text": [
      "/usr/local/lib/python3.7/dist-packages/sklearn/linear_model/_sag.py:354: ConvergenceWarning: The max_iter was reached which means the coef_ did not converge\n",
      "  ConvergenceWarning,\n"
     ]
    },
    {
     "name": "stdout",
     "output_type": "stream",
     "text": [
      "[CV] END .........................................penalty=l2; total time=   6.1s\n"
     ]
    },
    {
     "name": "stderr",
     "output_type": "stream",
     "text": [
      "/usr/local/lib/python3.7/dist-packages/sklearn/linear_model/_sag.py:354: ConvergenceWarning: The max_iter was reached which means the coef_ did not converge\n",
      "  ConvergenceWarning,\n"
     ]
    },
    {
     "name": "stdout",
     "output_type": "stream",
     "text": [
      "[CV] END .................................penalty=elasticnet; total time=   7.5s\n"
     ]
    },
    {
     "name": "stderr",
     "output_type": "stream",
     "text": [
      "/usr/local/lib/python3.7/dist-packages/sklearn/linear_model/_sag.py:354: ConvergenceWarning: The max_iter was reached which means the coef_ did not converge\n",
      "  ConvergenceWarning,\n"
     ]
    },
    {
     "name": "stdout",
     "output_type": "stream",
     "text": [
      "[CV] END .................................penalty=elasticnet; total time=   7.5s\n"
     ]
    },
    {
     "name": "stderr",
     "output_type": "stream",
     "text": [
      "/usr/local/lib/python3.7/dist-packages/sklearn/linear_model/_sag.py:354: ConvergenceWarning: The max_iter was reached which means the coef_ did not converge\n",
      "  ConvergenceWarning,\n"
     ]
    },
    {
     "name": "stdout",
     "output_type": "stream",
     "text": [
      "[CV] END .................................penalty=elasticnet; total time=   7.4s\n"
     ]
    },
    {
     "name": "stderr",
     "output_type": "stream",
     "text": [
      "/usr/local/lib/python3.7/dist-packages/sklearn/linear_model/_sag.py:354: ConvergenceWarning: The max_iter was reached which means the coef_ did not converge\n",
      "  ConvergenceWarning,\n"
     ]
    },
    {
     "name": "stdout",
     "output_type": "stream",
     "text": [
      "[CV] END .................................penalty=elasticnet; total time=   7.4s\n"
     ]
    },
    {
     "name": "stderr",
     "output_type": "stream",
     "text": [
      "/usr/local/lib/python3.7/dist-packages/sklearn/linear_model/_sag.py:354: ConvergenceWarning: The max_iter was reached which means the coef_ did not converge\n",
      "  ConvergenceWarning,\n",
      "/usr/local/lib/python3.7/dist-packages/sklearn/linear_model/_logistic.py:1479: UserWarning: l1_ratio parameter is only used when penalty is 'elasticnet'. Got (penalty=none)\n",
      "  \"(penalty={})\".format(self.penalty)\n"
     ]
    },
    {
     "name": "stdout",
     "output_type": "stream",
     "text": [
      "[CV] END .................................penalty=elasticnet; total time=   7.3s\n"
     ]
    },
    {
     "name": "stderr",
     "output_type": "stream",
     "text": [
      "/usr/local/lib/python3.7/dist-packages/sklearn/linear_model/_sag.py:354: ConvergenceWarning: The max_iter was reached which means the coef_ did not converge\n",
      "  ConvergenceWarning,\n"
     ]
    },
    {
     "name": "stdout",
     "output_type": "stream",
     "text": [
      "Fitting 5 folds for each of 4 candidates, totalling 20 fits\n"
     ]
    },
    {
     "name": "stderr",
     "output_type": "stream",
     "text": [
      "/usr/local/lib/python3.7/dist-packages/sklearn/linear_model/_logistic.py:1479: UserWarning: l1_ratio parameter is only used when penalty is 'elasticnet'. Got (penalty=none)\n",
      "  \"(penalty={})\".format(self.penalty)\n",
      "/usr/local/lib/python3.7/dist-packages/sklearn/linear_model/_sag.py:354: ConvergenceWarning: The max_iter was reached which means the coef_ did not converge\n",
      "  ConvergenceWarning,\n",
      "/usr/local/lib/python3.7/dist-packages/sklearn/linear_model/_logistic.py:1479: UserWarning: l1_ratio parameter is only used when penalty is 'elasticnet'. Got (penalty=none)\n",
      "  \"(penalty={})\".format(self.penalty)\n"
     ]
    },
    {
     "name": "stdout",
     "output_type": "stream",
     "text": [
      "[CV] END .......................................penalty=none; total time=   9.6s\n"
     ]
    },
    {
     "name": "stderr",
     "output_type": "stream",
     "text": [
      "/usr/local/lib/python3.7/dist-packages/sklearn/linear_model/_sag.py:354: ConvergenceWarning: The max_iter was reached which means the coef_ did not converge\n",
      "  ConvergenceWarning,\n",
      "/usr/local/lib/python3.7/dist-packages/sklearn/linear_model/_logistic.py:1479: UserWarning: l1_ratio parameter is only used when penalty is 'elasticnet'. Got (penalty=none)\n",
      "  \"(penalty={})\".format(self.penalty)\n"
     ]
    },
    {
     "name": "stdout",
     "output_type": "stream",
     "text": [
      "[CV] END .......................................penalty=none; total time=   9.5s\n"
     ]
    },
    {
     "name": "stderr",
     "output_type": "stream",
     "text": [
      "/usr/local/lib/python3.7/dist-packages/sklearn/linear_model/_sag.py:354: ConvergenceWarning: The max_iter was reached which means the coef_ did not converge\n",
      "  ConvergenceWarning,\n",
      "/usr/local/lib/python3.7/dist-packages/sklearn/linear_model/_logistic.py:1479: UserWarning: l1_ratio parameter is only used when penalty is 'elasticnet'. Got (penalty=none)\n",
      "  \"(penalty={})\".format(self.penalty)\n"
     ]
    },
    {
     "name": "stdout",
     "output_type": "stream",
     "text": [
      "[CV] END .......................................penalty=none; total time=   9.5s\n"
     ]
    },
    {
     "name": "stderr",
     "output_type": "stream",
     "text": [
      "/usr/local/lib/python3.7/dist-packages/sklearn/linear_model/_sag.py:354: ConvergenceWarning: The max_iter was reached which means the coef_ did not converge\n",
      "  ConvergenceWarning,\n",
      "/usr/local/lib/python3.7/dist-packages/sklearn/linear_model/_logistic.py:1479: UserWarning: l1_ratio parameter is only used when penalty is 'elasticnet'. Got (penalty=none)\n",
      "  \"(penalty={})\".format(self.penalty)\n"
     ]
    },
    {
     "name": "stdout",
     "output_type": "stream",
     "text": [
      "[CV] END .......................................penalty=none; total time=   9.5s\n"
     ]
    },
    {
     "name": "stderr",
     "output_type": "stream",
     "text": [
      "/usr/local/lib/python3.7/dist-packages/sklearn/linear_model/_sag.py:354: ConvergenceWarning: The max_iter was reached which means the coef_ did not converge\n",
      "  ConvergenceWarning,\n",
      "/usr/local/lib/python3.7/dist-packages/sklearn/linear_model/_logistic.py:1479: UserWarning: l1_ratio parameter is only used when penalty is 'elasticnet'. Got (penalty=l1)\n",
      "  \"(penalty={})\".format(self.penalty)\n"
     ]
    },
    {
     "name": "stdout",
     "output_type": "stream",
     "text": [
      "[CV] END .......................................penalty=none; total time=   9.5s\n"
     ]
    },
    {
     "name": "stderr",
     "output_type": "stream",
     "text": [
      "/usr/local/lib/python3.7/dist-packages/sklearn/linear_model/_sag.py:354: ConvergenceWarning: The max_iter was reached which means the coef_ did not converge\n",
      "  ConvergenceWarning,\n",
      "/usr/local/lib/python3.7/dist-packages/sklearn/linear_model/_logistic.py:1479: UserWarning: l1_ratio parameter is only used when penalty is 'elasticnet'. Got (penalty=l1)\n",
      "  \"(penalty={})\".format(self.penalty)\n"
     ]
    },
    {
     "name": "stdout",
     "output_type": "stream",
     "text": [
      "[CV] END .........................................penalty=l1; total time=  12.7s\n"
     ]
    },
    {
     "name": "stderr",
     "output_type": "stream",
     "text": [
      "/usr/local/lib/python3.7/dist-packages/sklearn/linear_model/_sag.py:354: ConvergenceWarning: The max_iter was reached which means the coef_ did not converge\n",
      "  ConvergenceWarning,\n",
      "/usr/local/lib/python3.7/dist-packages/sklearn/linear_model/_logistic.py:1479: UserWarning: l1_ratio parameter is only used when penalty is 'elasticnet'. Got (penalty=l1)\n",
      "  \"(penalty={})\".format(self.penalty)\n"
     ]
    },
    {
     "name": "stdout",
     "output_type": "stream",
     "text": [
      "[CV] END .........................................penalty=l1; total time=  12.9s\n"
     ]
    },
    {
     "name": "stderr",
     "output_type": "stream",
     "text": [
      "/usr/local/lib/python3.7/dist-packages/sklearn/linear_model/_sag.py:354: ConvergenceWarning: The max_iter was reached which means the coef_ did not converge\n",
      "  ConvergenceWarning,\n",
      "/usr/local/lib/python3.7/dist-packages/sklearn/linear_model/_logistic.py:1479: UserWarning: l1_ratio parameter is only used when penalty is 'elasticnet'. Got (penalty=l1)\n",
      "  \"(penalty={})\".format(self.penalty)\n"
     ]
    },
    {
     "name": "stdout",
     "output_type": "stream",
     "text": [
      "[CV] END .........................................penalty=l1; total time=  12.9s\n"
     ]
    },
    {
     "name": "stderr",
     "output_type": "stream",
     "text": [
      "/usr/local/lib/python3.7/dist-packages/sklearn/linear_model/_sag.py:354: ConvergenceWarning: The max_iter was reached which means the coef_ did not converge\n",
      "  ConvergenceWarning,\n",
      "/usr/local/lib/python3.7/dist-packages/sklearn/linear_model/_logistic.py:1479: UserWarning: l1_ratio parameter is only used when penalty is 'elasticnet'. Got (penalty=l1)\n",
      "  \"(penalty={})\".format(self.penalty)\n"
     ]
    },
    {
     "name": "stdout",
     "output_type": "stream",
     "text": [
      "[CV] END .........................................penalty=l1; total time=  12.6s\n"
     ]
    },
    {
     "name": "stderr",
     "output_type": "stream",
     "text": [
      "/usr/local/lib/python3.7/dist-packages/sklearn/linear_model/_sag.py:354: ConvergenceWarning: The max_iter was reached which means the coef_ did not converge\n",
      "  ConvergenceWarning,\n",
      "/usr/local/lib/python3.7/dist-packages/sklearn/linear_model/_logistic.py:1479: UserWarning: l1_ratio parameter is only used when penalty is 'elasticnet'. Got (penalty=l2)\n",
      "  \"(penalty={})\".format(self.penalty)\n"
     ]
    },
    {
     "name": "stdout",
     "output_type": "stream",
     "text": [
      "[CV] END .........................................penalty=l1; total time=  12.8s\n"
     ]
    },
    {
     "name": "stderr",
     "output_type": "stream",
     "text": [
      "/usr/local/lib/python3.7/dist-packages/sklearn/linear_model/_sag.py:354: ConvergenceWarning: The max_iter was reached which means the coef_ did not converge\n",
      "  ConvergenceWarning,\n",
      "/usr/local/lib/python3.7/dist-packages/sklearn/linear_model/_logistic.py:1479: UserWarning: l1_ratio parameter is only used when penalty is 'elasticnet'. Got (penalty=l2)\n",
      "  \"(penalty={})\".format(self.penalty)\n"
     ]
    },
    {
     "name": "stdout",
     "output_type": "stream",
     "text": [
      "[CV] END .........................................penalty=l2; total time=   9.5s\n"
     ]
    },
    {
     "name": "stderr",
     "output_type": "stream",
     "text": [
      "/usr/local/lib/python3.7/dist-packages/sklearn/linear_model/_sag.py:354: ConvergenceWarning: The max_iter was reached which means the coef_ did not converge\n",
      "  ConvergenceWarning,\n",
      "/usr/local/lib/python3.7/dist-packages/sklearn/linear_model/_logistic.py:1479: UserWarning: l1_ratio parameter is only used when penalty is 'elasticnet'. Got (penalty=l2)\n",
      "  \"(penalty={})\".format(self.penalty)\n"
     ]
    },
    {
     "name": "stdout",
     "output_type": "stream",
     "text": [
      "[CV] END .........................................penalty=l2; total time=   9.7s\n"
     ]
    },
    {
     "name": "stderr",
     "output_type": "stream",
     "text": [
      "/usr/local/lib/python3.7/dist-packages/sklearn/linear_model/_sag.py:354: ConvergenceWarning: The max_iter was reached which means the coef_ did not converge\n",
      "  ConvergenceWarning,\n",
      "/usr/local/lib/python3.7/dist-packages/sklearn/linear_model/_logistic.py:1479: UserWarning: l1_ratio parameter is only used when penalty is 'elasticnet'. Got (penalty=l2)\n",
      "  \"(penalty={})\".format(self.penalty)\n"
     ]
    },
    {
     "name": "stdout",
     "output_type": "stream",
     "text": [
      "[CV] END .........................................penalty=l2; total time=   9.8s\n"
     ]
    },
    {
     "name": "stderr",
     "output_type": "stream",
     "text": [
      "/usr/local/lib/python3.7/dist-packages/sklearn/linear_model/_sag.py:354: ConvergenceWarning: The max_iter was reached which means the coef_ did not converge\n",
      "  ConvergenceWarning,\n",
      "/usr/local/lib/python3.7/dist-packages/sklearn/linear_model/_logistic.py:1479: UserWarning: l1_ratio parameter is only used when penalty is 'elasticnet'. Got (penalty=l2)\n",
      "  \"(penalty={})\".format(self.penalty)\n"
     ]
    },
    {
     "name": "stdout",
     "output_type": "stream",
     "text": [
      "[CV] END .........................................penalty=l2; total time=   9.7s\n"
     ]
    },
    {
     "name": "stderr",
     "output_type": "stream",
     "text": [
      "/usr/local/lib/python3.7/dist-packages/sklearn/linear_model/_sag.py:354: ConvergenceWarning: The max_iter was reached which means the coef_ did not converge\n",
      "  ConvergenceWarning,\n"
     ]
    },
    {
     "name": "stdout",
     "output_type": "stream",
     "text": [
      "[CV] END .........................................penalty=l2; total time=   9.6s\n"
     ]
    },
    {
     "name": "stderr",
     "output_type": "stream",
     "text": [
      "/usr/local/lib/python3.7/dist-packages/sklearn/linear_model/_sag.py:354: ConvergenceWarning: The max_iter was reached which means the coef_ did not converge\n",
      "  ConvergenceWarning,\n"
     ]
    },
    {
     "name": "stdout",
     "output_type": "stream",
     "text": [
      "[CV] END .................................penalty=elasticnet; total time=  12.8s\n"
     ]
    },
    {
     "name": "stderr",
     "output_type": "stream",
     "text": [
      "/usr/local/lib/python3.7/dist-packages/sklearn/linear_model/_sag.py:354: ConvergenceWarning: The max_iter was reached which means the coef_ did not converge\n",
      "  ConvergenceWarning,\n"
     ]
    },
    {
     "name": "stdout",
     "output_type": "stream",
     "text": [
      "[CV] END .................................penalty=elasticnet; total time=  12.9s\n"
     ]
    },
    {
     "name": "stderr",
     "output_type": "stream",
     "text": [
      "/usr/local/lib/python3.7/dist-packages/sklearn/linear_model/_sag.py:354: ConvergenceWarning: The max_iter was reached which means the coef_ did not converge\n",
      "  ConvergenceWarning,\n"
     ]
    },
    {
     "name": "stdout",
     "output_type": "stream",
     "text": [
      "[CV] END .................................penalty=elasticnet; total time=  12.9s\n"
     ]
    },
    {
     "name": "stderr",
     "output_type": "stream",
     "text": [
      "/usr/local/lib/python3.7/dist-packages/sklearn/linear_model/_sag.py:354: ConvergenceWarning: The max_iter was reached which means the coef_ did not converge\n",
      "  ConvergenceWarning,\n"
     ]
    },
    {
     "name": "stdout",
     "output_type": "stream",
     "text": [
      "[CV] END .................................penalty=elasticnet; total time=  12.6s\n"
     ]
    },
    {
     "name": "stderr",
     "output_type": "stream",
     "text": [
      "/usr/local/lib/python3.7/dist-packages/sklearn/linear_model/_sag.py:354: ConvergenceWarning: The max_iter was reached which means the coef_ did not converge\n",
      "  ConvergenceWarning,\n",
      "/usr/local/lib/python3.7/dist-packages/sklearn/linear_model/_logistic.py:1479: UserWarning: l1_ratio parameter is only used when penalty is 'elasticnet'. Got (penalty=none)\n",
      "  \"(penalty={})\".format(self.penalty)\n"
     ]
    },
    {
     "name": "stdout",
     "output_type": "stream",
     "text": [
      "[CV] END .................................penalty=elasticnet; total time=  12.8s\n"
     ]
    },
    {
     "name": "stderr",
     "output_type": "stream",
     "text": [
      "/usr/local/lib/python3.7/dist-packages/sklearn/linear_model/_sag.py:354: ConvergenceWarning: The max_iter was reached which means the coef_ did not converge\n",
      "  ConvergenceWarning,\n"
     ]
    }
   ],
   "source": [
    "%%time\n",
    "models= {}\n",
    "\n",
    "# Logistic regression on base features with no oversampling\n",
    "hyper_parameters = {\"penalty\" : [\"none\", \"l1\", \"l2\", \"elasticnet\"]}\n",
    "\n",
    "lr_base = GridSearchCV(LogisticRegression(solver=\"saga\", l1_ratio=0.5), param_grid=hyper_parameters, verbose=2)\n",
    "lr_base.fit(base_x_train, base_y_train)\n",
    "models[\"lr_base\"] = lr_base\n",
    "\n",
    "# Logistic regression on base features with oversampling\n",
    "rus = RandomOverSampler(random_state=42)\n",
    "base_x_oversample, base_y_oversample = rus.fit_resample(base_x_train, base_y_train)\n",
    "lr_base_oversample = GridSearchCV(LogisticRegression(solver=\"saga\", l1_ratio=0.5), param_grid=hyper_parameters, verbose=2)\n",
    "lr_base_oversample.fit(base_x_oversample, base_y_oversample)\n",
    "models[\"lr_base_oversample\"] = lr_base_oversample\n",
    "\n",
    "# Logistic regression on base pca features with no oversampling\n",
    "lr_base_pca = GridSearchCV(LogisticRegression(solver=\"saga\", l1_ratio=0.5), param_grid=hyper_parameters, verbose=2)\n",
    "lr_base_pca.fit(base_pca_x_train, base_pca_y_train)\n",
    "models[\"lr_base_pca\"] = lr_base_pca\n",
    "\n",
    "# Logistic regression on base pca features with oversampling\n",
    "rus = RandomOverSampler(random_state=42)\n",
    "base_pca_x_oversample, base_pca_y_oversample = rus.fit_resample(base_pca_x_train, base_pca_y_train)\n",
    "lr_base_pca_oversample = GridSearchCV(LogisticRegression(solver=\"saga\", l1_ratio=0.5), param_grid=hyper_parameters, verbose=2)\n",
    "lr_base_pca_oversample.fit(base_pca_x_oversample, base_pca_y_oversample)\n",
    "models[\"lr_base_pca_oversample\"] = lr_base_pca_oversample\n",
    "\n",
    "# Logistic regression on graph features with no oversampling\n",
    "lr_graph = GridSearchCV(LogisticRegression(solver=\"saga\", l1_ratio=0.5), param_grid=hyper_parameters, verbose=2)\n",
    "lr_graph.fit(graph_x_train, graph_y_train)\n",
    "models[\"lr_graph\"] = lr_graph\n",
    "\n",
    "# Logistic regression on graph features with oversampling\n",
    "rus = RandomOverSampler(random_state=42)\n",
    "graph_x_oversample, graph_y_oversample = rus.fit_resample(graph_x_train, graph_y_train)\n",
    "lr_graph_oversample = GridSearchCV(LogisticRegression(solver=\"saga\", l1_ratio=0.5), param_grid=hyper_parameters, verbose=2)\n",
    "lr_graph_oversample.fit(graph_x_oversample, graph_y_oversample)\n",
    "models[\"lr_graph_oversample\"] = lr_graph_oversample\n",
    "\n",
    "# Logistic regression on graph pca features with no oversampling\n",
    "lr_graph_pca = GridSearchCV(LogisticRegression(solver=\"saga\", l1_ratio=0.5), param_grid=hyper_parameters, verbose=2)\n",
    "lr_graph_pca.fit(graph_pca_x_train, graph_pca_y_train)\n",
    "models[\"lr_graph_pca\"] = lr_graph_pca\n",
    "\n",
    "# Logistic regression on graph pca features with oversampling\n",
    "rus = RandomOverSampler(random_state=42)\n",
    "graph_pca_x_oversample, graph_pca_y_oversample = rus.fit_resample(graph_pca_x_train, graph_pca_y_train)\n",
    "lr_graph_pca_oversample = GridSearchCV(LogisticRegression(solver=\"saga\", l1_ratio=0.5), param_grid=hyper_parameters, verbose=2)\n",
    "lr_graph_pca_oversample.fit(graph_pca_x_oversample, graph_pca_y_oversample)\n",
    "models[\"lr_graph_pca_oversample\"] = lr_graph_pca_oversample\n"
   ]
  },
  {
   "cell_type": "code",
   "execution_count": null,
   "metadata": {
    "colab": {
     "base_uri": "https://localhost:8080/"
    },
    "id": "cg21-GW0ZTzW",
    "outputId": "7ce40010-9ae6-4738-8bc3-5da77b266d1e"
   },
   "outputs": [
    {
     "name": "stdout",
     "output_type": "stream",
     "text": [
      "Fitting 5 folds for each of 12 candidates, totalling 60 fits\n",
      "[CV] END .criterion=gini, max_features=sqrt, n_estimators=50; total time=   6.1s\n",
      "[CV] END .criterion=gini, max_features=sqrt, n_estimators=50; total time=   6.1s\n",
      "[CV] END .criterion=gini, max_features=sqrt, n_estimators=50; total time=   6.0s\n",
      "[CV] END .criterion=gini, max_features=sqrt, n_estimators=50; total time=   6.1s\n",
      "[CV] END .criterion=gini, max_features=sqrt, n_estimators=50; total time=   6.0s\n",
      "[CV] END criterion=gini, max_features=sqrt, n_estimators=100; total time=  11.9s\n",
      "[CV] END criterion=gini, max_features=sqrt, n_estimators=100; total time=  12.0s\n",
      "[CV] END criterion=gini, max_features=sqrt, n_estimators=100; total time=  11.8s\n",
      "[CV] END criterion=gini, max_features=sqrt, n_estimators=100; total time=  12.0s\n",
      "[CV] END criterion=gini, max_features=sqrt, n_estimators=100; total time=  12.1s\n",
      "[CV] END criterion=gini, max_features=sqrt, n_estimators=150; total time=  17.9s\n",
      "[CV] END criterion=gini, max_features=sqrt, n_estimators=150; total time=  17.7s\n",
      "[CV] END criterion=gini, max_features=sqrt, n_estimators=150; total time=  18.2s\n",
      "[CV] END criterion=gini, max_features=sqrt, n_estimators=150; total time=  18.3s\n",
      "[CV] END criterion=gini, max_features=sqrt, n_estimators=150; total time=  17.6s\n",
      "[CV] END .criterion=gini, max_features=log2, n_estimators=50; total time=   3.6s\n",
      "[CV] END .criterion=gini, max_features=log2, n_estimators=50; total time=   3.7s\n",
      "[CV] END .criterion=gini, max_features=log2, n_estimators=50; total time=   3.7s\n",
      "[CV] END .criterion=gini, max_features=log2, n_estimators=50; total time=   3.8s\n",
      "[CV] END .criterion=gini, max_features=log2, n_estimators=50; total time=   3.6s\n",
      "[CV] END criterion=gini, max_features=log2, n_estimators=100; total time=   7.3s\n",
      "[CV] END criterion=gini, max_features=log2, n_estimators=100; total time=   7.4s\n",
      "[CV] END criterion=gini, max_features=log2, n_estimators=100; total time=   7.2s\n",
      "[CV] END criterion=gini, max_features=log2, n_estimators=100; total time=   7.1s\n",
      "[CV] END criterion=gini, max_features=log2, n_estimators=100; total time=   7.2s\n",
      "[CV] END criterion=gini, max_features=log2, n_estimators=150; total time=  10.9s\n",
      "[CV] END criterion=gini, max_features=log2, n_estimators=150; total time=  10.9s\n",
      "[CV] END criterion=gini, max_features=log2, n_estimators=150; total time=  10.9s\n",
      "[CV] END criterion=gini, max_features=log2, n_estimators=150; total time=  10.7s\n",
      "[CV] END criterion=gini, max_features=log2, n_estimators=150; total time=  10.8s\n",
      "[CV] END criterion=entropy, max_features=sqrt, n_estimators=50; total time=   6.8s\n",
      "[CV] END criterion=entropy, max_features=sqrt, n_estimators=50; total time=   6.6s\n",
      "[CV] END criterion=entropy, max_features=sqrt, n_estimators=50; total time=   6.8s\n",
      "[CV] END criterion=entropy, max_features=sqrt, n_estimators=50; total time=   6.8s\n",
      "[CV] END criterion=entropy, max_features=sqrt, n_estimators=50; total time=   6.8s\n",
      "[CV] END criterion=entropy, max_features=sqrt, n_estimators=100; total time=  13.6s\n",
      "[CV] END criterion=entropy, max_features=sqrt, n_estimators=100; total time=  13.4s\n",
      "[CV] END criterion=entropy, max_features=sqrt, n_estimators=100; total time=  13.5s\n",
      "[CV] END criterion=entropy, max_features=sqrt, n_estimators=100; total time=  13.7s\n",
      "[CV] END criterion=entropy, max_features=sqrt, n_estimators=100; total time=  13.3s\n",
      "[CV] END criterion=entropy, max_features=sqrt, n_estimators=150; total time=  20.3s\n",
      "[CV] END criterion=entropy, max_features=sqrt, n_estimators=150; total time=  20.3s\n",
      "[CV] END criterion=entropy, max_features=sqrt, n_estimators=150; total time=  20.4s\n",
      "[CV] END criterion=entropy, max_features=sqrt, n_estimators=150; total time=  20.1s\n",
      "[CV] END criterion=entropy, max_features=sqrt, n_estimators=150; total time=  19.8s\n",
      "[CV] END criterion=entropy, max_features=log2, n_estimators=50; total time=   4.3s\n",
      "[CV] END criterion=entropy, max_features=log2, n_estimators=50; total time=   4.2s\n",
      "[CV] END criterion=entropy, max_features=log2, n_estimators=50; total time=   4.5s\n",
      "[CV] END criterion=entropy, max_features=log2, n_estimators=50; total time=   4.4s\n",
      "[CV] END criterion=entropy, max_features=log2, n_estimators=50; total time=   4.2s\n",
      "[CV] END criterion=entropy, max_features=log2, n_estimators=100; total time=   8.5s\n",
      "[CV] END criterion=entropy, max_features=log2, n_estimators=100; total time=   8.4s\n",
      "[CV] END criterion=entropy, max_features=log2, n_estimators=100; total time=   8.6s\n",
      "[CV] END criterion=entropy, max_features=log2, n_estimators=100; total time=   8.6s\n",
      "[CV] END criterion=entropy, max_features=log2, n_estimators=100; total time=   8.7s\n",
      "[CV] END criterion=entropy, max_features=log2, n_estimators=150; total time=  12.9s\n",
      "[CV] END criterion=entropy, max_features=log2, n_estimators=150; total time=  12.9s\n",
      "[CV] END criterion=entropy, max_features=log2, n_estimators=150; total time=  12.9s\n",
      "[CV] END criterion=entropy, max_features=log2, n_estimators=150; total time=  12.9s\n",
      "[CV] END criterion=entropy, max_features=log2, n_estimators=150; total time=  12.9s\n",
      "Fitting 5 folds for each of 12 candidates, totalling 60 fits\n",
      "[CV] END .criterion=gini, max_features=sqrt, n_estimators=50; total time=   9.7s\n",
      "[CV] END .criterion=gini, max_features=sqrt, n_estimators=50; total time=   9.8s\n",
      "[CV] END .criterion=gini, max_features=sqrt, n_estimators=50; total time=   9.9s\n",
      "[CV] END .criterion=gini, max_features=sqrt, n_estimators=50; total time=   9.9s\n",
      "[CV] END .criterion=gini, max_features=sqrt, n_estimators=50; total time=   9.6s\n",
      "[CV] END criterion=gini, max_features=sqrt, n_estimators=100; total time=  19.0s\n",
      "[CV] END criterion=gini, max_features=sqrt, n_estimators=100; total time=  19.7s\n",
      "[CV] END criterion=gini, max_features=sqrt, n_estimators=100; total time=  19.7s\n",
      "[CV] END criterion=gini, max_features=sqrt, n_estimators=100; total time=  19.5s\n",
      "[CV] END criterion=gini, max_features=sqrt, n_estimators=100; total time=  19.4s\n",
      "[CV] END criterion=gini, max_features=sqrt, n_estimators=150; total time=  29.1s\n",
      "[CV] END criterion=gini, max_features=sqrt, n_estimators=150; total time=  28.8s\n",
      "[CV] END criterion=gini, max_features=sqrt, n_estimators=150; total time=  29.0s\n",
      "[CV] END criterion=gini, max_features=sqrt, n_estimators=150; total time=  29.2s\n",
      "[CV] END criterion=gini, max_features=sqrt, n_estimators=150; total time=  28.9s\n",
      "[CV] END .criterion=gini, max_features=log2, n_estimators=50; total time=   6.2s\n",
      "[CV] END .criterion=gini, max_features=log2, n_estimators=50; total time=   6.1s\n",
      "[CV] END .criterion=gini, max_features=log2, n_estimators=50; total time=   6.1s\n",
      "[CV] END .criterion=gini, max_features=log2, n_estimators=50; total time=   6.2s\n",
      "[CV] END .criterion=gini, max_features=log2, n_estimators=50; total time=   6.1s\n",
      "[CV] END criterion=gini, max_features=log2, n_estimators=100; total time=  12.1s\n",
      "[CV] END criterion=gini, max_features=log2, n_estimators=100; total time=  12.4s\n",
      "[CV] END criterion=gini, max_features=log2, n_estimators=100; total time=  12.2s\n",
      "[CV] END criterion=gini, max_features=log2, n_estimators=100; total time=  12.3s\n",
      "[CV] END criterion=gini, max_features=log2, n_estimators=100; total time=  12.2s\n",
      "[CV] END criterion=gini, max_features=log2, n_estimators=150; total time=  18.2s\n",
      "[CV] END criterion=gini, max_features=log2, n_estimators=150; total time=  18.5s\n",
      "[CV] END criterion=gini, max_features=log2, n_estimators=150; total time=  18.4s\n",
      "[CV] END criterion=gini, max_features=log2, n_estimators=150; total time=  18.5s\n",
      "[CV] END criterion=gini, max_features=log2, n_estimators=150; total time=  18.5s\n",
      "[CV] END criterion=entropy, max_features=sqrt, n_estimators=50; total time=  10.5s\n",
      "[CV] END criterion=entropy, max_features=sqrt, n_estimators=50; total time=  10.7s\n",
      "[CV] END criterion=entropy, max_features=sqrt, n_estimators=50; total time=  10.5s\n",
      "[CV] END criterion=entropy, max_features=sqrt, n_estimators=50; total time=  10.8s\n",
      "[CV] END criterion=entropy, max_features=sqrt, n_estimators=50; total time=  10.6s\n",
      "[CV] END criterion=entropy, max_features=sqrt, n_estimators=100; total time=  21.3s\n",
      "[CV] END criterion=entropy, max_features=sqrt, n_estimators=100; total time=  21.2s\n",
      "[CV] END criterion=entropy, max_features=sqrt, n_estimators=100; total time=  20.8s\n",
      "[CV] END criterion=entropy, max_features=sqrt, n_estimators=100; total time=  21.4s\n",
      "[CV] END criterion=entropy, max_features=sqrt, n_estimators=100; total time=  21.0s\n",
      "[CV] END criterion=entropy, max_features=sqrt, n_estimators=150; total time=  31.6s\n",
      "[CV] END criterion=entropy, max_features=sqrt, n_estimators=150; total time=  31.9s\n",
      "[CV] END criterion=entropy, max_features=sqrt, n_estimators=150; total time=  32.0s\n",
      "[CV] END criterion=entropy, max_features=sqrt, n_estimators=150; total time=  32.2s\n",
      "[CV] END criterion=entropy, max_features=sqrt, n_estimators=150; total time=  31.2s\n",
      "[CV] END criterion=entropy, max_features=log2, n_estimators=50; total time=   6.8s\n",
      "[CV] END criterion=entropy, max_features=log2, n_estimators=50; total time=   7.0s\n",
      "[CV] END criterion=entropy, max_features=log2, n_estimators=50; total time=   7.0s\n",
      "[CV] END criterion=entropy, max_features=log2, n_estimators=50; total time=   7.0s\n",
      "[CV] END criterion=entropy, max_features=log2, n_estimators=50; total time=   7.4s\n",
      "[CV] END criterion=entropy, max_features=log2, n_estimators=100; total time=  14.2s\n",
      "[CV] END criterion=entropy, max_features=log2, n_estimators=100; total time=  13.9s\n",
      "[CV] END criterion=entropy, max_features=log2, n_estimators=100; total time=  13.8s\n",
      "[CV] END criterion=entropy, max_features=log2, n_estimators=100; total time=  13.9s\n",
      "[CV] END criterion=entropy, max_features=log2, n_estimators=100; total time=  13.7s\n",
      "[CV] END criterion=entropy, max_features=log2, n_estimators=150; total time=  20.3s\n",
      "[CV] END criterion=entropy, max_features=log2, n_estimators=150; total time=  20.9s\n",
      "[CV] END criterion=entropy, max_features=log2, n_estimators=150; total time=  20.5s\n",
      "[CV] END criterion=entropy, max_features=log2, n_estimators=150; total time=  20.4s\n",
      "[CV] END criterion=entropy, max_features=log2, n_estimators=150; total time=  20.7s\n",
      "Fitting 5 folds for each of 12 candidates, totalling 60 fits\n",
      "[CV] END .criterion=gini, max_features=sqrt, n_estimators=50; total time=   9.9s\n",
      "[CV] END .criterion=gini, max_features=sqrt, n_estimators=50; total time=   9.9s\n",
      "[CV] END .criterion=gini, max_features=sqrt, n_estimators=50; total time=   9.9s\n",
      "[CV] END .criterion=gini, max_features=sqrt, n_estimators=50; total time=   9.7s\n",
      "[CV] END .criterion=gini, max_features=sqrt, n_estimators=50; total time=   9.7s\n",
      "[CV] END criterion=gini, max_features=sqrt, n_estimators=100; total time=  19.6s\n",
      "[CV] END criterion=gini, max_features=sqrt, n_estimators=100; total time=  19.9s\n",
      "[CV] END criterion=gini, max_features=sqrt, n_estimators=100; total time=  19.6s\n",
      "[CV] END criterion=gini, max_features=sqrt, n_estimators=100; total time=  19.7s\n",
      "[CV] END criterion=gini, max_features=sqrt, n_estimators=100; total time=  19.4s\n",
      "[CV] END criterion=gini, max_features=sqrt, n_estimators=150; total time=  29.5s\n",
      "[CV] END criterion=gini, max_features=sqrt, n_estimators=150; total time=  29.6s\n",
      "[CV] END criterion=gini, max_features=sqrt, n_estimators=150; total time=  29.5s\n",
      "[CV] END criterion=gini, max_features=sqrt, n_estimators=150; total time=  29.2s\n",
      "[CV] END criterion=gini, max_features=sqrt, n_estimators=150; total time=  29.2s\n",
      "[CV] END .criterion=gini, max_features=log2, n_estimators=50; total time=   7.1s\n",
      "[CV] END .criterion=gini, max_features=log2, n_estimators=50; total time=   7.1s\n",
      "[CV] END .criterion=gini, max_features=log2, n_estimators=50; total time=   7.0s\n",
      "[CV] END .criterion=gini, max_features=log2, n_estimators=50; total time=   7.2s\n",
      "[CV] END .criterion=gini, max_features=log2, n_estimators=50; total time=   7.1s\n",
      "[CV] END criterion=gini, max_features=log2, n_estimators=100; total time=  14.3s\n",
      "[CV] END criterion=gini, max_features=log2, n_estimators=100; total time=  14.2s\n",
      "[CV] END criterion=gini, max_features=log2, n_estimators=100; total time=  14.2s\n",
      "[CV] END criterion=gini, max_features=log2, n_estimators=100; total time=  14.0s\n",
      "[CV] END criterion=gini, max_features=log2, n_estimators=100; total time=  13.9s\n",
      "[CV] END criterion=gini, max_features=log2, n_estimators=150; total time=  21.1s\n",
      "[CV] END criterion=gini, max_features=log2, n_estimators=150; total time=  21.3s\n",
      "[CV] END criterion=gini, max_features=log2, n_estimators=150; total time=  21.4s\n",
      "[CV] END criterion=gini, max_features=log2, n_estimators=150; total time=  21.1s\n",
      "[CV] END criterion=gini, max_features=log2, n_estimators=150; total time=  21.1s\n",
      "[CV] END criterion=entropy, max_features=sqrt, n_estimators=50; total time=  13.6s\n",
      "[CV] END criterion=entropy, max_features=sqrt, n_estimators=50; total time=  13.3s\n",
      "[CV] END criterion=entropy, max_features=sqrt, n_estimators=50; total time=  13.1s\n",
      "[CV] END criterion=entropy, max_features=sqrt, n_estimators=50; total time=  13.3s\n",
      "[CV] END criterion=entropy, max_features=sqrt, n_estimators=50; total time=  13.2s\n",
      "[CV] END criterion=entropy, max_features=sqrt, n_estimators=100; total time=  26.1s\n",
      "[CV] END criterion=entropy, max_features=sqrt, n_estimators=100; total time=  26.9s\n",
      "[CV] END criterion=entropy, max_features=sqrt, n_estimators=100; total time=  26.6s\n",
      "[CV] END criterion=entropy, max_features=sqrt, n_estimators=100; total time=  26.5s\n",
      "[CV] END criterion=entropy, max_features=sqrt, n_estimators=100; total time=  26.5s\n",
      "[CV] END criterion=entropy, max_features=sqrt, n_estimators=150; total time=  39.2s\n",
      "[CV] END criterion=entropy, max_features=sqrt, n_estimators=150; total time=  39.9s\n",
      "[CV] END criterion=entropy, max_features=sqrt, n_estimators=150; total time=  39.9s\n",
      "[CV] END criterion=entropy, max_features=sqrt, n_estimators=150; total time=  39.5s\n",
      "[CV] END criterion=entropy, max_features=sqrt, n_estimators=150; total time=  39.9s\n",
      "[CV] END criterion=entropy, max_features=log2, n_estimators=50; total time=  10.0s\n",
      "[CV] END criterion=entropy, max_features=log2, n_estimators=50; total time=  10.1s\n",
      "[CV] END criterion=entropy, max_features=log2, n_estimators=50; total time=  10.2s\n",
      "[CV] END criterion=entropy, max_features=log2, n_estimators=50; total time=  10.0s\n",
      "[CV] END criterion=entropy, max_features=log2, n_estimators=50; total time=  10.0s\n",
      "[CV] END criterion=entropy, max_features=log2, n_estimators=100; total time=  19.9s\n",
      "[CV] END criterion=entropy, max_features=log2, n_estimators=100; total time=  20.1s\n",
      "[CV] END criterion=entropy, max_features=log2, n_estimators=100; total time=  19.8s\n",
      "[CV] END criterion=entropy, max_features=log2, n_estimators=100; total time=  19.8s\n",
      "[CV] END criterion=entropy, max_features=log2, n_estimators=100; total time=  19.9s\n",
      "[CV] END criterion=entropy, max_features=log2, n_estimators=150; total time=  29.6s\n",
      "[CV] END criterion=entropy, max_features=log2, n_estimators=150; total time=  29.8s\n",
      "[CV] END criterion=entropy, max_features=log2, n_estimators=150; total time=  29.6s\n",
      "[CV] END criterion=entropy, max_features=log2, n_estimators=150; total time=  29.8s\n",
      "[CV] END criterion=entropy, max_features=log2, n_estimators=150; total time=  30.0s\n",
      "Fitting 5 folds for each of 12 candidates, totalling 60 fits\n",
      "[CV] END .criterion=gini, max_features=sqrt, n_estimators=50; total time=  21.2s\n",
      "[CV] END .criterion=gini, max_features=sqrt, n_estimators=50; total time=  21.4s\n",
      "[CV] END .criterion=gini, max_features=sqrt, n_estimators=50; total time=  21.1s\n",
      "[CV] END .criterion=gini, max_features=sqrt, n_estimators=50; total time=  21.2s\n",
      "[CV] END .criterion=gini, max_features=sqrt, n_estimators=50; total time=  21.0s\n",
      "[CV] END criterion=gini, max_features=sqrt, n_estimators=100; total time=  41.5s\n",
      "[CV] END criterion=gini, max_features=sqrt, n_estimators=100; total time=  42.3s\n",
      "[CV] END criterion=gini, max_features=sqrt, n_estimators=100; total time=  41.8s\n",
      "[CV] END criterion=gini, max_features=sqrt, n_estimators=100; total time=  42.6s\n",
      "[CV] END criterion=gini, max_features=sqrt, n_estimators=100; total time=  41.3s\n",
      "[CV] END criterion=gini, max_features=sqrt, n_estimators=150; total time= 1.0min\n",
      "[CV] END criterion=gini, max_features=sqrt, n_estimators=150; total time= 1.0min\n",
      "[CV] END criterion=gini, max_features=sqrt, n_estimators=150; total time= 1.1min\n",
      "[CV] END criterion=gini, max_features=sqrt, n_estimators=150; total time= 1.1min\n",
      "[CV] END criterion=gini, max_features=sqrt, n_estimators=150; total time= 1.0min\n",
      "[CV] END .criterion=gini, max_features=log2, n_estimators=50; total time=  14.9s\n",
      "[CV] END .criterion=gini, max_features=log2, n_estimators=50; total time=  15.1s\n",
      "[CV] END .criterion=gini, max_features=log2, n_estimators=50; total time=  15.2s\n",
      "[CV] END .criterion=gini, max_features=log2, n_estimators=50; total time=  15.1s\n",
      "[CV] END .criterion=gini, max_features=log2, n_estimators=50; total time=  15.1s\n",
      "[CV] END criterion=gini, max_features=log2, n_estimators=100; total time=  30.1s\n",
      "[CV] END criterion=gini, max_features=log2, n_estimators=100; total time=  30.4s\n",
      "[CV] END criterion=gini, max_features=log2, n_estimators=100; total time=  30.3s\n",
      "[CV] END criterion=gini, max_features=log2, n_estimators=100; total time=  30.5s\n",
      "[CV] END criterion=gini, max_features=log2, n_estimators=100; total time=  30.2s\n",
      "[CV] END criterion=gini, max_features=log2, n_estimators=150; total time=  44.7s\n",
      "[CV] END criterion=gini, max_features=log2, n_estimators=150; total time=  45.6s\n",
      "[CV] END criterion=gini, max_features=log2, n_estimators=150; total time=  45.8s\n",
      "[CV] END criterion=gini, max_features=log2, n_estimators=150; total time=  45.8s\n",
      "[CV] END criterion=gini, max_features=log2, n_estimators=150; total time=  45.0s\n",
      "[CV] END criterion=entropy, max_features=sqrt, n_estimators=50; total time=  23.1s\n",
      "[CV] END criterion=entropy, max_features=sqrt, n_estimators=50; total time=  23.1s\n",
      "[CV] END criterion=entropy, max_features=sqrt, n_estimators=50; total time=  23.3s\n",
      "[CV] END criterion=entropy, max_features=sqrt, n_estimators=50; total time=  23.3s\n",
      "[CV] END criterion=entropy, max_features=sqrt, n_estimators=50; total time=  22.7s\n",
      "[CV] END criterion=entropy, max_features=sqrt, n_estimators=100; total time=  45.9s\n",
      "[CV] END criterion=entropy, max_features=sqrt, n_estimators=100; total time=  46.9s\n",
      "[CV] END criterion=entropy, max_features=sqrt, n_estimators=100; total time=  46.8s\n",
      "[CV] END criterion=entropy, max_features=sqrt, n_estimators=100; total time=  46.5s\n",
      "[CV] END criterion=entropy, max_features=sqrt, n_estimators=100; total time=  46.1s\n",
      "[CV] END criterion=entropy, max_features=sqrt, n_estimators=150; total time= 1.2min\n",
      "[CV] END criterion=entropy, max_features=sqrt, n_estimators=150; total time= 1.2min\n",
      "[CV] END criterion=entropy, max_features=sqrt, n_estimators=150; total time= 1.2min\n",
      "[CV] END criterion=entropy, max_features=sqrt, n_estimators=150; total time= 1.2min\n",
      "[CV] END criterion=entropy, max_features=sqrt, n_estimators=150; total time= 1.2min\n",
      "[CV] END criterion=entropy, max_features=log2, n_estimators=50; total time=  17.4s\n",
      "[CV] END criterion=entropy, max_features=log2, n_estimators=50; total time=  17.7s\n",
      "[CV] END criterion=entropy, max_features=log2, n_estimators=50; total time=  17.6s\n",
      "[CV] END criterion=entropy, max_features=log2, n_estimators=50; total time=  17.5s\n",
      "[CV] END criterion=entropy, max_features=log2, n_estimators=50; total time=  17.3s\n",
      "[CV] END criterion=entropy, max_features=log2, n_estimators=100; total time=  34.4s\n",
      "[CV] END criterion=entropy, max_features=log2, n_estimators=100; total time=  35.4s\n",
      "[CV] END criterion=entropy, max_features=log2, n_estimators=100; total time=  35.8s\n",
      "[CV] END criterion=entropy, max_features=log2, n_estimators=100; total time=  35.2s\n",
      "[CV] END criterion=entropy, max_features=log2, n_estimators=100; total time=  34.7s\n",
      "[CV] END criterion=entropy, max_features=log2, n_estimators=150; total time=  52.0s\n",
      "[CV] END criterion=entropy, max_features=log2, n_estimators=150; total time=  52.6s\n",
      "[CV] END criterion=entropy, max_features=log2, n_estimators=150; total time=  52.7s\n",
      "[CV] END criterion=entropy, max_features=log2, n_estimators=150; total time=  52.6s\n",
      "[CV] END criterion=entropy, max_features=log2, n_estimators=150; total time=  52.3s\n",
      "Fitting 5 folds for each of 12 candidates, totalling 60 fits\n",
      "[CV] END .criterion=gini, max_features=sqrt, n_estimators=50; total time=  10.0s\n",
      "[CV] END .criterion=gini, max_features=sqrt, n_estimators=50; total time=  10.0s\n",
      "[CV] END .criterion=gini, max_features=sqrt, n_estimators=50; total time=  10.0s\n",
      "[CV] END .criterion=gini, max_features=sqrt, n_estimators=50; total time=  10.3s\n",
      "[CV] END .criterion=gini, max_features=sqrt, n_estimators=50; total time=  10.0s\n",
      "[CV] END criterion=gini, max_features=sqrt, n_estimators=100; total time=  19.7s\n",
      "[CV] END criterion=gini, max_features=sqrt, n_estimators=100; total time=  19.9s\n",
      "[CV] END criterion=gini, max_features=sqrt, n_estimators=100; total time=  20.0s\n",
      "[CV] END criterion=gini, max_features=sqrt, n_estimators=100; total time=  19.7s\n",
      "[CV] END criterion=gini, max_features=sqrt, n_estimators=100; total time=  19.6s\n",
      "[CV] END criterion=gini, max_features=sqrt, n_estimators=150; total time=  29.7s\n",
      "[CV] END criterion=gini, max_features=sqrt, n_estimators=150; total time=  29.6s\n",
      "[CV] END criterion=gini, max_features=sqrt, n_estimators=150; total time=  29.5s\n",
      "[CV] END criterion=gini, max_features=sqrt, n_estimators=150; total time=  29.8s\n",
      "[CV] END criterion=gini, max_features=sqrt, n_estimators=150; total time=  29.3s\n",
      "[CV] END .criterion=gini, max_features=log2, n_estimators=50; total time=   4.5s\n",
      "[CV] END .criterion=gini, max_features=log2, n_estimators=50; total time=   4.5s\n",
      "[CV] END .criterion=gini, max_features=log2, n_estimators=50; total time=   4.6s\n",
      "[CV] END .criterion=gini, max_features=log2, n_estimators=50; total time=   4.5s\n",
      "[CV] END .criterion=gini, max_features=log2, n_estimators=50; total time=   4.5s\n",
      "[CV] END criterion=gini, max_features=log2, n_estimators=100; total time=   9.0s\n",
      "[CV] END criterion=gini, max_features=log2, n_estimators=100; total time=   8.9s\n",
      "[CV] END criterion=gini, max_features=log2, n_estimators=100; total time=   9.1s\n",
      "[CV] END criterion=gini, max_features=log2, n_estimators=100; total time=   9.1s\n",
      "[CV] END criterion=gini, max_features=log2, n_estimators=100; total time=   9.1s\n",
      "[CV] END criterion=gini, max_features=log2, n_estimators=150; total time=  13.6s\n",
      "[CV] END criterion=gini, max_features=log2, n_estimators=150; total time=  13.4s\n",
      "[CV] END criterion=gini, max_features=log2, n_estimators=150; total time=  13.4s\n",
      "[CV] END criterion=gini, max_features=log2, n_estimators=150; total time=  13.6s\n",
      "[CV] END criterion=gini, max_features=log2, n_estimators=150; total time=  13.4s\n",
      "[CV] END criterion=entropy, max_features=sqrt, n_estimators=50; total time=  10.5s\n",
      "[CV] END criterion=entropy, max_features=sqrt, n_estimators=50; total time=  10.6s\n",
      "[CV] END criterion=entropy, max_features=sqrt, n_estimators=50; total time=  10.7s\n",
      "[CV] END criterion=entropy, max_features=sqrt, n_estimators=50; total time=  10.7s\n",
      "[CV] END criterion=entropy, max_features=sqrt, n_estimators=50; total time=  10.6s\n",
      "[CV] END criterion=entropy, max_features=sqrt, n_estimators=100; total time=  20.9s\n",
      "[CV] END criterion=entropy, max_features=sqrt, n_estimators=100; total time=  21.3s\n",
      "[CV] END criterion=entropy, max_features=sqrt, n_estimators=100; total time=  21.2s\n",
      "[CV] END criterion=entropy, max_features=sqrt, n_estimators=100; total time=  22.1s\n",
      "[CV] END criterion=entropy, max_features=sqrt, n_estimators=100; total time=  21.4s\n",
      "[CV] END criterion=entropy, max_features=sqrt, n_estimators=150; total time=  31.8s\n",
      "[CV] END criterion=entropy, max_features=sqrt, n_estimators=150; total time=  31.8s\n",
      "[CV] END criterion=entropy, max_features=sqrt, n_estimators=150; total time=  31.6s\n",
      "[CV] END criterion=entropy, max_features=sqrt, n_estimators=150; total time=  31.8s\n",
      "[CV] END criterion=entropy, max_features=sqrt, n_estimators=150; total time=  31.6s\n",
      "[CV] END criterion=entropy, max_features=log2, n_estimators=50; total time=   5.3s\n",
      "[CV] END criterion=entropy, max_features=log2, n_estimators=50; total time=   5.2s\n",
      "[CV] END criterion=entropy, max_features=log2, n_estimators=50; total time=   5.3s\n",
      "[CV] END criterion=entropy, max_features=log2, n_estimators=50; total time=   5.3s\n",
      "[CV] END criterion=entropy, max_features=log2, n_estimators=50; total time=   5.3s\n",
      "[CV] END criterion=entropy, max_features=log2, n_estimators=100; total time=  10.4s\n",
      "[CV] END criterion=entropy, max_features=log2, n_estimators=100; total time=  10.5s\n",
      "[CV] END criterion=entropy, max_features=log2, n_estimators=100; total time=  10.6s\n",
      "[CV] END criterion=entropy, max_features=log2, n_estimators=100; total time=  10.3s\n",
      "[CV] END criterion=entropy, max_features=log2, n_estimators=100; total time=  10.3s\n",
      "[CV] END criterion=entropy, max_features=log2, n_estimators=150; total time=  15.6s\n",
      "[CV] END criterion=entropy, max_features=log2, n_estimators=150; total time=  15.7s\n",
      "[CV] END criterion=entropy, max_features=log2, n_estimators=150; total time=  15.8s\n",
      "[CV] END criterion=entropy, max_features=log2, n_estimators=150; total time=  15.9s\n",
      "[CV] END criterion=entropy, max_features=log2, n_estimators=150; total time=  15.8s\n",
      "Fitting 5 folds for each of 12 candidates, totalling 60 fits\n",
      "[CV] END .criterion=gini, max_features=sqrt, n_estimators=50; total time=  14.6s\n",
      "[CV] END .criterion=gini, max_features=sqrt, n_estimators=50; total time=  14.8s\n",
      "[CV] END .criterion=gini, max_features=sqrt, n_estimators=50; total time=  15.2s\n",
      "[CV] END .criterion=gini, max_features=sqrt, n_estimators=50; total time=  14.7s\n",
      "[CV] END .criterion=gini, max_features=sqrt, n_estimators=50; total time=  15.0s\n",
      "[CV] END criterion=gini, max_features=sqrt, n_estimators=100; total time=  29.2s\n",
      "[CV] END criterion=gini, max_features=sqrt, n_estimators=100; total time=  30.0s\n",
      "[CV] END criterion=gini, max_features=sqrt, n_estimators=100; total time=  29.9s\n",
      "[CV] END criterion=gini, max_features=sqrt, n_estimators=100; total time=  29.7s\n",
      "[CV] END criterion=gini, max_features=sqrt, n_estimators=100; total time=  30.1s\n",
      "[CV] END criterion=gini, max_features=sqrt, n_estimators=150; total time=  44.5s\n",
      "[CV] END criterion=gini, max_features=sqrt, n_estimators=150; total time=  46.7s\n",
      "[CV] END criterion=gini, max_features=sqrt, n_estimators=150; total time=  44.2s\n",
      "[CV] END criterion=gini, max_features=sqrt, n_estimators=150; total time=  44.8s\n",
      "[CV] END criterion=gini, max_features=sqrt, n_estimators=150; total time=  44.1s\n",
      "[CV] END .criterion=gini, max_features=log2, n_estimators=50; total time=   7.2s\n",
      "[CV] END .criterion=gini, max_features=log2, n_estimators=50; total time=   7.3s\n",
      "[CV] END .criterion=gini, max_features=log2, n_estimators=50; total time=   7.4s\n",
      "[CV] END .criterion=gini, max_features=log2, n_estimators=50; total time=   7.4s\n",
      "[CV] END .criterion=gini, max_features=log2, n_estimators=50; total time=   7.3s\n",
      "[CV] END criterion=gini, max_features=log2, n_estimators=100; total time=  14.5s\n",
      "[CV] END criterion=gini, max_features=log2, n_estimators=100; total time=  14.7s\n",
      "[CV] END criterion=gini, max_features=log2, n_estimators=100; total time=  14.9s\n",
      "[CV] END criterion=gini, max_features=log2, n_estimators=100; total time=  14.7s\n",
      "[CV] END criterion=gini, max_features=log2, n_estimators=100; total time=  14.8s\n",
      "[CV] END criterion=gini, max_features=log2, n_estimators=150; total time=  21.5s\n",
      "[CV] END criterion=gini, max_features=log2, n_estimators=150; total time=  22.3s\n",
      "[CV] END criterion=gini, max_features=log2, n_estimators=150; total time=  21.9s\n",
      "[CV] END criterion=gini, max_features=log2, n_estimators=150; total time=  22.0s\n",
      "[CV] END criterion=gini, max_features=log2, n_estimators=150; total time=  21.9s\n",
      "[CV] END criterion=entropy, max_features=sqrt, n_estimators=50; total time=  15.8s\n",
      "[CV] END criterion=entropy, max_features=sqrt, n_estimators=50; total time=  16.0s\n",
      "[CV] END criterion=entropy, max_features=sqrt, n_estimators=50; total time=  16.3s\n",
      "[CV] END criterion=entropy, max_features=sqrt, n_estimators=50; total time=  16.2s\n",
      "[CV] END criterion=entropy, max_features=sqrt, n_estimators=50; total time=  15.8s\n",
      "[CV] END criterion=entropy, max_features=sqrt, n_estimators=100; total time=  31.8s\n",
      "[CV] END criterion=entropy, max_features=sqrt, n_estimators=100; total time=  32.2s\n",
      "[CV] END criterion=entropy, max_features=sqrt, n_estimators=100; total time=  32.0s\n",
      "[CV] END criterion=entropy, max_features=sqrt, n_estimators=100; total time=  31.6s\n",
      "[CV] END criterion=entropy, max_features=sqrt, n_estimators=100; total time=  32.3s\n",
      "[CV] END criterion=entropy, max_features=sqrt, n_estimators=150; total time=  48.0s\n",
      "[CV] END criterion=entropy, max_features=sqrt, n_estimators=150; total time=  48.5s\n",
      "[CV] END criterion=entropy, max_features=sqrt, n_estimators=150; total time=  47.9s\n",
      "[CV] END criterion=entropy, max_features=sqrt, n_estimators=150; total time=  48.4s\n",
      "[CV] END criterion=entropy, max_features=sqrt, n_estimators=150; total time=  47.9s\n",
      "[CV] END criterion=entropy, max_features=log2, n_estimators=50; total time=   8.2s\n",
      "[CV] END criterion=entropy, max_features=log2, n_estimators=50; total time=   8.4s\n",
      "[CV] END criterion=entropy, max_features=log2, n_estimators=50; total time=   8.2s\n",
      "[CV] END criterion=entropy, max_features=log2, n_estimators=50; total time=   8.3s\n",
      "[CV] END criterion=entropy, max_features=log2, n_estimators=50; total time=   8.1s\n",
      "[CV] END criterion=entropy, max_features=log2, n_estimators=100; total time=  15.9s\n",
      "[CV] END criterion=entropy, max_features=log2, n_estimators=100; total time=  16.3s\n",
      "[CV] END criterion=entropy, max_features=log2, n_estimators=100; total time=  16.4s\n",
      "[CV] END criterion=entropy, max_features=log2, n_estimators=100; total time=  16.3s\n",
      "[CV] END criterion=entropy, max_features=log2, n_estimators=100; total time=  16.4s\n",
      "[CV] END criterion=entropy, max_features=log2, n_estimators=150; total time=  24.2s\n",
      "[CV] END criterion=entropy, max_features=log2, n_estimators=150; total time=  24.5s\n",
      "[CV] END criterion=entropy, max_features=log2, n_estimators=150; total time=  24.7s\n",
      "[CV] END criterion=entropy, max_features=log2, n_estimators=150; total time=  24.9s\n",
      "[CV] END criterion=entropy, max_features=log2, n_estimators=150; total time=  24.5s\n",
      "Fitting 5 folds for each of 12 candidates, totalling 60 fits\n",
      "[CV] END .criterion=gini, max_features=sqrt, n_estimators=50; total time=  14.9s\n",
      "[CV] END .criterion=gini, max_features=sqrt, n_estimators=50; total time=  15.0s\n",
      "[CV] END .criterion=gini, max_features=sqrt, n_estimators=50; total time=  14.6s\n",
      "[CV] END .criterion=gini, max_features=sqrt, n_estimators=50; total time=  14.6s\n",
      "[CV] END .criterion=gini, max_features=sqrt, n_estimators=50; total time=  14.8s\n",
      "[CV] END criterion=gini, max_features=sqrt, n_estimators=100; total time=  29.1s\n",
      "[CV] END criterion=gini, max_features=sqrt, n_estimators=100; total time=  29.7s\n",
      "[CV] END criterion=gini, max_features=sqrt, n_estimators=100; total time=  29.2s\n",
      "[CV] END criterion=gini, max_features=sqrt, n_estimators=100; total time=  29.0s\n",
      "[CV] END criterion=gini, max_features=sqrt, n_estimators=100; total time=  29.2s\n",
      "[CV] END criterion=gini, max_features=sqrt, n_estimators=150; total time=  43.7s\n",
      "[CV] END criterion=gini, max_features=sqrt, n_estimators=150; total time=  44.5s\n",
      "[CV] END criterion=gini, max_features=sqrt, n_estimators=150; total time=  43.5s\n",
      "[CV] END criterion=gini, max_features=sqrt, n_estimators=150; total time=  43.9s\n",
      "[CV] END criterion=gini, max_features=sqrt, n_estimators=150; total time=  44.1s\n",
      "[CV] END .criterion=gini, max_features=log2, n_estimators=50; total time=   8.8s\n",
      "[CV] END .criterion=gini, max_features=log2, n_estimators=50; total time=   8.9s\n",
      "[CV] END .criterion=gini, max_features=log2, n_estimators=50; total time=   8.9s\n",
      "[CV] END .criterion=gini, max_features=log2, n_estimators=50; total time=   9.0s\n",
      "[CV] END .criterion=gini, max_features=log2, n_estimators=50; total time=   8.9s\n",
      "[CV] END criterion=gini, max_features=log2, n_estimators=100; total time=  17.7s\n",
      "[CV] END criterion=gini, max_features=log2, n_estimators=100; total time=  17.9s\n",
      "[CV] END criterion=gini, max_features=log2, n_estimators=100; total time=  18.1s\n",
      "[CV] END criterion=gini, max_features=log2, n_estimators=100; total time=  17.8s\n",
      "[CV] END criterion=gini, max_features=log2, n_estimators=100; total time=  17.9s\n",
      "[CV] END criterion=gini, max_features=log2, n_estimators=150; total time=  26.7s\n",
      "[CV] END criterion=gini, max_features=log2, n_estimators=150; total time=  27.4s\n",
      "[CV] END criterion=gini, max_features=log2, n_estimators=150; total time=  26.8s\n",
      "[CV] END criterion=gini, max_features=log2, n_estimators=150; total time=  26.7s\n",
      "[CV] END criterion=gini, max_features=log2, n_estimators=150; total time=  26.9s\n",
      "[CV] END criterion=entropy, max_features=sqrt, n_estimators=50; total time=  19.9s\n",
      "[CV] END criterion=entropy, max_features=sqrt, n_estimators=50; total time=  19.9s\n",
      "[CV] END criterion=entropy, max_features=sqrt, n_estimators=50; total time=  20.0s\n",
      "[CV] END criterion=entropy, max_features=sqrt, n_estimators=50; total time=  20.1s\n",
      "[CV] END criterion=entropy, max_features=sqrt, n_estimators=50; total time=  20.0s\n",
      "[CV] END criterion=entropy, max_features=sqrt, n_estimators=100; total time=  39.8s\n",
      "[CV] END criterion=entropy, max_features=sqrt, n_estimators=100; total time=  39.7s\n",
      "[CV] END criterion=entropy, max_features=sqrt, n_estimators=100; total time=  40.2s\n",
      "[CV] END criterion=entropy, max_features=sqrt, n_estimators=100; total time=  40.4s\n",
      "[CV] END criterion=entropy, max_features=sqrt, n_estimators=100; total time=  39.7s\n",
      "[CV] END criterion=entropy, max_features=sqrt, n_estimators=150; total time=  59.5s\n",
      "[CV] END criterion=entropy, max_features=sqrt, n_estimators=150; total time=  59.4s\n",
      "[CV] END criterion=entropy, max_features=sqrt, n_estimators=150; total time=  59.1s\n",
      "[CV] END criterion=entropy, max_features=sqrt, n_estimators=150; total time=  59.8s\n",
      "[CV] END criterion=entropy, max_features=sqrt, n_estimators=150; total time=  59.8s\n",
      "[CV] END criterion=entropy, max_features=log2, n_estimators=50; total time=  12.9s\n",
      "[CV] END criterion=entropy, max_features=log2, n_estimators=50; total time=  12.9s\n",
      "[CV] END criterion=entropy, max_features=log2, n_estimators=50; total time=  12.9s\n",
      "[CV] END criterion=entropy, max_features=log2, n_estimators=50; total time=  12.8s\n",
      "[CV] END criterion=entropy, max_features=log2, n_estimators=50; total time=  12.7s\n",
      "[CV] END criterion=entropy, max_features=log2, n_estimators=100; total time=  25.2s\n",
      "[CV] END criterion=entropy, max_features=log2, n_estimators=100; total time=  25.7s\n",
      "[CV] END criterion=entropy, max_features=log2, n_estimators=100; total time=  25.7s\n",
      "[CV] END criterion=entropy, max_features=log2, n_estimators=100; total time=  25.7s\n",
      "[CV] END criterion=entropy, max_features=log2, n_estimators=100; total time=  25.3s\n",
      "[CV] END criterion=entropy, max_features=log2, n_estimators=150; total time=  38.0s\n",
      "[CV] END criterion=entropy, max_features=log2, n_estimators=150; total time=  38.4s\n",
      "[CV] END criterion=entropy, max_features=log2, n_estimators=150; total time=  38.2s\n",
      "[CV] END criterion=entropy, max_features=log2, n_estimators=150; total time=  38.4s\n",
      "[CV] END criterion=entropy, max_features=log2, n_estimators=150; total time=  38.3s\n",
      "Fitting 5 folds for each of 12 candidates, totalling 60 fits\n",
      "[CV] END .criterion=gini, max_features=sqrt, n_estimators=50; total time=  29.4s\n",
      "[CV] END .criterion=gini, max_features=sqrt, n_estimators=50; total time=  30.4s\n",
      "[CV] END .criterion=gini, max_features=sqrt, n_estimators=50; total time=  30.7s\n",
      "[CV] END .criterion=gini, max_features=sqrt, n_estimators=50; total time=  30.2s\n",
      "[CV] END .criterion=gini, max_features=sqrt, n_estimators=50; total time=  29.9s\n",
      "[CV] END criterion=gini, max_features=sqrt, n_estimators=100; total time=  59.6s\n",
      "[CV] END criterion=gini, max_features=sqrt, n_estimators=100; total time=  59.7s\n",
      "[CV] END criterion=gini, max_features=sqrt, n_estimators=100; total time= 1.0min\n",
      "[CV] END criterion=gini, max_features=sqrt, n_estimators=100; total time= 1.0min\n",
      "[CV] END criterion=gini, max_features=sqrt, n_estimators=100; total time=  60.0s\n",
      "[CV] END criterion=gini, max_features=sqrt, n_estimators=150; total time= 1.5min\n",
      "[CV] END criterion=gini, max_features=sqrt, n_estimators=150; total time= 1.5min\n",
      "[CV] END criterion=gini, max_features=sqrt, n_estimators=150; total time= 1.5min\n",
      "[CV] END criterion=gini, max_features=sqrt, n_estimators=150; total time= 1.5min\n",
      "[CV] END criterion=gini, max_features=sqrt, n_estimators=150; total time= 1.5min\n",
      "[CV] END .criterion=gini, max_features=log2, n_estimators=50; total time=  17.7s\n",
      "[CV] END .criterion=gini, max_features=log2, n_estimators=50; total time=  17.8s\n",
      "[CV] END .criterion=gini, max_features=log2, n_estimators=50; total time=  18.0s\n",
      "[CV] END .criterion=gini, max_features=log2, n_estimators=50; total time=  17.9s\n",
      "[CV] END .criterion=gini, max_features=log2, n_estimators=50; total time=  18.0s\n",
      "[CV] END criterion=gini, max_features=log2, n_estimators=100; total time=  35.5s\n",
      "[CV] END criterion=gini, max_features=log2, n_estimators=100; total time=  36.2s\n",
      "[CV] END criterion=gini, max_features=log2, n_estimators=100; total time=  36.2s\n",
      "[CV] END criterion=gini, max_features=log2, n_estimators=100; total time=  36.3s\n",
      "[CV] END criterion=gini, max_features=log2, n_estimators=100; total time=  36.5s\n",
      "[CV] END criterion=gini, max_features=log2, n_estimators=150; total time=  53.3s\n",
      "[CV] END criterion=gini, max_features=log2, n_estimators=150; total time=  54.7s\n",
      "[CV] END criterion=gini, max_features=log2, n_estimators=150; total time=  54.3s\n",
      "[CV] END criterion=gini, max_features=log2, n_estimators=150; total time=  53.8s\n",
      "[CV] END criterion=gini, max_features=log2, n_estimators=150; total time=  53.6s\n",
      "[CV] END criterion=entropy, max_features=sqrt, n_estimators=50; total time=  33.6s\n",
      "[CV] END criterion=entropy, max_features=sqrt, n_estimators=50; total time=  33.7s\n",
      "[CV] END criterion=entropy, max_features=sqrt, n_estimators=50; total time=  33.2s\n",
      "[CV] END criterion=entropy, max_features=sqrt, n_estimators=50; total time=  33.3s\n",
      "[CV] END criterion=entropy, max_features=sqrt, n_estimators=50; total time=  33.1s\n",
      "[CV] END criterion=entropy, max_features=sqrt, n_estimators=100; total time= 1.1min\n",
      "[CV] END criterion=entropy, max_features=sqrt, n_estimators=100; total time= 1.1min\n",
      "[CV] END criterion=entropy, max_features=sqrt, n_estimators=100; total time= 1.1min\n",
      "[CV] END criterion=entropy, max_features=sqrt, n_estimators=100; total time= 1.1min\n",
      "[CV] END criterion=entropy, max_features=sqrt, n_estimators=100; total time= 1.1min\n",
      "[CV] END criterion=entropy, max_features=sqrt, n_estimators=150; total time= 1.7min\n",
      "[CV] END criterion=entropy, max_features=sqrt, n_estimators=150; total time= 1.7min\n",
      "[CV] END criterion=entropy, max_features=sqrt, n_estimators=150; total time= 1.7min\n",
      "[CV] END criterion=entropy, max_features=sqrt, n_estimators=150; total time= 1.7min\n",
      "[CV] END criterion=entropy, max_features=sqrt, n_estimators=150; total time= 1.7min\n",
      "[CV] END criterion=entropy, max_features=log2, n_estimators=50; total time=  21.3s\n",
      "[CV] END criterion=entropy, max_features=log2, n_estimators=50; total time=  21.4s\n",
      "[CV] END criterion=entropy, max_features=log2, n_estimators=50; total time=  21.5s\n",
      "[CV] END criterion=entropy, max_features=log2, n_estimators=50; total time=  21.6s\n",
      "[CV] END criterion=entropy, max_features=log2, n_estimators=50; total time=  21.6s\n",
      "[CV] END criterion=entropy, max_features=log2, n_estimators=100; total time=  43.6s\n",
      "[CV] END criterion=entropy, max_features=log2, n_estimators=100; total time=  43.4s\n",
      "[CV] END criterion=entropy, max_features=log2, n_estimators=100; total time=  43.0s\n",
      "[CV] END criterion=entropy, max_features=log2, n_estimators=100; total time=  43.3s\n",
      "[CV] END criterion=entropy, max_features=log2, n_estimators=100; total time=  43.4s\n",
      "[CV] END criterion=entropy, max_features=log2, n_estimators=150; total time= 1.1min\n",
      "[CV] END criterion=entropy, max_features=log2, n_estimators=150; total time= 1.1min\n",
      "[CV] END criterion=entropy, max_features=log2, n_estimators=150; total time= 1.1min\n",
      "[CV] END criterion=entropy, max_features=log2, n_estimators=150; total time= 1.1min\n",
      "[CV] END criterion=entropy, max_features=log2, n_estimators=150; total time= 1.1min\n"
     ]
    }
   ],
   "source": [
    "# Random forest on base features with no oversampling\n",
    "hyper_parameters = {\"max_features\" : [\"sqrt\", \"log2\"],\n",
    "                    \"criterion\" : [\"gini\", \"entropy\"],\n",
    "                    \"n_estimators\" : [50, 100, 150]}\n",
    "\n",
    "rf_base = GridSearchCV(RandomForestClassifier(), param_grid=hyper_parameters, verbose=2)\n",
    "rf_base.fit(base_x_train, base_y_train)\n",
    "models[\"rf_base\"] = rf_base\n",
    "\n",
    "# Random forest on base features with oversampling\n",
    "rus = RandomOverSampler(random_state=42)\n",
    "base_x_oversample, base_y_oversample = rus.fit_resample(base_x_train, base_y_train)\n",
    "rf_base_oversample = GridSearchCV(RandomForestClassifier(), param_grid=hyper_parameters, verbose=2)\n",
    "rf_base_oversample.fit(base_x_oversample, base_y_oversample)\n",
    "models[\"rf_base_oversample\"] = rf_base_oversample\n",
    "\n",
    "# Random forest on base pca features with no oversampling\n",
    "rf_base_pca = GridSearchCV(RandomForestClassifier(), param_grid=hyper_parameters, verbose=2)\n",
    "rf_base_pca.fit(base_pca_x_train, base_pca_y_train)\n",
    "models[\"rf_base_pca\"] = rf_base_pca\n",
    "\n",
    "# Random forest on base pca features with oversampling\n",
    "rus = RandomOverSampler(random_state=42)\n",
    "base_pca_x_oversample, base_pca_y_oversample = rus.fit_resample(base_pca_x_train, base_pca_y_train)\n",
    "rf_base_pca_oversample = GridSearchCV(RandomForestClassifier(), param_grid=hyper_parameters, verbose=2)\n",
    "rf_base_pca_oversample.fit(base_pca_x_oversample, base_pca_y_oversample)\n",
    "models[\"rf_base_pca_oversample\"] = rf_base_pca_oversample\n",
    "\n",
    "# Random forest on graph features with no oversampling\n",
    "rf_graph = GridSearchCV(RandomForestClassifier(), param_grid=hyper_parameters, verbose=2)\n",
    "rf_graph.fit(graph_x_train, graph_y_train)\n",
    "models[\"rf_graph\"] = rf_graph\n",
    "\n",
    "# Random forest on graph features with oversampling\n",
    "rus = RandomOverSampler(random_state=42)\n",
    "graph_x_oversample, graph_y_oversample = rus.fit_resample(graph_x_train, graph_y_train)\n",
    "rf_graph_oversample = GridSearchCV(RandomForestClassifier(), param_grid=hyper_parameters, verbose=2)\n",
    "rf_graph_oversample.fit(graph_x_oversample, graph_y_oversample)\n",
    "models[\"rf_graph_oversample\"] = rf_graph_oversample\n",
    "\n",
    "# Random forest on graph pca features with no oversampling\n",
    "rf_graph_pca = GridSearchCV(RandomForestClassifier(), param_grid=hyper_parameters, verbose=2)\n",
    "rf_graph_pca.fit(graph_pca_x_train, graph_pca_y_train)\n",
    "models[\"rf_graph_pca\"] = rf_graph_pca\n",
    "\n",
    "# Random forest on graph pca features with oversampling\n",
    "rus = RandomOverSampler(random_state=42)\n",
    "graph_pca_x_oversample, graph_pca_y_oversample = rus.fit_resample(graph_pca_x_train, graph_pca_y_train)\n",
    "rf_graph_pca_oversample = GridSearchCV(RandomForestClassifier(), param_grid=hyper_parameters, verbose=2)\n",
    "rf_graph_pca_oversample.fit(graph_pca_x_oversample, graph_pca_y_oversample)\n",
    "models[\"rf_graph_pca_oversample\"] = rf_graph_pca_oversample\n"
   ]
  },
  {
   "cell_type": "code",
   "execution_count": null,
   "metadata": {
    "colab": {
     "base_uri": "https://localhost:8080/"
    },
    "id": "29krsONmbbRC",
    "outputId": "873d98d2-a53f-4c60-d48a-fa386177b862"
   },
   "outputs": [
    {
     "name": "stdout",
     "output_type": "stream",
     "text": [
      "Training model with out_c=16 and learning rate=0.01\n",
      "Training model with out_c=32 and learning rate=0.01\n",
      "Training model with out_c=48 and learning rate=0.01\n",
      "Training model with out_c=16 and learning rate=0.001\n",
      "Training model with out_c=32 and learning rate=0.001\n",
      "Training model with out_c=48 and learning rate=0.001\n",
      "Training model with out_c=16 and learning rate=0.0001\n",
      "Training model with out_c=32 and learning rate=0.0001\n",
      "Training model with out_c=48 and learning rate=0.0001\n"
     ]
    }
   ],
   "source": [
    "\n",
    "lrs = [0.01, 0.001, 0.0001]\n",
    "out_cs = [16, 32, 48]\n",
    "dl_models = []\n",
    "for lr in lrs:\n",
    "    for out_c in out_cs:\n",
    "        print(\"Training model with out_c={} and learning rate={}\".format(out_c, lr))\n",
    "        scores = {}\n",
    "        scores[\"lr\"] = lr\n",
    "        scores[\"out_c\"] = out_c\n",
    "        device = torch.device('cuda' if torch.cuda.is_available() else 'cpu')\n",
    "        model = GCN(out_c).to(device)\n",
    "        data = dl_data.to(device)\n",
    "        optimizer = torch.optim.Adam(model.parameters(), lr=lr, weight_decay=5e-4)\n",
    "\n",
    "        model.train()\n",
    "        for epoch in range(200):\n",
    "            optimizer.zero_grad()\n",
    "            out = model(data)\n",
    "            loss = F.nll_loss(out[train_mask], data.y[train_mask])\n",
    "            loss.backward()\n",
    "            optimizer.step()\n",
    "\n",
    "        model.eval()\n",
    "        pred = model(data).argmax(dim=1)\n",
    "        scores[\"test_acc\"] = accuracy_score(pred[test_mask], data.y[test_mask])\n",
    "        scores[\"test_recall\"] = recall_score(pred[test_mask], data.y[test_mask])\n",
    "        scores[\"test_precision\"] = precision_score(pred[test_mask], data.y[test_mask])\n",
    "        scores[\"test_f1\"] = f1_score(pred[test_mask], data.y[test_mask])\n",
    "        dl_models.append(scores)\n",
    "dl_models = pd.DataFrame(dl_models)"
   ]
  },
  {
   "cell_type": "code",
   "execution_count": null,
   "metadata": {
    "id": "CuYkdQaibelR"
   },
   "outputs": [],
   "source": [
    "evaluations = []\n",
    "for k,v in models.items():\n",
    "    scores = {}\n",
    "    scores[\"clf\"] = k\n",
    "    scores[\"params\"] = v.best_params_\n",
    "    if k.find(\"base_pca\") > -1:\n",
    "        ypred = v.best_estimator_.predict(base_pca_x_test[:,:base_pca_x_train.shape[1]])\n",
    "        scores[\"test_acc\"] = accuracy_score(ypred, base_y_test)\n",
    "        scores[\"test_recall\"] = recall_score(ypred, base_y_test)\n",
    "        scores[\"test_precision\"] = precision_score(ypred, base_y_test)\n",
    "        scores[\"test_f1\"] = precision_score(ypred, base_y_test)\n",
    "    elif k.find(\"base\") > -1:\n",
    "        ypred = v.best_estimator_.predict(base_x_test)\n",
    "        scores[\"test_acc\"] = accuracy_score(ypred, base_y_test)\n",
    "        scores[\"test_recall\"] = recall_score(ypred, base_y_test)\n",
    "        scores[\"test_precision\"] = precision_score(ypred, base_y_test)\n",
    "        scores[\"test_f1\"] = precision_score(ypred, base_y_test)\n",
    "    elif k.find(\"graph_pca\") > -1:\n",
    "        ypred = v.best_estimator_.predict(graph_pca_x_test[:,:graph_pca_x_train.shape[1]])\n",
    "        scores[\"test_acc\"] = accuracy_score(ypred, base_y_test)\n",
    "        scores[\"test_recall\"] = recall_score(ypred, base_y_test)\n",
    "        scores[\"test_precision\"] = precision_score(ypred, base_y_test)\n",
    "        scores[\"test_f1\"] = precision_score(ypred, base_y_test)\n",
    "    elif k.find(\"graph\") > -1:\n",
    "        ypred = v.best_estimator_.predict(graph_x_test)\n",
    "        scores[\"test_acc\"] = accuracy_score(ypred, base_y_test)\n",
    "        scores[\"test_recall\"] = recall_score(ypred, base_y_test)\n",
    "        scores[\"test_precision\"] = precision_score(ypred, base_y_test)\n",
    "        scores[\"test_f1\"] = precision_score(ypred, base_y_test)\n",
    "    evaluations.append(scores)\n",
    "evaluation_df = pd.DataFrame(evaluations)"
   ]
  },
  {
   "cell_type": "markdown",
   "metadata": {
    "id": "ULty99ISYzrX"
   },
   "source": [
    "\n",
    "## Deep learning model scores"
   ]
  },
  {
   "cell_type": "code",
   "execution_count": null,
   "metadata": {
    "colab": {
     "base_uri": "https://localhost:8080/",
     "height": 332
    },
    "id": "zIiaiGvBdBgm",
    "outputId": "524e4438-37a4-4c34-822f-badec4a7ab13"
   },
   "outputs": [
    {
     "data": {
      "text/html": [
       "\n",
       "  <div id=\"df-80a7e76f-2ad1-4f16-be27-cbce3c1e33f2\">\n",
       "    <div class=\"colab-df-container\">\n",
       "      <div>\n",
       "<style scoped>\n",
       "    .dataframe tbody tr th:only-of-type {\n",
       "        vertical-align: middle;\n",
       "    }\n",
       "\n",
       "    .dataframe tbody tr th {\n",
       "        vertical-align: top;\n",
       "    }\n",
       "\n",
       "    .dataframe thead th {\n",
       "        text-align: right;\n",
       "    }\n",
       "</style>\n",
       "<table border=\"1\" class=\"dataframe\">\n",
       "  <thead>\n",
       "    <tr style=\"text-align: right;\">\n",
       "      <th></th>\n",
       "      <th>lr</th>\n",
       "      <th>out_c</th>\n",
       "      <th>test_acc</th>\n",
       "      <th>test_recall</th>\n",
       "      <th>test_precision</th>\n",
       "      <th>test_f1</th>\n",
       "    </tr>\n",
       "  </thead>\n",
       "  <tbody>\n",
       "    <tr>\n",
       "      <th>2</th>\n",
       "      <td>0.0100</td>\n",
       "      <td>48</td>\n",
       "      <td>0.966584</td>\n",
       "      <td>0.970703</td>\n",
       "      <td>0.992843</td>\n",
       "      <td>0.981648</td>\n",
       "    </tr>\n",
       "    <tr>\n",
       "      <th>1</th>\n",
       "      <td>0.0100</td>\n",
       "      <td>32</td>\n",
       "      <td>0.965037</td>\n",
       "      <td>0.969251</td>\n",
       "      <td>0.992652</td>\n",
       "      <td>0.980812</td>\n",
       "    </tr>\n",
       "    <tr>\n",
       "      <th>0</th>\n",
       "      <td>0.0100</td>\n",
       "      <td>16</td>\n",
       "      <td>0.959196</td>\n",
       "      <td>0.963921</td>\n",
       "      <td>0.991793</td>\n",
       "      <td>0.977659</td>\n",
       "    </tr>\n",
       "    <tr>\n",
       "      <th>5</th>\n",
       "      <td>0.0010</td>\n",
       "      <td>48</td>\n",
       "      <td>0.957306</td>\n",
       "      <td>0.961702</td>\n",
       "      <td>0.992079</td>\n",
       "      <td>0.976655</td>\n",
       "    </tr>\n",
       "    <tr>\n",
       "      <th>4</th>\n",
       "      <td>0.0010</td>\n",
       "      <td>32</td>\n",
       "      <td>0.954471</td>\n",
       "      <td>0.958437</td>\n",
       "      <td>0.992461</td>\n",
       "      <td>0.975152</td>\n",
       "    </tr>\n",
       "    <tr>\n",
       "      <th>3</th>\n",
       "      <td>0.0010</td>\n",
       "      <td>16</td>\n",
       "      <td>0.940040</td>\n",
       "      <td>0.948876</td>\n",
       "      <td>0.986545</td>\n",
       "      <td>0.967344</td>\n",
       "    </tr>\n",
       "    <tr>\n",
       "      <th>8</th>\n",
       "      <td>0.0001</td>\n",
       "      <td>48</td>\n",
       "      <td>0.915815</td>\n",
       "      <td>0.925697</td>\n",
       "      <td>0.985590</td>\n",
       "      <td>0.954705</td>\n",
       "    </tr>\n",
       "    <tr>\n",
       "      <th>7</th>\n",
       "      <td>0.0001</td>\n",
       "      <td>32</td>\n",
       "      <td>0.787647</td>\n",
       "      <td>0.930160</td>\n",
       "      <td>0.826128</td>\n",
       "      <td>0.875063</td>\n",
       "    </tr>\n",
       "    <tr>\n",
       "      <th>6</th>\n",
       "      <td>0.0001</td>\n",
       "      <td>16</td>\n",
       "      <td>0.487157</td>\n",
       "      <td>0.960572</td>\n",
       "      <td>0.448707</td>\n",
       "      <td>0.611682</td>\n",
       "    </tr>\n",
       "  </tbody>\n",
       "</table>\n",
       "</div>\n",
       "      <button class=\"colab-df-convert\" onclick=\"convertToInteractive('df-80a7e76f-2ad1-4f16-be27-cbce3c1e33f2')\"\n",
       "              title=\"Convert this dataframe to an interactive table.\"\n",
       "              style=\"display:none;\">\n",
       "        \n",
       "  <svg xmlns=\"http://www.w3.org/2000/svg\" height=\"24px\"viewBox=\"0 0 24 24\"\n",
       "       width=\"24px\">\n",
       "    <path d=\"M0 0h24v24H0V0z\" fill=\"none\"/>\n",
       "    <path d=\"M18.56 5.44l.94 2.06.94-2.06 2.06-.94-2.06-.94-.94-2.06-.94 2.06-2.06.94zm-11 1L8.5 8.5l.94-2.06 2.06-.94-2.06-.94L8.5 2.5l-.94 2.06-2.06.94zm10 10l.94 2.06.94-2.06 2.06-.94-2.06-.94-.94-2.06-.94 2.06-2.06.94z\"/><path d=\"M17.41 7.96l-1.37-1.37c-.4-.4-.92-.59-1.43-.59-.52 0-1.04.2-1.43.59L10.3 9.45l-7.72 7.72c-.78.78-.78 2.05 0 2.83L4 21.41c.39.39.9.59 1.41.59.51 0 1.02-.2 1.41-.59l7.78-7.78 2.81-2.81c.8-.78.8-2.07 0-2.86zM5.41 20L4 18.59l7.72-7.72 1.47 1.35L5.41 20z\"/>\n",
       "  </svg>\n",
       "      </button>\n",
       "      \n",
       "  <style>\n",
       "    .colab-df-container {\n",
       "      display:flex;\n",
       "      flex-wrap:wrap;\n",
       "      gap: 12px;\n",
       "    }\n",
       "\n",
       "    .colab-df-convert {\n",
       "      background-color: #E8F0FE;\n",
       "      border: none;\n",
       "      border-radius: 50%;\n",
       "      cursor: pointer;\n",
       "      display: none;\n",
       "      fill: #1967D2;\n",
       "      height: 32px;\n",
       "      padding: 0 0 0 0;\n",
       "      width: 32px;\n",
       "    }\n",
       "\n",
       "    .colab-df-convert:hover {\n",
       "      background-color: #E2EBFA;\n",
       "      box-shadow: 0px 1px 2px rgba(60, 64, 67, 0.3), 0px 1px 3px 1px rgba(60, 64, 67, 0.15);\n",
       "      fill: #174EA6;\n",
       "    }\n",
       "\n",
       "    [theme=dark] .colab-df-convert {\n",
       "      background-color: #3B4455;\n",
       "      fill: #D2E3FC;\n",
       "    }\n",
       "\n",
       "    [theme=dark] .colab-df-convert:hover {\n",
       "      background-color: #434B5C;\n",
       "      box-shadow: 0px 1px 3px 1px rgba(0, 0, 0, 0.15);\n",
       "      filter: drop-shadow(0px 1px 2px rgba(0, 0, 0, 0.3));\n",
       "      fill: #FFFFFF;\n",
       "    }\n",
       "  </style>\n",
       "\n",
       "      <script>\n",
       "        const buttonEl =\n",
       "          document.querySelector('#df-80a7e76f-2ad1-4f16-be27-cbce3c1e33f2 button.colab-df-convert');\n",
       "        buttonEl.style.display =\n",
       "          google.colab.kernel.accessAllowed ? 'block' : 'none';\n",
       "\n",
       "        async function convertToInteractive(key) {\n",
       "          const element = document.querySelector('#df-80a7e76f-2ad1-4f16-be27-cbce3c1e33f2');\n",
       "          const dataTable =\n",
       "            await google.colab.kernel.invokeFunction('convertToInteractive',\n",
       "                                                     [key], {});\n",
       "          if (!dataTable) return;\n",
       "\n",
       "          const docLinkHtml = 'Like what you see? Visit the ' +\n",
       "            '<a target=\"_blank\" href=https://colab.research.google.com/notebooks/data_table.ipynb>data table notebook</a>'\n",
       "            + ' to learn more about interactive tables.';\n",
       "          element.innerHTML = '';\n",
       "          dataTable['output_type'] = 'display_data';\n",
       "          await google.colab.output.renderOutput(dataTable, element);\n",
       "          const docLink = document.createElement('div');\n",
       "          docLink.innerHTML = docLinkHtml;\n",
       "          element.appendChild(docLink);\n",
       "        }\n",
       "      </script>\n",
       "    </div>\n",
       "  </div>\n",
       "  "
      ],
      "text/plain": [
       "       lr  out_c  test_acc  test_recall  test_precision   test_f1\n",
       "2  0.0100     48  0.966584     0.970703        0.992843  0.981648\n",
       "1  0.0100     32  0.965037     0.969251        0.992652  0.980812\n",
       "0  0.0100     16  0.959196     0.963921        0.991793  0.977659\n",
       "5  0.0010     48  0.957306     0.961702        0.992079  0.976655\n",
       "4  0.0010     32  0.954471     0.958437        0.992461  0.975152\n",
       "3  0.0010     16  0.940040     0.948876        0.986545  0.967344\n",
       "8  0.0001     48  0.915815     0.925697        0.985590  0.954705\n",
       "7  0.0001     32  0.787647     0.930160        0.826128  0.875063\n",
       "6  0.0001     16  0.487157     0.960572        0.448707  0.611682"
      ]
     },
     "execution_count": 44,
     "metadata": {},
     "output_type": "execute_result"
    }
   ],
   "source": [
    "dl_models.sort_values(\"test_f1\", ascending=False)"
   ]
  },
  {
   "cell_type": "markdown",
   "metadata": {
    "id": "tVezIdKcYWuN"
   },
   "source": [
    "## Classical model scores"
   ]
  },
  {
   "cell_type": "code",
   "execution_count": null,
   "metadata": {
    "colab": {
     "base_uri": "https://localhost:8080/",
     "height": 551
    },
    "id": "IP3znwWfL4lS",
    "outputId": "df91104e-a933-43c2-9832-852efc8569f7"
   },
   "outputs": [
    {
     "data": {
      "text/html": [
       "\n",
       "  <div id=\"df-03ead352-0f7e-4320-906e-f8b0a03e1fb6\">\n",
       "    <div class=\"colab-df-container\">\n",
       "      <div>\n",
       "<style scoped>\n",
       "    .dataframe tbody tr th:only-of-type {\n",
       "        vertical-align: middle;\n",
       "    }\n",
       "\n",
       "    .dataframe tbody tr th {\n",
       "        vertical-align: top;\n",
       "    }\n",
       "\n",
       "    .dataframe thead th {\n",
       "        text-align: right;\n",
       "    }\n",
       "</style>\n",
       "<table border=\"1\" class=\"dataframe\">\n",
       "  <thead>\n",
       "    <tr style=\"text-align: right;\">\n",
       "      <th></th>\n",
       "      <th>clf</th>\n",
       "      <th>params</th>\n",
       "      <th>test_acc</th>\n",
       "      <th>test_recall</th>\n",
       "      <th>test_precision</th>\n",
       "      <th>test_f1</th>\n",
       "    </tr>\n",
       "  </thead>\n",
       "  <tbody>\n",
       "    <tr>\n",
       "      <th>8</th>\n",
       "      <td>rf_base</td>\n",
       "      <td>{'criterion': 'entropy', 'max_features': 'sqrt...</td>\n",
       "      <td>0.987115</td>\n",
       "      <td>0.986254</td>\n",
       "      <td>0.999618</td>\n",
       "      <td>0.999618</td>\n",
       "    </tr>\n",
       "    <tr>\n",
       "      <th>12</th>\n",
       "      <td>rf_graph</td>\n",
       "      <td>{'criterion': 'entropy', 'max_features': 'sqrt...</td>\n",
       "      <td>0.986857</td>\n",
       "      <td>0.986067</td>\n",
       "      <td>0.999523</td>\n",
       "      <td>0.999523</td>\n",
       "    </tr>\n",
       "    <tr>\n",
       "      <th>9</th>\n",
       "      <td>rf_base_oversample</td>\n",
       "      <td>{'criterion': 'gini', 'max_features': 'sqrt', ...</td>\n",
       "      <td>0.989004</td>\n",
       "      <td>0.988762</td>\n",
       "      <td>0.999141</td>\n",
       "      <td>0.999141</td>\n",
       "    </tr>\n",
       "    <tr>\n",
       "      <th>13</th>\n",
       "      <td>rf_graph_oversample</td>\n",
       "      <td>{'criterion': 'gini', 'max_features': 'log2', ...</td>\n",
       "      <td>0.986857</td>\n",
       "      <td>0.986433</td>\n",
       "      <td>0.999141</td>\n",
       "      <td>0.999141</td>\n",
       "    </tr>\n",
       "    <tr>\n",
       "      <th>10</th>\n",
       "      <td>rf_base_pca</td>\n",
       "      <td>{'criterion': 'entropy', 'max_features': 'sqrt...</td>\n",
       "      <td>0.972683</td>\n",
       "      <td>0.972649</td>\n",
       "      <td>0.997710</td>\n",
       "      <td>0.997710</td>\n",
       "    </tr>\n",
       "    <tr>\n",
       "      <th>14</th>\n",
       "      <td>rf_graph_pca</td>\n",
       "      <td>{'criterion': 'entropy', 'max_features': 'sqrt...</td>\n",
       "      <td>0.964522</td>\n",
       "      <td>0.964470</td>\n",
       "      <td>0.997328</td>\n",
       "      <td>0.997328</td>\n",
       "    </tr>\n",
       "    <tr>\n",
       "      <th>11</th>\n",
       "      <td>rf_base_pca_oversample</td>\n",
       "      <td>{'criterion': 'entropy', 'max_features': 'log2...</td>\n",
       "      <td>0.974057</td>\n",
       "      <td>0.974806</td>\n",
       "      <td>0.996946</td>\n",
       "      <td>0.996946</td>\n",
       "    </tr>\n",
       "    <tr>\n",
       "      <th>15</th>\n",
       "      <td>rf_graph_pca_oversample</td>\n",
       "      <td>{'criterion': 'entropy', 'max_features': 'log2...</td>\n",
       "      <td>0.967786</td>\n",
       "      <td>0.969081</td>\n",
       "      <td>0.995992</td>\n",
       "      <td>0.995992</td>\n",
       "    </tr>\n",
       "    <tr>\n",
       "      <th>2</th>\n",
       "      <td>lr_base_pca</td>\n",
       "      <td>{'penalty': 'none'}</td>\n",
       "      <td>0.910403</td>\n",
       "      <td>0.915463</td>\n",
       "      <td>0.992079</td>\n",
       "      <td>0.992079</td>\n",
       "    </tr>\n",
       "    <tr>\n",
       "      <th>6</th>\n",
       "      <td>lr_graph_pca</td>\n",
       "      <td>{'penalty': 'none'}</td>\n",
       "      <td>0.918306</td>\n",
       "      <td>0.925813</td>\n",
       "      <td>0.988453</td>\n",
       "      <td>0.988453</td>\n",
       "    </tr>\n",
       "    <tr>\n",
       "      <th>0</th>\n",
       "      <td>lr_base</td>\n",
       "      <td>{'penalty': 'none'}</td>\n",
       "      <td>0.907654</td>\n",
       "      <td>0.920648</td>\n",
       "      <td>0.982059</td>\n",
       "      <td>0.982059</td>\n",
       "    </tr>\n",
       "    <tr>\n",
       "      <th>4</th>\n",
       "      <td>lr_graph</td>\n",
       "      <td>{'penalty': 'l1'}</td>\n",
       "      <td>0.923804</td>\n",
       "      <td>0.941702</td>\n",
       "      <td>0.975761</td>\n",
       "      <td>0.975761</td>\n",
       "    </tr>\n",
       "    <tr>\n",
       "      <th>7</th>\n",
       "      <td>lr_graph_pca_oversample</td>\n",
       "      <td>{'penalty': 'none'}</td>\n",
       "      <td>0.835323</td>\n",
       "      <td>0.989705</td>\n",
       "      <td>0.825651</td>\n",
       "      <td>0.825651</td>\n",
       "    </tr>\n",
       "    <tr>\n",
       "      <th>5</th>\n",
       "      <td>lr_graph_oversample</td>\n",
       "      <td>{'penalty': 'l2'}</td>\n",
       "      <td>0.831286</td>\n",
       "      <td>0.991571</td>\n",
       "      <td>0.819544</td>\n",
       "      <td>0.819544</td>\n",
       "    </tr>\n",
       "    <tr>\n",
       "      <th>3</th>\n",
       "      <td>lr_base_pca_oversample</td>\n",
       "      <td>{'penalty': 'l2'}</td>\n",
       "      <td>0.812044</td>\n",
       "      <td>0.987305</td>\n",
       "      <td>0.801508</td>\n",
       "      <td>0.801508</td>\n",
       "    </tr>\n",
       "    <tr>\n",
       "      <th>1</th>\n",
       "      <td>lr_base_oversample</td>\n",
       "      <td>{'penalty': 'none'}</td>\n",
       "      <td>0.805429</td>\n",
       "      <td>0.987999</td>\n",
       "      <td>0.793492</td>\n",
       "      <td>0.793492</td>\n",
       "    </tr>\n",
       "  </tbody>\n",
       "</table>\n",
       "</div>\n",
       "      <button class=\"colab-df-convert\" onclick=\"convertToInteractive('df-03ead352-0f7e-4320-906e-f8b0a03e1fb6')\"\n",
       "              title=\"Convert this dataframe to an interactive table.\"\n",
       "              style=\"display:none;\">\n",
       "        \n",
       "  <svg xmlns=\"http://www.w3.org/2000/svg\" height=\"24px\"viewBox=\"0 0 24 24\"\n",
       "       width=\"24px\">\n",
       "    <path d=\"M0 0h24v24H0V0z\" fill=\"none\"/>\n",
       "    <path d=\"M18.56 5.44l.94 2.06.94-2.06 2.06-.94-2.06-.94-.94-2.06-.94 2.06-2.06.94zm-11 1L8.5 8.5l.94-2.06 2.06-.94-2.06-.94L8.5 2.5l-.94 2.06-2.06.94zm10 10l.94 2.06.94-2.06 2.06-.94-2.06-.94-.94-2.06-.94 2.06-2.06.94z\"/><path d=\"M17.41 7.96l-1.37-1.37c-.4-.4-.92-.59-1.43-.59-.52 0-1.04.2-1.43.59L10.3 9.45l-7.72 7.72c-.78.78-.78 2.05 0 2.83L4 21.41c.39.39.9.59 1.41.59.51 0 1.02-.2 1.41-.59l7.78-7.78 2.81-2.81c.8-.78.8-2.07 0-2.86zM5.41 20L4 18.59l7.72-7.72 1.47 1.35L5.41 20z\"/>\n",
       "  </svg>\n",
       "      </button>\n",
       "      \n",
       "  <style>\n",
       "    .colab-df-container {\n",
       "      display:flex;\n",
       "      flex-wrap:wrap;\n",
       "      gap: 12px;\n",
       "    }\n",
       "\n",
       "    .colab-df-convert {\n",
       "      background-color: #E8F0FE;\n",
       "      border: none;\n",
       "      border-radius: 50%;\n",
       "      cursor: pointer;\n",
       "      display: none;\n",
       "      fill: #1967D2;\n",
       "      height: 32px;\n",
       "      padding: 0 0 0 0;\n",
       "      width: 32px;\n",
       "    }\n",
       "\n",
       "    .colab-df-convert:hover {\n",
       "      background-color: #E2EBFA;\n",
       "      box-shadow: 0px 1px 2px rgba(60, 64, 67, 0.3), 0px 1px 3px 1px rgba(60, 64, 67, 0.15);\n",
       "      fill: #174EA6;\n",
       "    }\n",
       "\n",
       "    [theme=dark] .colab-df-convert {\n",
       "      background-color: #3B4455;\n",
       "      fill: #D2E3FC;\n",
       "    }\n",
       "\n",
       "    [theme=dark] .colab-df-convert:hover {\n",
       "      background-color: #434B5C;\n",
       "      box-shadow: 0px 1px 3px 1px rgba(0, 0, 0, 0.15);\n",
       "      filter: drop-shadow(0px 1px 2px rgba(0, 0, 0, 0.3));\n",
       "      fill: #FFFFFF;\n",
       "    }\n",
       "  </style>\n",
       "\n",
       "      <script>\n",
       "        const buttonEl =\n",
       "          document.querySelector('#df-03ead352-0f7e-4320-906e-f8b0a03e1fb6 button.colab-df-convert');\n",
       "        buttonEl.style.display =\n",
       "          google.colab.kernel.accessAllowed ? 'block' : 'none';\n",
       "\n",
       "        async function convertToInteractive(key) {\n",
       "          const element = document.querySelector('#df-03ead352-0f7e-4320-906e-f8b0a03e1fb6');\n",
       "          const dataTable =\n",
       "            await google.colab.kernel.invokeFunction('convertToInteractive',\n",
       "                                                     [key], {});\n",
       "          if (!dataTable) return;\n",
       "\n",
       "          const docLinkHtml = 'Like what you see? Visit the ' +\n",
       "            '<a target=\"_blank\" href=https://colab.research.google.com/notebooks/data_table.ipynb>data table notebook</a>'\n",
       "            + ' to learn more about interactive tables.';\n",
       "          element.innerHTML = '';\n",
       "          dataTable['output_type'] = 'display_data';\n",
       "          await google.colab.output.renderOutput(dataTable, element);\n",
       "          const docLink = document.createElement('div');\n",
       "          docLink.innerHTML = docLinkHtml;\n",
       "          element.appendChild(docLink);\n",
       "        }\n",
       "      </script>\n",
       "    </div>\n",
       "  </div>\n",
       "  "
      ],
      "text/plain": [
       "                        clf  ...   test_f1\n",
       "8                   rf_base  ...  0.999618\n",
       "12                 rf_graph  ...  0.999523\n",
       "9        rf_base_oversample  ...  0.999141\n",
       "13      rf_graph_oversample  ...  0.999141\n",
       "10              rf_base_pca  ...  0.997710\n",
       "14             rf_graph_pca  ...  0.997328\n",
       "11   rf_base_pca_oversample  ...  0.996946\n",
       "15  rf_graph_pca_oversample  ...  0.995992\n",
       "2               lr_base_pca  ...  0.992079\n",
       "6              lr_graph_pca  ...  0.988453\n",
       "0                   lr_base  ...  0.982059\n",
       "4                  lr_graph  ...  0.975761\n",
       "7   lr_graph_pca_oversample  ...  0.825651\n",
       "5       lr_graph_oversample  ...  0.819544\n",
       "3    lr_base_pca_oversample  ...  0.801508\n",
       "1        lr_base_oversample  ...  0.793492\n",
       "\n",
       "[16 rows x 6 columns]"
      ]
     },
     "execution_count": 45,
     "metadata": {},
     "output_type": "execute_result"
    }
   ],
   "source": [
    "evaluation_df.sort_values(\"test_f1\", ascending=False)"
   ]
  },
  {
   "cell_type": "markdown",
   "metadata": {
    "id": "s-ZBRmPM7V4L"
   },
   "source": [
    "# Discussion\n",
    "\n",
    "### Overall ranking\n",
    "Overall the best classifiers are random forest classifiers, which is in keeping with the findings published along with the original dataset. Logistic regression performs remarkably well, outcompeting the graph convolutional networks. However, optimising the graph convolutional network hyperparameters is likely more challenging that for logistic regression and the random forest. Based on the space sampled thus far, it appears that there is still room for improvement, as increasing the output channel dimensions has a positive effect on the F1 score, and it has not yet reached a plateau. Additionally, the models may not have completed training, as the increase in learning rate for 200 epochs still provides increased performance.\n",
    "\n",
    "### Effect of oversampling\n",
    "In all cases the use of oversampling to during training results in worse performance.\n",
    "\n",
    "### Effect of dimensionality reduction\n",
    "In all cases the use of PCA to construct orthogonal features and reduce dimensionality results in worse performance.\n",
    "\n",
    "### Effect of manual graph features\n",
    "In most cases, the addition of graph features as created by taking the mean of each feature of a nodes first degree neighbours did not result in significant improvement in F1 score. This is likely because the existing features already include some graph related features such as in and out degree."
   ]
  },
  {
   "cell_type": "markdown",
   "metadata": {
    "id": "4A-wkPOzYfpu"
   },
   "source": [
    "# Limitations\n",
    "\n",
    "Due to time limitations, full exploration of each model was not possible, particularly for the deep learning approach. Furthermore, the fact that random forests can perform at such a high level on this data set also suggests that any classifier would be hitting some hard limit of performance ceiling, as the difference in performance between each classifier is minimal."
   ]
  }
 ],
 "metadata": {
  "colab": {
   "collapsed_sections": [],
   "name": "CIS545_Project_combined.ipynb",
   "provenance": [],
   "toc_visible": true
  },
  "kernelspec": {
   "display_name": "Python 3",
   "language": "python",
   "name": "python3"
  },
  "language_info": {
   "codemirror_mode": {
    "name": "ipython",
    "version": 3
   },
   "file_extension": ".py",
   "mimetype": "text/x-python",
   "name": "python",
   "nbconvert_exporter": "python",
   "pygments_lexer": "ipython3",
   "version": "3.8.5"
  }
 },
 "nbformat": 4,
 "nbformat_minor": 1
}
